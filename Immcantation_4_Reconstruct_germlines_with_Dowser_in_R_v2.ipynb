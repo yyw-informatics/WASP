{
  "nbformat": 4,
  "nbformat_minor": 0,
  "metadata": {
    "colab": {
      "name": "Immcantation_4_Reconstruct_germlines_with_Dowser_in_R_v2.ipynb",
      "provenance": [],
      "collapsed_sections": [],
      "machine_shape": "hm",
      "background_execution": "on",
      "authorship_tag": "ABX9TyODIIyhMR8y9lRk1VUQWcnF",
      "include_colab_link": true
    },
    "kernelspec": {
      "name": "ir",
      "display_name": "R"
    },
    "language_info": {
      "name": "R"
    },
    "gpuClass": "standard"
  },
  "cells": [
    {
      "cell_type": "markdown",
      "metadata": {
        "id": "view-in-github",
        "colab_type": "text"
      },
      "source": [
        "<a href=\"https://colab.research.google.com/github/yyw-informatics/WASP/blob/main/Immcantation_4_Reconstruct_germlines_with_Dowser_in_R_v2.ipynb\" target=\"_parent\"><img src=\"https://colab.research.google.com/assets/colab-badge.svg\" alt=\"Open In Colab\"/></a>"
      ]
    },
    {
      "cell_type": "markdown",
      "source": [
        "### In Runtime, select **High RAM**"
      ],
      "metadata": {
        "id": "ejTnxX7TTiyk"
      }
    },
    {
      "cell_type": "markdown",
      "source": [
        "## Install R packages"
      ],
      "metadata": {
        "id": "Gzbp_FXBcaYr"
      }
    },
    {
      "cell_type": "code",
      "execution_count": 3,
      "metadata": {
        "colab": {
          "base_uri": "https://localhost:8080/"
        },
        "id": "xfEkp_NYbu_m",
        "outputId": "5e7c463d-bb9c-4904-a81a-7122e53bd85c"
      },
      "outputs": [
        {
          "output_type": "stream",
          "name": "stderr",
          "text": [
            "Installing package into ‘/usr/local/lib/R/site-library’\n",
            "(as ‘lib’ is unspecified)\n",
            "\n"
          ]
        }
      ],
      "source": [
        "install.packages('easypackages')\n",
        "library(easypackages)"
      ]
    },
    {
      "cell_type": "markdown",
      "source": [
        "#### For installing packages from github or bitbucket"
      ],
      "metadata": {
        "id": "qhhFnrR48tY4"
      }
    },
    {
      "cell_type": "code",
      "source": [
        "install.packages(c(\"devtools\", \"roxygen2\", \"testthat\", \"knitr\", \"rmarkdown\", \"Rcpp\"))"
      ],
      "metadata": {
        "colab": {
          "base_uri": "https://localhost:8080/"
        },
        "id": "8S3QQ2f2cshN",
        "outputId": "0ef6e30e-d957-4614-e0e0-ad508517ad25"
      },
      "execution_count": 4,
      "outputs": [
        {
          "output_type": "stream",
          "name": "stderr",
          "text": [
            "Installing packages into ‘/usr/local/lib/R/site-library’\n",
            "(as ‘lib’ is unspecified)\n",
            "\n"
          ]
        }
      ]
    },
    {
      "cell_type": "markdown",
      "source": [
        "#### Immcantation packages - 17-20m to install"
      ],
      "metadata": {
        "id": "m9mkdprS8y_M"
      }
    },
    {
      "cell_type": "code",
      "source": [
        "library(devtools)\n",
        "install_bitbucket(\"kleinstein/alakazam@master\")\n",
        "install_bitbucket(\"kleinstein/shazam@master\")\n",
        "install.packages(\"tigger\")\n",
        "install.packages(\"scoper\")\n",
        "install_bitbucket(\"kleinstein/dowser@master\")"
      ],
      "metadata": {
        "colab": {
          "base_uri": "https://localhost:8080/"
        },
        "id": "zqNGoW35cwMS",
        "outputId": "43774e37-1478-4661-fd32-ce934d279a88"
      },
      "execution_count": 5,
      "outputs": [
        {
          "output_type": "stream",
          "name": "stderr",
          "text": [
            "Loading required package: usethis\n",
            "\n",
            "Downloading bitbucket repo kleinstein/alakazam@master\n",
            "\n"
          ]
        },
        {
          "output_type": "stream",
          "name": "stdout",
          "text": [
            "formatR      (NA    -> 1.12    ) [CRAN]\n",
            "futile.op... (NA    -> 1.0.1   ) [CRAN]\n",
            "lambda.r     (NA    -> 1.2.4   ) [CRAN]\n",
            "BH           (NA    -> 1.78.0-0) [CRAN]\n",
            "snow         (NA    -> 0.4-4   ) [CRAN]\n",
            "futile.lo... (NA    -> 1.4.3   ) [CRAN]\n",
            "GenomeInf... (NA    -> 1.2.8   ) [CRAN]\n",
            "RCurl        (NA    -> 1.98-1.7) [CRAN]\n",
            "Rhtslib      (NA    -> 1.28.0  ) [CRAN]\n",
            "BiocParallel (NA    -> 1.30.3  ) [CRAN]\n",
            "bitops       (NA    -> 1.0-7   ) [CRAN]\n",
            "zlibbioc     (NA    -> 1.42.0  ) [CRAN]\n",
            "XVector      (NA    -> 0.36.0  ) [CRAN]\n",
            "IRanges      (NA    -> 2.30.0  ) [CRAN]\n",
            "S4Vectors    (NA    -> 0.34.0  ) [CRAN]\n",
            "BiocGenerics (NA    -> 0.42.0  ) [CRAN]\n",
            "Biostrings   (NA    -> 2.64.0  ) [CRAN]\n",
            "GenomicRa... (NA    -> 1.48.0  ) [CRAN]\n",
            "GenomeInfoDb (NA    -> 1.32.2  ) [CRAN]\n",
            "matrixStats  (NA    -> 0.62.0  ) [CRAN]\n",
            "DelayedArray (NA    -> 0.22.0  ) [CRAN]\n",
            "Biobase      (NA    -> 2.56.0  ) [CRAN]\n",
            "MatrixGen... (NA    -> 1.8.1   ) [CRAN]\n",
            "rlang        (1.0.3 -> 1.0.4   ) [CRAN]\n",
            "sp           (NA    -> 1.5-0   ) [CRAN]\n",
            "pixmap       (NA    -> 0.4-12  ) [CRAN]\n",
            "Rsamtools    (NA    -> 2.12.0  ) [CRAN]\n",
            "Summarize... (NA    -> 1.26.1  ) [CRAN]\n",
            "segmented    (NA    -> 1.6-0   ) [CRAN]\n",
            "ade4         (NA    -> 1.7-19  ) [CRAN]\n",
            "stringi      (1.7.6 -> 1.7.8   ) [CRAN]\n",
            "GenomicAl... (NA    -> 1.32.0  ) [CRAN]\n",
            "seqinr       (NA    -> 4.2-16  ) [CRAN]\n",
            "igraph       (NA    -> 1.3.3   ) [CRAN]\n",
            "ape          (NA    -> 5.6-2   ) [CRAN]\n",
            "airr         (NA    -> 1.3.0   ) [CRAN]\n"
          ]
        },
        {
          "output_type": "stream",
          "name": "stderr",
          "text": [
            "Installing 36 packages: formatR, futile.options, lambda.r, BH, snow, futile.logger, GenomeInfoDbData, RCurl, Rhtslib, BiocParallel, bitops, zlibbioc, XVector, IRanges, S4Vectors, BiocGenerics, Biostrings, GenomicRanges, GenomeInfoDb, matrixStats, DelayedArray, Biobase, MatrixGenerics, rlang, sp, pixmap, Rsamtools, SummarizedExperiment, segmented, ade4, stringi, GenomicAlignments, seqinr, igraph, ape, airr\n",
            "\n",
            "Installing packages into ‘/usr/local/lib/R/site-library’\n",
            "(as ‘lib’ is unspecified)\n",
            "\n"
          ]
        },
        {
          "output_type": "stream",
          "name": "stdout",
          "text": [
            "* checking for file ‘/tmp/RtmptWsTbp/remotes4f6e5b487c/kleinstein-alakazam-9ffa2b2c253d/DESCRIPTION’ ... OK\n",
            "* preparing ‘alakazam’:\n",
            "* checking DESCRIPTION meta-information ... OK\n",
            "* cleaning src\n",
            "* checking for LF line-endings in source and make files and shell scripts\n",
            "* checking for empty or unneeded directories\n",
            "* building ‘alakazam_1.2.0.9999.tar.gz’\n",
            "\n"
          ]
        },
        {
          "output_type": "stream",
          "name": "stderr",
          "text": [
            "Installing package into ‘/usr/local/lib/R/site-library’\n",
            "(as ‘lib’ is unspecified)\n",
            "\n",
            "Downloading bitbucket repo kleinstein/shazam@master\n",
            "\n"
          ]
        },
        {
          "output_type": "stream",
          "name": "stdout",
          "text": [
            "iterators  (NA -> 1.0.14) [CRAN]\n",
            "foreach    (NA -> 1.5.2 ) [CRAN]\n",
            "lazyeval   (NA -> 0.2.2 ) [CRAN]\n",
            "doParallel (NA -> 1.0.17) [CRAN]\n",
            "diptest    (NA -> 0.76-0) [CRAN]\n"
          ]
        },
        {
          "output_type": "stream",
          "name": "stderr",
          "text": [
            "Installing 5 packages: iterators, foreach, lazyeval, doParallel, diptest\n",
            "\n",
            "Installing packages into ‘/usr/local/lib/R/site-library’\n",
            "(as ‘lib’ is unspecified)\n",
            "\n"
          ]
        },
        {
          "output_type": "stream",
          "name": "stdout",
          "text": [
            "* checking for file ‘/tmp/RtmptWsTbp/remotes4f6a784afc/kleinstein-shazam-7443d21b393e/DESCRIPTION’ ... OK\n",
            "* preparing ‘shazam’:\n",
            "* checking DESCRIPTION meta-information ... OK\n",
            "* checking for LF line-endings in source and make files and shell scripts\n",
            "* checking for empty or unneeded directories\n",
            "* building ‘shazam_1.1.1.999.tar.gz’\n",
            "\n"
          ]
        },
        {
          "output_type": "stream",
          "name": "stderr",
          "text": [
            "Installing package into ‘/usr/local/lib/R/site-library’\n",
            "(as ‘lib’ is unspecified)\n",
            "\n",
            "Installing package into ‘/usr/local/lib/R/site-library’\n",
            "(as ‘lib’ is unspecified)\n",
            "\n",
            "also installing the dependencies ‘gridExtra’, ‘gtools’\n",
            "\n",
            "\n",
            "Installing package into ‘/usr/local/lib/R/site-library’\n",
            "(as ‘lib’ is unspecified)\n",
            "\n",
            "Downloading bitbucket repo kleinstein/dowser@master\n",
            "\n"
          ]
        },
        {
          "output_type": "stream",
          "name": "stdout",
          "text": [
            "yulab.utils  (NA -> 0.0.5 ) [CRAN]\n",
            "tidytree     (NA -> 0.3.9 ) [CRAN]\n",
            "gridGraphics (NA -> 0.5-1 ) [CRAN]\n",
            "patchwork    (NA -> 1.1.1 ) [CRAN]\n",
            "ggplotify    (NA -> 0.1.0 ) [CRAN]\n",
            "ggfun        (NA -> 0.0.6 ) [CRAN]\n",
            "quadprog     (NA -> 1.5-8 ) [CRAN]\n",
            "fastmatch    (NA -> 1.1-3 ) [CRAN]\n",
            "treeio       (NA -> 1.20.1) [CRAN]\n",
            "aplot        (NA -> 0.1.6 ) [CRAN]\n",
            "phylotate    (NA -> 1.3   ) [CRAN]\n",
            "phangorn     (NA -> 2.9.0 ) [CRAN]\n",
            "markdown     (NA -> 1.1   ) [CRAN]\n",
            "ggtree       (NA -> 3.4.1 ) [CRAN]\n"
          ]
        },
        {
          "output_type": "stream",
          "name": "stderr",
          "text": [
            "Installing 14 packages: yulab.utils, tidytree, gridGraphics, patchwork, ggplotify, ggfun, quadprog, fastmatch, treeio, aplot, phylotate, phangorn, markdown, ggtree\n",
            "\n",
            "Installing packages into ‘/usr/local/lib/R/site-library’\n",
            "(as ‘lib’ is unspecified)\n",
            "\n"
          ]
        },
        {
          "output_type": "stream",
          "name": "stdout",
          "text": [
            "* checking for file ‘/tmp/RtmptWsTbp/remotes4fbb647f7/kleinstein-dowser-0577d6cd455a/DESCRIPTION’ ... OK\n",
            "* preparing ‘dowser’:\n",
            "* checking DESCRIPTION meta-information ... OK\n",
            "* checking for LF line-endings in source and make files and shell scripts\n",
            "* checking for empty or unneeded directories\n",
            "* building ‘dowser_1.0.0.999.tar.gz’\n",
            "\n"
          ]
        },
        {
          "output_type": "stream",
          "name": "stderr",
          "text": [
            "Installing package into ‘/usr/local/lib/R/site-library’\n",
            "(as ‘lib’ is unspecified)\n",
            "\n"
          ]
        }
      ]
    },
    {
      "cell_type": "code",
      "source": [
        "libraries('alakazam','shazam','tigger','scoper','dowser')"
      ],
      "metadata": {
        "colab": {
          "base_uri": "https://localhost:8080/"
        },
        "id": "yUh_WPwvc4Sm",
        "outputId": "8d5b31dd-77cc-4df6-8720-f626823443c9"
      },
      "execution_count": 6,
      "outputs": [
        {
          "output_type": "stream",
          "name": "stderr",
          "text": [
            "Loading required package: alakazam\n",
            "\n",
            "Loading required package: ggplot2\n",
            "\n",
            "As of v1.0.0 the AIRR Rearrangement schema is now the default file format.\n",
            "A description of the standard is available at https://docs.airr-community.org.\n",
            "The legacy Change-O format is supported through arguments to each function\n",
            "that allow the input column names to be explicitly defined.\n",
            "\n",
            "Loading required package: shazam\n",
            "\n",
            "As of v1.0.0 the AIRR Rearrangement schema is now the default file format.\n",
            "A description of the standard is available at https://docs.airr-community.org.\n",
            "The legacy Change-O format is supported through arguments to each function\n",
            "that allow the input column names to be explicitly defined.\n",
            "\n",
            "Loading required package: tigger\n",
            "\n",
            "As of v1.0.0 the AIRR Rearrangement schema is now the default file format.\n",
            "A description of the standard is available at https://docs.airr-community.org.\n",
            "The legacy Change-O format is supported through arguments to each function\n",
            "that allow the input column names to be explicitly defined.\n",
            "\n",
            "Loading required package: scoper\n",
            "\n",
            "As of v1.0.0 the AIRR Rearrangement schema is now the default file format.\n",
            "A description of the standard is available at https://docs.airr-community.org.\n",
            "The legacy Change-O format is supported through arguments to each function\n",
            "that allow the input column names to be explicitly defined.\n",
            "\n",
            "\n",
            "Attaching package: ‘scoper’\n",
            "\n",
            "\n",
            "The following object is masked from ‘package:alakazam’:\n",
            "\n",
            "    ExampleDb\n",
            "\n",
            "\n",
            "Loading required package: dowser\n",
            "\n",
            "\n",
            "Attaching package: ‘dowser’\n",
            "\n",
            "\n",
            "The following object is masked from ‘package:alakazam’:\n",
            "\n",
            "    ExampleDbChangeo\n",
            "\n",
            "\n",
            "All packages loaded successfully\n",
            "\n"
          ]
        }
      ]
    },
    {
      "cell_type": "markdown",
      "source": [
        "#### For data analysis and figures"
      ],
      "metadata": {
        "id": "bVUQrj8hC1qS"
      }
    },
    {
      "cell_type": "code",
      "source": [
        "install.packages(c(\"data.table\",\"dplyr\",\"ggplot2\",\"cowplot\",\"gridExtra\",\"ggpubr\"))\n",
        "libraries(\"data.table\",\"dplyr\",\"ggplot2\",\"cowplot\",\"gridExtra\",\"ggpubr\")"
      ],
      "metadata": {
        "colab": {
          "base_uri": "https://localhost:8080/"
        },
        "id": "KbM8R07SCRy7",
        "outputId": "28f14f5f-d8f7-41e7-dc35-11fcf128249d"
      },
      "execution_count": 7,
      "outputs": [
        {
          "output_type": "stream",
          "name": "stderr",
          "text": [
            "Installing packages into ‘/usr/local/lib/R/site-library’\n",
            "(as ‘lib’ is unspecified)\n",
            "\n",
            "also installing the dependencies ‘numDeriv’, ‘SparseM’, ‘MatrixModels’, ‘minqa’, ‘nloptr’, ‘RcppEigen’, ‘carData’, ‘abind’, ‘pbkrtest’, ‘quantreg’, ‘maptools’, ‘lme4’, ‘corrplot’, ‘car’, ‘ggrepel’, ‘ggsci’, ‘ggsignif’, ‘polynom’, ‘rstatix’\n",
            "\n",
            "\n",
            "Loading required package: data.table\n",
            "\n",
            "Loading required package: dplyr\n",
            "\n",
            "\n",
            "Attaching package: ‘dplyr’\n",
            "\n",
            "\n",
            "The following objects are masked from ‘package:data.table’:\n",
            "\n",
            "    between, first, last\n",
            "\n",
            "\n",
            "The following objects are masked from ‘package:stats’:\n",
            "\n",
            "    filter, lag\n",
            "\n",
            "\n",
            "The following objects are masked from ‘package:base’:\n",
            "\n",
            "    intersect, setdiff, setequal, union\n",
            "\n",
            "\n",
            "Loading required package: cowplot\n",
            "\n",
            "Loading required package: gridExtra\n",
            "\n",
            "\n",
            "Attaching package: ‘gridExtra’\n",
            "\n",
            "\n",
            "The following object is masked from ‘package:dplyr’:\n",
            "\n",
            "    combine\n",
            "\n",
            "\n",
            "Loading required package: ggpubr\n",
            "\n",
            "\n",
            "Attaching package: ‘ggpubr’\n",
            "\n",
            "\n",
            "The following object is masked from ‘package:cowplot’:\n",
            "\n",
            "    get_legend\n",
            "\n",
            "\n",
            "All packages loaded successfully\n",
            "\n"
          ]
        }
      ]
    },
    {
      "cell_type": "markdown",
      "source": [
        "### Download Immcantation scripts \n",
        "Folder `Immcantation` will be created"
      ],
      "metadata": {
        "id": "z-o7h1Nf4H6U"
      }
    },
    {
      "cell_type": "code",
      "source": [
        "system2(command = \"git\", \n",
        "        args    = c(\"clone\", \"https://bitbucket.org/kleinstein/immcantation.git\"))"
      ],
      "metadata": {
        "id": "KypuiS9V3LBm"
      },
      "execution_count": 8,
      "outputs": []
    },
    {
      "cell_type": "markdown",
      "source": [
        "### Download IMGT germline references\n",
        "This will create folders `human`, `mouse`, `rabbit`, `rat`, and `rhesus_monkey`. This step can take 40 min."
      ],
      "metadata": {
        "id": "mbqut31y1xBw"
      }
    },
    {
      "cell_type": "code",
      "source": [
        "#system2(command = \"bash\", args = c(\"./immcantation/scripts/fetch_imgtdb.sh\"))"
      ],
      "metadata": {
        "id": "1fm4JxDx4N8c"
      },
      "execution_count": 9,
      "outputs": []
    },
    {
      "cell_type": "markdown",
      "source": [
        "## Read clone data in rds format "
      ],
      "metadata": {
        "id": "TfuL8A6KyaFs"
      }
    },
    {
      "cell_type": "code",
      "source": [
        "results <- readRDS('hierarchicalClones_results.rds')\n",
        "#results_spec <- readRDS('spectralClones_results.rds')\n",
        "#results_nt <- readRDS('identicalClones_nt_results.rds')\n",
        "#results_aa <- readRDS('identicalClones_aa_results.rds')"
      ],
      "metadata": {
        "id": "WcTM_fJ_xt_v"
      },
      "execution_count": 10,
      "outputs": []
    },
    {
      "cell_type": "markdown",
      "source": [
        "## Create Germlines\n",
        "[`createGermlines`](https://dowser.readthedocs.io/en/latest/topics/createGermlines/) determines consenus clone sequence and create germline for clone.\n"
      ],
      "metadata": {
        "id": "E8Vs2Rmlgths"
      }
    },
    {
      "cell_type": "markdown",
      "source": [
        "### For clones generated from hierachical clustering"
      ],
      "metadata": {
        "id": "SyIF3DsRvqdf"
      }
    },
    {
      "cell_type": "markdown",
      "source": [
        "Just upload the file from google drive: germlines -> igmt -> select human to upload -> vdj "
      ],
      "metadata": {
        "id": "fTQRc4hMzE6M"
      }
    },
    {
      "cell_type": "code",
      "source": [
        "references <- readIMGT(dir = \"/content/human/vdj\")\n",
        "h <- createGermlines(filter(results@db, locus == \"IGH\"), references)\n",
        "k <- createGermlines(filter(results@db, locus == \"IGK\"), references, locus = \"IGK\")\n",
        "l <- createGermlines(filter(results@db, locus == \"IGL\"), references, locus = \"IGL\")"
      ],
      "metadata": {
        "colab": {
          "base_uri": "https://localhost:8080/"
        },
        "id": "BS9UVXcO9P5n",
        "outputId": "f1a6f708-09d3-4146-da4b-29be67674e87"
      },
      "execution_count": 11,
      "outputs": [
        {
          "output_type": "stream",
          "name": "stdout",
          "text": [
            "[1] \"Read in 1148 from 17 fasta files\"\n",
            "<simpleError in buildGermline(cons, references = sub_db, seq = seq, v_call = v_call,     j_call = j_call, j_germ_length = j_germ_length, amino_acid = amino_acid,     ...): Germline sequence differs from input sequence by -6 in clone 56>\n",
            "<simpleError in buildGermline(cons, references = sub_db, seq = seq, v_call = v_call,     j_call = j_call, j_germ_length = j_germ_length, amino_acid = amino_acid,     ...): Germline sequence differs from input sequence by -5 in clone 258>\n",
            "<simpleError in buildGermline(cons, references = sub_db, seq = seq, v_call = v_call,     j_call = j_call, j_germ_length = j_germ_length, amino_acid = amino_acid,     ...): Germline sequence differs from input sequence by -5 in clone 925>\n"
          ]
        }
      ]
    },
    {
      "cell_type": "code",
      "source": [
        "results@db %>% filter(locus == \"IGH\") %>% dim()\n",
        "results@db %>% filter(locus == \"IGK\") %>% dim()\n",
        "results@db %>% filter(locus == \"IGL\") %>% dim()"
      ],
      "metadata": {
        "colab": {
          "base_uri": "https://localhost:8080/",
          "height": 69
        },
        "id": "iVHrKAHU47HJ",
        "outputId": "0ee67637-1d3f-49d6-c318-94b017a8b6e8"
      },
      "execution_count": 12,
      "outputs": [
        {
          "output_type": "display_data",
          "data": {
            "text/html": [
              "<style>\n",
              ".list-inline {list-style: none; margin:0; padding: 0}\n",
              ".list-inline>li {display: inline-block}\n",
              ".list-inline>li:not(:last-child)::after {content: \"\\00b7\"; padding: 0 .5ex}\n",
              "</style>\n",
              "<ol class=list-inline><li>7527</li><li>59</li></ol>\n"
            ],
            "text/markdown": "1. 7527\n2. 59\n\n\n",
            "text/latex": "\\begin{enumerate*}\n\\item 7527\n\\item 59\n\\end{enumerate*}\n",
            "text/plain": [
              "[1] 7527   59"
            ]
          },
          "metadata": {}
        },
        {
          "output_type": "display_data",
          "data": {
            "text/html": [
              "<style>\n",
              ".list-inline {list-style: none; margin:0; padding: 0}\n",
              ".list-inline>li {display: inline-block}\n",
              ".list-inline>li:not(:last-child)::after {content: \"\\00b7\"; padding: 0 .5ex}\n",
              "</style>\n",
              "<ol class=list-inline><li>4950</li><li>59</li></ol>\n"
            ],
            "text/markdown": "1. 4950\n2. 59\n\n\n",
            "text/latex": "\\begin{enumerate*}\n\\item 4950\n\\item 59\n\\end{enumerate*}\n",
            "text/plain": [
              "[1] 4950   59"
            ]
          },
          "metadata": {}
        },
        {
          "output_type": "display_data",
          "data": {
            "text/html": [
              "<style>\n",
              ".list-inline {list-style: none; margin:0; padding: 0}\n",
              ".list-inline>li {display: inline-block}\n",
              ".list-inline>li:not(:last-child)::after {content: \"\\00b7\"; padding: 0 .5ex}\n",
              "</style>\n",
              "<ol class=list-inline><li>2809</li><li>59</li></ol>\n"
            ],
            "text/markdown": "1. 2809\n2. 59\n\n\n",
            "text/latex": "\\begin{enumerate*}\n\\item 2809\n\\item 59\n\\end{enumerate*}\n",
            "text/plain": [
              "[1] 2809   59"
            ]
          },
          "metadata": {}
        }
      ]
    },
    {
      "cell_type": "code",
      "source": [
        "glimpse(h)"
      ],
      "metadata": {
        "colab": {
          "base_uri": "https://localhost:8080/"
        },
        "id": "twaVk3H7z0cH",
        "outputId": "2dda439f-f9ce-4477-fb97-84dda11d048c"
      },
      "execution_count": 13,
      "outputs": [
        {
          "output_type": "stream",
          "name": "stdout",
          "text": [
            "Rows: 7,523\n",
            "Columns: 63\n",
            "$ sequence_id               \u001b[3m\u001b[90m<chr>\u001b[39m\u001b[23m \"CAGGTGCAGAAACCAT-1_contig_2\", \"CTCAGAACAAAC…\n",
            "$ sequence                  \u001b[3m\u001b[90m<chr>\u001b[39m\u001b[23m \"ACCCAAAAACCACACCCCTCCTTGGGAGAATCCCCTAGATCAC…\n",
            "$ rev_comp                  \u001b[3m\u001b[90m<lgl>\u001b[39m\u001b[23m FALSE, FALSE, FALSE, FALSE, FALSE, FALSE, FA…\n",
            "$ productive                \u001b[3m\u001b[90m<lgl>\u001b[39m\u001b[23m TRUE, TRUE, TRUE, TRUE, TRUE, TRUE, TRUE, TR…\n",
            "$ v_call                    \u001b[3m\u001b[90m<chr>\u001b[39m\u001b[23m \"IGHV1-18*01\", \"IGHV3-33*06\", \"IGHV3-30*02,I…\n",
            "$ d_call                    \u001b[3m\u001b[90m<chr>\u001b[39m\u001b[23m \"IGHD6-13*01\", \"IGHD2-15*01\", \"IGHD1-1*01,IG…\n",
            "$ j_call                    \u001b[3m\u001b[90m<chr>\u001b[39m\u001b[23m \"IGHJ1*01\", \"IGHJ6*02\", \"IGHJ6*03\", \"IGHJ4*0…\n",
            "$ sequence_alignment        \u001b[3m\u001b[90m<chr>\u001b[39m\u001b[23m \"CAGGTTCAGCTGGTGCAGTCTGGAGCT...GAGGTGAAGAAGC…\n",
            "$ germline_alignment        \u001b[3m\u001b[90m<chr>\u001b[39m\u001b[23m \"CAGGTTCAGCTGGTGCAGTCTGGAGCT...GAGGTGAAGAAGC…\n",
            "$ junction                  \u001b[3m\u001b[90m<chr>\u001b[39m\u001b[23m \"TGTGCGAGAGAACAGTATAGCAGCAGCTGGTATAAGCCGGGGG…\n",
            "$ junction_aa               \u001b[3m\u001b[90m<chr>\u001b[39m\u001b[23m \"CAREQYSSSWYKPGGFQHW\", \"CAKDSGCSGGSCYSGAHYYY…\n",
            "$ v_cigar                   \u001b[3m\u001b[90m<chr>\u001b[39m\u001b[23m \"111S296=\", \"174S296=\", \"137S179=1X114=\", \"1…\n",
            "$ d_cigar                   \u001b[3m\u001b[90m<chr>\u001b[39m\u001b[23m \"410S2N18=\", \"476S6N25=\", \"434S9N6=\", \"421S7…\n",
            "$ j_cigar                   \u001b[3m\u001b[90m<chr>\u001b[39m\u001b[23m \"441S9N43=\", \"508S6N56=\", \"442S4N58=\", \"435S…\n",
            "$ stop_codon                \u001b[3m\u001b[90m<lgl>\u001b[39m\u001b[23m FALSE, FALSE, FALSE, FALSE, FALSE, FALSE, FA…\n",
            "$ vj_in_frame               \u001b[3m\u001b[90m<lgl>\u001b[39m\u001b[23m TRUE, TRUE, TRUE, TRUE, TRUE, TRUE, TRUE, TR…\n",
            "$ locus                     \u001b[3m\u001b[90m<chr>\u001b[39m\u001b[23m \"IGH\", \"IGH\", \"IGH\", \"IGH\", \"IGH\", \"IGH\", \"I…\n",
            "$ junction_length           \u001b[3m\u001b[90m<dbl>\u001b[39m\u001b[23m 57, 75, 48, 42, 51, 60, 33, 33, 48, 51, 42, …\n",
            "$ np1_length                \u001b[3m\u001b[90m<dbl>\u001b[39m\u001b[23m 3, 6, 3, 11, 4, 16, 1, 2, 7, 3, 8, 1, 4, 10,…\n",
            "$ np2_length                \u001b[3m\u001b[90m<dbl>\u001b[39m\u001b[23m 13, 7, 2, 6, 9, 4, 1, 2, 6, 10, 6, NA, 5, 5,…\n",
            "$ v_sequence_start          \u001b[3m\u001b[90m<dbl>\u001b[39m\u001b[23m 112, 175, 138, 118, 137, 137, 137, 137, 137,…\n",
            "$ v_sequence_end            \u001b[3m\u001b[90m<dbl>\u001b[39m\u001b[23m 407, 470, 431, 410, 428, 427, 424, 427, 431,…\n",
            "$ v_germline_start          \u001b[3m\u001b[90m<dbl>\u001b[39m\u001b[23m 1, 1, 1, 1, 1, 1, 1, 1, 1, 1, 1, 1, 1, 1, 1,…\n",
            "$ v_germline_end            \u001b[3m\u001b[90m<dbl>\u001b[39m\u001b[23m 320, 320, 318, 320, 319, 318, 315, 318, 319,…\n",
            "$ d_sequence_start          \u001b[3m\u001b[90m<dbl>\u001b[39m\u001b[23m 411, 477, 435, 422, 433, 444, 426, 430, 439,…\n",
            "$ d_sequence_end            \u001b[3m\u001b[90m<dbl>\u001b[39m\u001b[23m 428, 501, 440, 429, 454, 465, 442, 439, 450,…\n",
            "$ d_germline_start          \u001b[3m\u001b[90m<dbl>\u001b[39m\u001b[23m 3, 7, 10, 8, 4, 3, 5, 10, 8, 1, 9, NA, 4, 8,…\n",
            "$ d_germline_end            \u001b[3m\u001b[90m<dbl>\u001b[39m\u001b[23m 20, 31, 15, 15, 25, 24, 21, 19, 19, 18, 15, …\n",
            "$ j_sequence_start          \u001b[3m\u001b[90m<dbl>\u001b[39m\u001b[23m 442, 509, 443, 436, 464, 470, 444, 442, 457,…\n",
            "$ j_sequence_end            \u001b[3m\u001b[90m<dbl>\u001b[39m\u001b[23m 484, 564, 500, 472, 500, 509, 482, 482, 500,…\n",
            "$ j_germline_start          \u001b[3m\u001b[90m<dbl>\u001b[39m\u001b[23m 10, 7, 5, 12, 12, 9, 10, 8, 5, 9, 6, 8, 15, …\n",
            "$ j_germline_end            \u001b[3m\u001b[90m<dbl>\u001b[39m\u001b[23m 52, 62, 62, 48, 48, 48, 48, 48, 48, 48, 48, …\n",
            "$ v_score                   \u001b[3m\u001b[90m<dbl>\u001b[39m\u001b[23m 463, 463, 456, 455, 456, 455, 450, 455, 461,…\n",
            "$ v_identity                \u001b[3m\u001b[90m<dbl>\u001b[39m\u001b[23m 1.00000, 1.00000, 0.99660, 0.99659, 1.00000,…\n",
            "$ v_support                 \u001b[3m\u001b[90m<dbl>\u001b[39m\u001b[23m 3.77e-132, 4.35e-132, 2.93e-130, 8.16e-130, …\n",
            "$ d_score                   \u001b[3m\u001b[90m<dbl>\u001b[39m\u001b[23m 35.3, 48.8, 12.2, 16.1, 43.0, 43.0, 33.4, 14…\n",
            "$ d_identity                \u001b[3m\u001b[90m<dbl>\u001b[39m\u001b[23m 1.00000, 1.00000, 1.00000, 1.00000, 1.00000,…\n",
            "$ d_support                 \u001b[3m\u001b[90m<dbl>\u001b[39m\u001b[23m 8.14e-06, 8.30e-10, 7.40e+01, 4.90e+00, 4.28…\n",
            "$ j_score                   \u001b[3m\u001b[90m<dbl>\u001b[39m\u001b[23m 83.4, 108.0, 112.0, 71.8, 71.8, 77.6, 75.7, …\n",
            "$ j_identity                \u001b[3m\u001b[90m<dbl>\u001b[39m\u001b[23m 1.00000, 1.00000, 1.00000, 1.00000, 1.00000,…\n",
            "$ j_support                 \u001b[3m\u001b[90m<dbl>\u001b[39m\u001b[23m 4.70e-20, 1.61e-27, 1.01e-28, 1.36e-16, 1.52…\n",
            "$ fwr1                      \u001b[3m\u001b[90m<chr>\u001b[39m\u001b[23m \"CAGGTTCAGCTGGTGCAGTCTGGAGCT...GAGGTGAAGAAGC…\n",
            "$ fwr2                      \u001b[3m\u001b[90m<chr>\u001b[39m\u001b[23m \"ATCAGCTGGGTGCGACAGGCCCCTGGACAAGGGCTTGAGTGGA…\n",
            "$ fwr3                      \u001b[3m\u001b[90m<chr>\u001b[39m\u001b[23m \"AACTATGCACAGAAGCTCCAG...GGCAGAGTCACCATGACCA…\n",
            "$ fwr4                      \u001b[3m\u001b[90m<chr>\u001b[39m\u001b[23m \"TGGGGCCAGGGCACCCTGGTCACCGTCTCCTCAG\", \"TGGGG…\n",
            "$ cdr1                      \u001b[3m\u001b[90m<chr>\u001b[39m\u001b[23m \"GGTTACACCTTT............ACCAGCTATGGT\", \"GGA…\n",
            "$ cdr2                      \u001b[3m\u001b[90m<chr>\u001b[39m\u001b[23m \"ATCAGCGCTTAC......AATGGTAACACA\", \"ATATGGTAT…\n",
            "$ cdr3                      \u001b[3m\u001b[90m<chr>\u001b[39m\u001b[23m \"GCGAGAGAACAGTATAGCAGCAGCTGGTATAAGCCGGGGGGGT…\n",
            "$ cell_id                   \u001b[3m\u001b[90m<chr>\u001b[39m\u001b[23m \"CAGGTGCAGAAACCAT-1\", \"CTCAGAACAAACCTAC-1\", …\n",
            "$ c_call                    \u001b[3m\u001b[90m<chr>\u001b[39m\u001b[23m \"IGHM\", \"IGHM\", \"IGHM\", \"IGHM\", \"IGHD\", \"IGH…\n",
            "$ consensus_count           \u001b[3m\u001b[90m<dbl>\u001b[39m\u001b[23m 2060, 780, 680, 1300, 160, 1742, 1618, 632, …\n",
            "$ umi_count                 \u001b[3m\u001b[90m<dbl>\u001b[39m\u001b[23m 33, 11, 12, 17, 3, 30, 26, 10, 21, 6, 5, 13,…\n",
            "$ v_call_10x                \u001b[3m\u001b[90m<chr>\u001b[39m\u001b[23m \"IGHV1-18\", \"IGHV3-33\", \"IGHV3-33\", \"IGHV3-6…\n",
            "$ d_call_10x                \u001b[3m\u001b[90m<chr>\u001b[39m\u001b[23m \"IGHD6-13\", \"IGHD2-15\", NA, NA, \"IGHD2-15\", …\n",
            "$ j_call_10x                \u001b[3m\u001b[90m<chr>\u001b[39m\u001b[23m \"IGHJ1\", \"IGHJ6\", \"IGHJ6\", \"IGHJ4\", \"IGHJ4\",…\n",
            "$ junction_10x              \u001b[3m\u001b[90m<chr>\u001b[39m\u001b[23m \"TGTGCGAGAGAACAGTATAGCAGCAGCTGGTATAAGCCGGGGG…\n",
            "$ junction_10x_aa           \u001b[3m\u001b[90m<chr>\u001b[39m\u001b[23m \"CAREQYSSSWYKPGGFQHW\", \"CAKDSGCSGGSCYSGAHYYY…\n",
            "$ v_call_genotyped          \u001b[3m\u001b[90m<chr>\u001b[39m\u001b[23m \"IGHV1-18*01\", \"IGHV3-33*06\", \"IGHV3-30*02_T…\n",
            "$ clone_id                  \u001b[3m\u001b[90m<chr>\u001b[39m\u001b[23m \"1\", \"2\", \"3\", \"4\", \"5\", \"6\", \"7\", \"8\", \"9\",…\n",
            "$ v_germline_length         \u001b[3m\u001b[90m<dbl>\u001b[39m\u001b[23m 320, 320, 318, 320, 319, 318, 315, 318, 319,…\n",
            "$ d_germline_length         \u001b[3m\u001b[90m<dbl>\u001b[39m\u001b[23m 18, 25, 6, 8, 22, 22, 17, 10, 12, 18, 7, NA,…\n",
            "$ j_germline_length         \u001b[3m\u001b[90m<dbl>\u001b[39m\u001b[23m 43, 56, 58, 37, 37, 40, 39, 41, 44, 40, 43, …\n",
            "$ germline_alignment_d_mask \u001b[3m\u001b[90m<chr>\u001b[39m\u001b[23m \"CAGGTTCAGCTGGTGCAGTCTGGAGCT...GAGGTGAAGAAGC…\n"
          ]
        }
      ]
    },
    {
      "cell_type": "markdown",
      "source": [
        "### For clones generated from amino acid sequence similarity "
      ],
      "metadata": {
        "id": "j7Zjwcr_wg81"
      }
    },
    {
      "cell_type": "code",
      "source": [
        "#h_aa <- createGermlines(filter(results_aa@db, locus == \"IGH\"), references)\n",
        "#k_aa <- createGermlines(filter(results_aa@db, locus == \"IGK\"), references, locus = \"IGK\")\n",
        "#l_aa <- createGermlines(filter(results_aa@db, locus == \"IGL\"), references, locus = \"IGL\")"
      ],
      "metadata": {
        "id": "aQeX9NldwYW-"
      },
      "execution_count": 14,
      "outputs": []
    },
    {
      "cell_type": "markdown",
      "source": [
        "## Calculate Somatic Hyper Mutations frequency in V gene\n",
        "\n",
        "`observeMutations` calculates the observed number of mutations for each sequence."
      ],
      "metadata": {
        "id": "Ex8ePoOErQHS"
      }
    },
    {
      "cell_type": "markdown",
      "source": [
        "### Hierachical clustered clones"
      ],
      "metadata": {
        "id": "4XQZoGg8w4xU"
      }
    },
    {
      "cell_type": "code",
      "source": [
        "data_h <- observedMutations(h, \n",
        "                            sequenceColumn = \"sequence_alignment\",\n",
        "                            germlineColumn = \"germline_alignment_d_mask\",\n",
        "                            regionDefinition = IMGT_V,\n",
        "                            frequency = TRUE,\n",
        "                            combine = TRUE, \n",
        "                            nproc = 5)"
      ],
      "metadata": {
        "id": "jkyqgae3faVn"
      },
      "execution_count": 15,
      "outputs": []
    },
    {
      "cell_type": "code",
      "source": [
        "data_l <- observedMutations(l, \n",
        "                            sequenceColumn = \"sequence_alignment\",\n",
        "                            germlineColumn = \"germline_alignment\",\n",
        "                            regionDefinition = IMGT_V,\n",
        "                            frequency = TRUE,\n",
        "                            combine = TRUE, \n",
        "                            nproc = 5)"
      ],
      "metadata": {
        "id": "C13ZW4bFEqkD"
      },
      "execution_count": 16,
      "outputs": []
    },
    {
      "cell_type": "code",
      "source": [
        "data_k <- observedMutations(k, \n",
        "                            sequenceColumn = \"sequence_alignment\",\n",
        "                            germlineColumn = \"germline_alignment\",\n",
        "                            regionDefinition = IMGT_V,\n",
        "                            frequency = TRUE,\n",
        "                            combine = TRUE, \n",
        "                            nproc = 5)"
      ],
      "metadata": {
        "id": "otyWvdmrGeVb"
      },
      "execution_count": 17,
      "outputs": []
    },
    {
      "cell_type": "markdown",
      "source": [
        "New column `mu_freq` added to `h` in the previou step"
      ],
      "metadata": {
        "id": "y3EsF7Vl0SxA"
      }
    },
    {
      "cell_type": "code",
      "source": [
        "data_h$mu_freq %>% head()"
      ],
      "metadata": {
        "colab": {
          "base_uri": "https://localhost:8080/",
          "height": 34
        },
        "id": "QqryZaFJ0Ds_",
        "outputId": "1055688d-93ed-48ee-8710-277769d28a8d"
      },
      "execution_count": 18,
      "outputs": [
        {
          "output_type": "display_data",
          "data": {
            "text/html": [
              "<style>\n",
              ".list-inline {list-style: none; margin:0; padding: 0}\n",
              ".list-inline>li {display: inline-block}\n",
              ".list-inline>li:not(:last-child)::after {content: \"\\00b7\"; padding: 0 .5ex}\n",
              "</style>\n",
              "<ol class=list-inline><li>0</li><li>0</li><li>0.00347222222222222</li><li>0</li><li>0</li><li>0</li></ol>\n"
            ],
            "text/markdown": "1. 0\n2. 0\n3. 0.00347222222222222\n4. 0\n5. 0\n6. 0\n\n\n",
            "text/latex": "\\begin{enumerate*}\n\\item 0\n\\item 0\n\\item 0.00347222222222222\n\\item 0\n\\item 0\n\\item 0\n\\end{enumerate*}\n",
            "text/plain": [
              "[1] 0.000000000 0.000000000 0.003472222 0.000000000 0.000000000 0.000000000"
            ]
          },
          "metadata": {}
        }
      ]
    },
    {
      "cell_type": "markdown",
      "source": [
        "### Amino Acid sequence clustered clones"
      ],
      "metadata": {
        "id": "ofIx5McnxFdK"
      }
    },
    {
      "cell_type": "code",
      "source": [
        "#data_h_aa <- observedMutations(h_aa, \n",
        "#                            sequenceColumn = \"sequence_alignment\",\n",
        "#                            germlineColumn = \"germline_alignment_d_mask\",\n",
        "#                            regionDefinition = IMGT_V,\n",
        "#                            frequency = TRUE,\n",
        "#                            combine = TRUE, \n",
        "#                            nproc = 5)"
      ],
      "metadata": {
        "id": "cJGIDqznxCPL"
      },
      "execution_count": 19,
      "outputs": []
    },
    {
      "cell_type": "code",
      "source": [
        "#glimpse(data_h)"
      ],
      "metadata": {
        "id": "JFr7gRQc9hkf"
      },
      "execution_count": 20,
      "outputs": []
    },
    {
      "cell_type": "markdown",
      "source": [
        "## Visualize median mutation frequency"
      ],
      "metadata": {
        "id": "hCRNJ4wIwLq3"
      }
    },
    {
      "cell_type": "markdown",
      "source": [
        "### Hierachical clustered clones"
      ],
      "metadata": {
        "id": "uQu9fiosG_kn"
      }
    },
    {
      "cell_type": "code",
      "source": [
        "# calculate the median mutation frequency of a clone\n",
        "mut_freq_clone <- data_h %>% group_by(clone_id) %>% summarise(median_mut_freq = mean(mu_freq))\n",
        "mut_freq_clone_l <- data_l %>% group_by(clone_id) %>% summarise(median_mut_freq = mean(mu_freq))\n",
        "mut_freq_clone_k <- data_k %>% group_by(clone_id) %>% summarise(median_mut_freq = mean(mu_freq))"
      ],
      "metadata": {
        "id": "4ct_fgNSwMJU"
      },
      "execution_count": 21,
      "outputs": []
    },
    {
      "cell_type": "code",
      "source": [
        "mmf <- ggplot(mut_freq_clone, aes(median_mut_freq)) + \n",
        "    geom_histogram(, binwidth = 0.005) + theme_bw() +\n",
        "    theme(axis.title = element_text(size = 18))\n",
        "\n",
        "mmf_l <- ggplot(mut_freq_clone_l, aes(median_mut_freq)) + \n",
        "    geom_histogram(, binwidth = 0.005) + theme_bw() +\n",
        "    theme(axis.title = element_text(size = 18))\n",
        "\n",
        "mmf_k <- ggplot(mut_freq_clone_k, aes(median_mut_freq)) + \n",
        "    geom_histogram(, binwidth = 0.005) + theme_bw() +\n",
        "    theme(axis.title = element_text(size = 18))\n",
        "options(repr.plot.width = 13, repr.plot.height = 5)\n",
        "plot_grid(mmf, mmf_l, mmf_k, labels = c('heavy','lamda','kappa'), ncol = 3, nrow = 1)"
      ],
      "metadata": {
        "id": "lFOib2o9xiE8",
        "colab": {
          "base_uri": "https://localhost:8080/",
          "height": 317
        },
        "outputId": "f5f49c95-ba4b-4e07-b258-1b2ea9f0a2a2"
      },
      "execution_count": 22,
      "outputs": [
        {
          "output_type": "display_data",
          "data": {
            "text/plain": [
              "plot without title"
            ],
            "image/png": "[encoded data removed]"
          },
          "metadata": {
            "image/png": {
              "width": 780,
              "height": 300
            }
          }
        }
      ]
    },
    {
      "cell_type": "markdown",
      "source": [
        "To do: combine mmf, mmf_l, mmf_k into a single data, create three figures for heavy and light chains with facet_wrap so the axes are aligned across 3 figures."
      ],
      "metadata": {
        "id": "AKQfBTxIF6hp"
      }
    },
    {
      "cell_type": "markdown",
      "source": [
        "### Amino Acid sequence clustered clones"
      ],
      "metadata": {
        "id": "K9VNA9ysHH-7"
      }
    },
    {
      "cell_type": "code",
      "source": [
        "#mut_freq_clone_aa <- data_h_aa %>% group_by(clone_id) %>% summarise(median_mut_freq = mean(mu_freq))\n",
        "#mmf_aa <- ggplot(mut_freq_clone_aa, aes(median_mut_freq)) + \n",
        "#    geom_histogram(, binwidth = 0.005) + theme_bw() +\n",
        "#    theme(axis.title = element_text(size = 18))\n",
        "#options(repr.plot.width = 13, repr.plot.height = 5)\n",
        "#plot_grid(mmf, mmf_aa, labels = c('hierachical','amino acid'), ncol = 2, nrow = 1)"
      ],
      "metadata": {
        "id": "AlB7bB0zHLnn"
      },
      "execution_count": 23,
      "outputs": []
    },
    {
      "cell_type": "markdown",
      "source": [
        "## Phylogenetic "
      ],
      "metadata": {
        "id": "aMPfy9uo1pjl"
      }
    },
    {
      "cell_type": "markdown",
      "source": [
        "#### Format sequences to clones"
      ],
      "metadata": {
        "id": "xccjItvnJ8-1"
      }
    },
    {
      "cell_type": "markdown",
      "source": [
        "`formatClones ` masks gap positions and ragged ends, removes duplicates sequences, and merges annotations associated with duplicate sequences. \n",
        "* Input: a data.frame or tibble with AIRR/Change-O style columns as input\n",
        "* Output: a list of airrClone objects ordered by number of sequences which serve as input for lineage reconstruction.\n",
        "* `traits`: what columns to display on the trees \n",
        "  * one column: traits = one column name\n",
        "  * multiple columns: traits = a vector of column names \n",
        "* `minseq`: minimum number of clones required  "
      ],
      "metadata": {
        "id": "2gyS7Obo1p9F"
      }
    },
    {
      "cell_type": "markdown",
      "source": [
        "##### Combined data"
      ],
      "metadata": {
        "id": "VMD1nI-pKD0U"
      }
    },
    {
      "cell_type": "code",
      "source": [
        "hlk <- bind_rows(data_h, data_l, data_k)\n",
        "clones <- formatClones(hlk, traits = \"c_call\", minseq = 3)"
      ],
      "metadata": {
        "id": "LC4hehw2H2Jv"
      },
      "execution_count": 24,
      "outputs": []
    },
    {
      "cell_type": "code",
      "source": [
        "head(clones)\n",
        "dim(clones)"
      ],
      "metadata": {
        "colab": {
          "base_uri": "https://localhost:8080/",
          "height": 304
        },
        "id": "SA5PODvoJ2OI",
        "outputId": "a5ec6dbf-c182-4ef8-a8b6-63a605600504"
      },
      "execution_count": 25,
      "outputs": [
        {
          "output_type": "display_data",
          "data": {
            "text/html": [
              "<table class=\"dataframe\">\n",
              "<caption>A tibble: 6 × 4</caption>\n",
              "<thead>\n",
              "\t<tr><th scope=col>clone_id</th><th scope=col>data</th><th scope=col>locus</th><th scope=col>seqs</th></tr>\n",
              "\t<tr><th scope=col>&lt;chr&gt;</th><th scope=col>&lt;list&gt;</th><th scope=col>&lt;chr&gt;</th><th scope=col>&lt;int&gt;</th></tr>\n",
              "</thead>\n",
              "<tbody>\n",
              "\t<tr><td>563 </td><td>&lt;S4 class ‘airrClone’ [package “dowser”] with 12 slots&gt;</td><td>IGH</td><td>15</td></tr>\n",
              "\t<tr><td>696 </td><td>&lt;S4 class ‘airrClone’ [package “dowser”] with 12 slots&gt;</td><td>IGH</td><td> 8</td></tr>\n",
              "\t<tr><td>1066</td><td>&lt;S4 class ‘airrClone’ [package “dowser”] with 12 slots&gt;</td><td>IGH</td><td> 7</td></tr>\n",
              "\t<tr><td>5336</td><td>&lt;S4 class ‘airrClone’ [package “dowser”] with 12 slots&gt;</td><td>IGH</td><td> 7</td></tr>\n",
              "\t<tr><td>715 </td><td>&lt;S4 class ‘airrClone’ [package “dowser”] with 12 slots&gt;</td><td>IGH</td><td> 6</td></tr>\n",
              "\t<tr><td>1803</td><td>&lt;S4 class ‘airrClone’ [package “dowser”] with 12 slots&gt;</td><td>IGH</td><td> 5</td></tr>\n",
              "</tbody>\n",
              "</table>\n"
            ],
            "text/markdown": "\nA tibble: 6 × 4\n\n| clone_id &lt;chr&gt; | data &lt;list&gt; | locus &lt;chr&gt; | seqs &lt;int&gt; |\n|---|---|---|---|\n| 563  | &lt;S4 class ‘airrClone’ [package “dowser”] with 12 slots&gt; | IGH | 15 |\n| 696  | &lt;S4 class ‘airrClone’ [package “dowser”] with 12 slots&gt; | IGH |  8 |\n| 1066 | &lt;S4 class ‘airrClone’ [package “dowser”] with 12 slots&gt; | IGH |  7 |\n| 5336 | &lt;S4 class ‘airrClone’ [package “dowser”] with 12 slots&gt; | IGH |  7 |\n| 715  | &lt;S4 class ‘airrClone’ [package “dowser”] with 12 slots&gt; | IGH |  6 |\n| 1803 | &lt;S4 class ‘airrClone’ [package “dowser”] with 12 slots&gt; | IGH |  5 |\n\n",
            "text/latex": "A tibble: 6 × 4\n\\begin{tabular}{llll}\n clone\\_id & data & locus & seqs\\\\\n <chr> & <list> & <chr> & <int>\\\\\n\\hline\n\t 563  & <S4 class ‘airrClone’ {[}package “dowser”{]} with 12 slots> & IGH & 15\\\\\n\t 696  & <S4 class ‘airrClone’ {[}package “dowser”{]} with 12 slots> & IGH &  8\\\\\n\t 1066 & <S4 class ‘airrClone’ {[}package “dowser”{]} with 12 slots> & IGH &  7\\\\\n\t 5336 & <S4 class ‘airrClone’ {[}package “dowser”{]} with 12 slots> & IGH &  7\\\\\n\t 715  & <S4 class ‘airrClone’ {[}package “dowser”{]} with 12 slots> & IGH &  6\\\\\n\t 1803 & <S4 class ‘airrClone’ {[}package “dowser”{]} with 12 slots> & IGH &  5\\\\\n\\end{tabular}\n",
            "text/plain": [
              "  clone_id data                                                    locus seqs\n",
              "1 563      <S4 class ‘airrClone’ [package “dowser”] with 12 slots> IGH   15  \n",
              "2 696      <S4 class ‘airrClone’ [package “dowser”] with 12 slots> IGH    8  \n",
              "3 1066     <S4 class ‘airrClone’ [package “dowser”] with 12 slots> IGH    7  \n",
              "4 5336     <S4 class ‘airrClone’ [package “dowser”] with 12 slots> IGH    7  \n",
              "5 715      <S4 class ‘airrClone’ [package “dowser”] with 12 slots> IGH    6  \n",
              "6 1803     <S4 class ‘airrClone’ [package “dowser”] with 12 slots> IGH    5  "
            ]
          },
          "metadata": {}
        },
        {
          "output_type": "display_data",
          "data": {
            "text/html": [
              "<style>\n",
              ".list-inline {list-style: none; margin:0; padding: 0}\n",
              ".list-inline>li {display: inline-block}\n",
              ".list-inline>li:not(:last-child)::after {content: \"\\00b7\"; padding: 0 .5ex}\n",
              "</style>\n",
              "<ol class=list-inline><li>31</li><li>4</li></ol>\n"
            ],
            "text/markdown": "1. 31\n2. 4\n\n\n",
            "text/latex": "\\begin{enumerate*}\n\\item 31\n\\item 4\n\\end{enumerate*}\n",
            "text/plain": [
              "[1] 31  4"
            ]
          },
          "metadata": {}
        }
      ]
    },
    {
      "cell_type": "markdown",
      "source": [
        "##### Heavy chain data only"
      ],
      "metadata": {
        "id": "KZMyCQgUKG7y"
      }
    },
    {
      "cell_type": "code",
      "source": [
        "heavy_clones <- formatClones(data_h, traits = \"c_call\", minseq = 3)\n",
        "dim(heavy_clones)"
      ],
      "metadata": {
        "colab": {
          "base_uri": "https://localhost:8080/",
          "height": 34
        },
        "id": "lFHDfeMs4nqv",
        "outputId": "5dc34c84-7755-445f-ce36-abf2dbbc8526"
      },
      "execution_count": 26,
      "outputs": [
        {
          "output_type": "display_data",
          "data": {
            "text/html": [
              "<style>\n",
              ".list-inline {list-style: none; margin:0; padding: 0}\n",
              ".list-inline>li {display: inline-block}\n",
              ".list-inline>li:not(:last-child)::after {content: \"\\00b7\"; padding: 0 .5ex}\n",
              "</style>\n",
              "<ol class=list-inline><li>31</li><li>4</li></ol>\n"
            ],
            "text/markdown": "1. 31\n2. 4\n\n\n",
            "text/latex": "\\begin{enumerate*}\n\\item 31\n\\item 4\n\\end{enumerate*}\n",
            "text/plain": [
              "[1] 31  4"
            ]
          },
          "metadata": {}
        }
      ]
    },
    {
      "cell_type": "markdown",
      "source": [
        "#### To look at the first clone"
      ],
      "metadata": {
        "id": "YQPgZFG7J4Wo"
      }
    },
    {
      "cell_type": "markdown",
      "source": [
        "To-do: lsequence, and lgermline are empty, fix this"
      ],
      "metadata": {
        "id": "NY70OzARKW2T"
      }
    },
    {
      "cell_type": "code",
      "source": [
        "glimpse(clones$data[[1]])"
      ],
      "metadata": {
        "colab": {
          "base_uri": "https://localhost:8080/"
        },
        "id": "8_lITlhqDD47",
        "outputId": "726cc5aa-f97b-4384-c58d-2b5214d6e56c"
      },
      "execution_count": 27,
      "outputs": [
        {
          "output_type": "stream",
          "name": "stdout",
          "text": [
            "Formal class 'airrClone' [package \"dowser\"] with 12 slots\n",
            "  ..@ data      :'data.frame':\t15 obs. of  6 variables:\n",
            "  .. ..$ sequence_id   : chr [1:15] \"GCAATCATCTGTCTCG-1_contig_1\" \"GCTGCTTCAAATTGCC-1_contig_2\" \"GGGATGAGTTAGATGA-1_contig_1\" \"CGCTGGAGTCTACCTC-1_contig_1\" ...\n",
            "  .. ..$ sequence      : chr [1:15] \"GAGGTGCAGCTGGTGGAGTCCGGGGGAGGCTTGGTCCACCCGGGGGGGTCCCTGAAACTCTCCTGTGCAGCCTCTGGGTTCAGCTTCAGTGACTCTGATGTGCACTGGGTC\"| __truncated__ \"GAGGTACAGCTGGTGGAGTCCGGGGGAGGCTTGGTCCAGCCGGGGGGGTCCCTGAAACTCTCCTGTGCAGCCTCTGGGTTCAGCTTCAGTGACTCTGCTCTCCACTGGGTC\"| __truncated__ \"GAGGTGCAGCTGGTGGAGTCCGGGGGAGGCTTGGTCCAGCCTGGGGGGTCCCTGAAACTCTCCTGTGCAGCCTCTGGGTTCAGCTTCAGTGACTCTGATATGCACTGGGTC\"| __truncated__ \"GAGGTACAGCTGGTGGAGTCCGGGGGAGGCTTGGTCCAGCCGGGGGGGTCCCTGAAACTCTCCTGTGCAGCCTCTGGGTTCAGCTTCAGTGACTCTGCTTTCCACTGGGTC\"| __truncated__ ...\n",
            "  .. ..$ c_call        : chr [1:15] \"IGHG2\" \"IGHA1\" \"IGHA1\" \"IGHA1\" ...\n",
            "  .. ..$ lsequence     : chr [1:15] \"\" \"\" \"\" \"\" ...\n",
            "  .. ..$ hlsequence    : chr [1:15] \"GAGGTGCAGCTGGTGGAGTCCGGGGGANNNGGCTTGGTCCACCCGGGGGGGTCCCTGAAACTCTCCTGTGCAGCCTCTGGGTTCAGCTTCNNNNNNNNNNNNAGTGACTCT\"| __truncated__ \"GAGGTACAGCTGGTGGAGTCCGGGGGANNNGGCTTGGTCCAGCCGGGGGGGTCCCTGAAACTCTCCTGTGCAGCCTCTGGGTTCAGCTTCNNNNNNNNNNNNAGTGACTCT\"| __truncated__ \"GAGGTGCAGCTGGTGGAGTCCGGGGGANNNGGCTTGGTCCAGCCTGGGGGGTCCCTGAAACTCTCCTGTGCAGCCTCTGGGTTCAGCTTCNNNNNNNNNNNNAGTGACTCT\"| __truncated__ \"GAGGTACAGCTGGTGGAGTCCGGGGGANNNGGCTTGGTCCAGCCGGGGGGGTCCCTGAAACTCTCCTGTGCAGCCTCTGGGTTCAGCTTCNNNNNNNNNNNNAGTGACTCT\"| __truncated__ ...\n",
            "  .. ..$ collapse_count: num [1:15] 1 1 1 1 1 1 1 1 1 1 ...\n",
            "  ..@ clone     : chr \"563\"\n",
            "  ..@ germline  : chr \"GAGGTGCAGCTGGTGGAGTCCGGGGGAGGCTTGGTCCAGCCTGGGGGGTCCCTGAAACTCTCCTGTGCAGCCTCTGGGTTCACCTTCAGTGGCTCTGCTATGCACTGGGTC\"| __truncated__\n",
            "  ..@ lgermline : chr \"\"\n",
            "  ..@ hlgermline: chr \"GAGGTGCAGCTGGTGGAGTCCGGGGGANNNGGCTTGGTCCAGCCTGGGGGGTCCCTGAAACTCTCCTGTGCAGCCTCTGGGTTCACCTTCNNNNNNNNNNNNAGTGGCTCT\"| __truncated__\n",
            "  ..@ v_gene    : chr \"IGHV3-73\"\n",
            "  ..@ j_gene    : chr \"IGHJ2\"\n",
            "  ..@ junc_len  : num 54\n",
            "  ..@ locus     : chr [1:378] \"IGH\" \"IGH\" \"IGH\" \"IGH\" ...\n",
            "  ..@ region    : chr [1:378] \"fwr1\" \"fwr1\" \"fwr1\" \"fwr1\" ...\n",
            "  ..@ phylo_seq : chr \"sequence\"\n",
            "  ..@ numbers   : int [1:378] 1 2 3 4 5 6 7 8 9 10 ...\n"
          ]
        }
      ]
    },
    {
      "cell_type": "code",
      "source": [
        "print(clones)"
      ],
      "metadata": {
        "colab": {
          "base_uri": "https://localhost:8080/"
        },
        "id": "4V7gfRGFDEqa",
        "outputId": "84df8c84-64b5-411d-c057-5b35a38d3c9b"
      },
      "execution_count": 28,
      "outputs": [
        {
          "output_type": "stream",
          "name": "stdout",
          "text": [
            "\u001b[90m# A tibble: 31 × 4\u001b[39m\n",
            "   clone_id data       locus  seqs\n",
            "   \u001b[3m\u001b[90m<chr>\u001b[39m\u001b[23m    \u001b[3m\u001b[90m<list>\u001b[39m\u001b[23m     \u001b[3m\u001b[90m<chr>\u001b[39m\u001b[23m \u001b[3m\u001b[90m<int>\u001b[39m\u001b[23m\n",
            "\u001b[90m 1\u001b[39m 563      \u001b[90m<airrClon>\u001b[39m IGH      15\n",
            "\u001b[90m 2\u001b[39m 696      \u001b[90m<airrClon>\u001b[39m IGH       8\n",
            "\u001b[90m 3\u001b[39m 1066     \u001b[90m<airrClon>\u001b[39m IGH       7\n",
            "\u001b[90m 4\u001b[39m 5336     \u001b[90m<airrClon>\u001b[39m IGH       7\n",
            "\u001b[90m 5\u001b[39m 715      \u001b[90m<airrClon>\u001b[39m IGH       6\n",
            "\u001b[90m 6\u001b[39m 1803     \u001b[90m<airrClon>\u001b[39m IGH       5\n",
            "\u001b[90m 7\u001b[39m 1976     \u001b[90m<airrClon>\u001b[39m IGH       5\n",
            "\u001b[90m 8\u001b[39m 1096     \u001b[90m<airrClon>\u001b[39m IGH       4\n",
            "\u001b[90m 9\u001b[39m 1179     \u001b[90m<airrClon>\u001b[39m IGH       4\n",
            "\u001b[90m10\u001b[39m 267      \u001b[90m<airrClon>\u001b[39m IGH       4\n",
            "\u001b[90m# … with 21 more rows\u001b[39m\n"
          ]
        }
      ]
    },
    {
      "cell_type": "code",
      "source": [
        "trees <- getTrees(clones, build = \"pml\", nproc = 1)"
      ],
      "metadata": {
        "colab": {
          "base_uri": "https://localhost:8080/"
        },
        "id": "8l7R3AnsDG_p",
        "outputId": "8038c63f-fb2c-420e-b032-e469240ce7bf"
      },
      "execution_count": 29,
      "outputs": [
        {
          "output_type": "stream",
          "name": "stderr",
          "text": [
            "Warning message:\n",
            "“I unrooted the tree”\n",
            "Warning message:\n",
            "“I unrooted the tree”\n"
          ]
        }
      ]
    },
    {
      "cell_type": "code",
      "source": [
        "glimpse(trees)"
      ],
      "metadata": {
        "colab": {
          "base_uri": "https://localhost:8080/"
        },
        "id": "CG5RUgA4LWeS",
        "outputId": "b4f551f1-0b37-46b2-c9b2-cb241b812635"
      },
      "execution_count": 30,
      "outputs": [
        {
          "output_type": "stream",
          "name": "stdout",
          "text": [
            "Rows: 31\n",
            "Columns: 5\n",
            "$ clone_id \u001b[3m\u001b[90m<chr>\u001b[39m\u001b[23m \"563\", \"696\", \"1066\", \"5336\", \"715\", \"1803\", \"1976\", \"1096\", …\n",
            "$ data     \u001b[3m\u001b[90m<list>\u001b[39m\u001b[23m <S4 class ‘airrClone’ [package “dowser”] with 12 slots>, <S4…\n",
            "$ locus    \u001b[3m\u001b[90m<chr>\u001b[39m\u001b[23m \"IGH\", \"IGH\", \"IGH\", \"IGH\", \"IGH\", \"IGH\", \"IGH\", \"IGH\", \"IGH\"…\n",
            "$ seqs     \u001b[3m\u001b[90m<int>\u001b[39m\u001b[23m 15, 8, 7, 7, 6, 5, 5, 4, 4, 4, 4, 4, 4, 4, 4, 3, 3, 3, 3, 3, …\n",
            "$ trees    \u001b[3m\u001b[90m<list>\u001b[39m\u001b[23m [30, 30, 27, 27, 26, 26, 25, 25, 24, 24, 29, 29, 28, 28, 23,…\n"
          ]
        }
      ]
    },
    {
      "cell_type": "code",
      "source": [
        "help('plotTrees')"
      ],
      "metadata": {
        "id": "d9uMCRmQI3WR"
      },
      "execution_count": 33,
      "outputs": []
    },
    {
      "cell_type": "code",
      "source": [
        "p <- plotTrees(trees$trees, tips = \"c_call\", tipsize = 4)\n",
        "p[[3]]"
      ],
      "metadata": {
        "colab": {
          "base_uri": "https://localhost:8080/",
          "height": 276
        },
        "id": "k_YNTGCvK1ru",
        "outputId": "382d9774-9802-4ab8-f0cd-0472a293f380"
      },
      "execution_count": 32,
      "outputs": [
        {
          "output_type": "stream",
          "name": "stderr",
          "text": [
            "Warning message in RColorBrewer::brewer.pal(n = length(unique(states)), name = palette):\n",
            "“minimal value for n is 3, returning requested palette with 3 different levels\n",
            "”\n"
          ]
        },
        {
          "output_type": "error",
          "ename": "ERROR",
          "evalue": "ignored",
          "traceback": [
            "Error in 1:nrow(trees): argument of length 0\nTraceback:\n",
            "1. plotTrees(trees$trees, tips = \"c_call\", tipsize = 4)",
            "2. lapply(1:nrow(trees), function(x) plotTrees(trees[x, ], nodes = nodes, \n .     tips = tips, tipsize = tipsize, scale = scale, node_palette = node_palette, \n .     tip_palette = tip_palette, base = TRUE, layout = layout, \n .     node_nums = node_nums, tip_nums = tip_nums, title = title, \n .     labelsize = labelsize))"
          ]
        }
      ]
    },
    {
      "cell_type": "code",
      "source": [
        "trees <- collapseNodes(trees)\n",
        "p <- plotTrees(trees, tips = \"c_call\", tipsize = 4, node_nums = TRUE, labelsize = 7)"
      ],
      "metadata": {
        "id": "MPv6WFlZLCHr"
      },
      "execution_count": null,
      "outputs": []
    }
  ]
}