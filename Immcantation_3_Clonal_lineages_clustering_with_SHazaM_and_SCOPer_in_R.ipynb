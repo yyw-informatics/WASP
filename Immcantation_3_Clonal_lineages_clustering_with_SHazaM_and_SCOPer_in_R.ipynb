{
  "nbformat": 4,
  "nbformat_minor": 0,
  "metadata": {
    "colab": {
      "name": "Immcantation_3_Clonal_lineages_clustering_with_SHazaM_and_SCOPer_in_R.ipynb",
      "provenance": [],
      "collapsed_sections": [],
      "toc_visible": true,
      "machine_shape": "hm",
      "background_execution": "on",
      "authorship_tag": "ABX9TyPwriFxFxiyJFliw/muwhYk",
      "include_colab_link": true
    },
    "kernelspec": {
      "name": "ir",
      "display_name": "R"
    },
    "language_info": {
      "name": "R"
    },
    "gpuClass": "standard"
  },
  "cells": [
    {
      "cell_type": "markdown",
      "metadata": {
        "id": "view-in-github",
        "colab_type": "text"
      },
      "source": [
        "<a href=\"https://colab.research.google.com/github/yyw-informatics/WASP/blob/main/Immcantation_3_Clonal_lineages_clustering_with_SHazaM_and_SCOPer_in_R.ipynb\" target=\"_parent\"><img src=\"https://colab.research.google.com/assets/colab-badge.svg\" alt=\"Open In Colab\"/></a>"
      ]
    },
    {
      "cell_type": "markdown",
      "source": [
        "### In Runtime, select **High RAM**"
      ],
      "metadata": {
        "id": "ejTnxX7TTiyk"
      }
    },
    {
      "cell_type": "markdown",
      "source": [
        "## Install R packages"
      ],
      "metadata": {
        "id": "Gzbp_FXBcaYr"
      }
    },
    {
      "cell_type": "code",
      "execution_count": null,
      "metadata": {
        "colab": {
          "base_uri": "https://localhost:8080/"
        },
        "id": "xfEkp_NYbu_m",
        "outputId": "415ef57a-da07-40a8-c0d1-f4cf668bc8f4"
      },
      "outputs": [
        {
          "output_type": "stream",
          "name": "stderr",
          "text": [
            "Installing package into ‘/usr/local/lib/R/site-library’\n",
            "(as ‘lib’ is unspecified)\n",
            "\n"
          ]
        }
      ],
      "source": [
        "install.packages('easypackages')\n",
        "library(easypackages)"
      ]
    },
    {
      "cell_type": "markdown",
      "source": [
        "#### For installing packages from github or bitbucket"
      ],
      "metadata": {
        "id": "qhhFnrR48tY4"
      }
    },
    {
      "cell_type": "code",
      "source": [
        "install.packages(c(\"devtools\", \"roxygen2\", \"testthat\", \"knitr\", \"rmarkdown\", \"Rcpp\"))"
      ],
      "metadata": {
        "colab": {
          "base_uri": "https://localhost:8080/"
        },
        "id": "8S3QQ2f2cshN",
        "outputId": "21bb4b9e-f6d3-4357-d4ee-47e169e88fce"
      },
      "execution_count": null,
      "outputs": [
        {
          "output_type": "stream",
          "name": "stderr",
          "text": [
            "Installing packages into ‘/usr/local/lib/R/site-library’\n",
            "(as ‘lib’ is unspecified)\n",
            "\n"
          ]
        }
      ]
    },
    {
      "cell_type": "markdown",
      "source": [
        "#### Immcantation packages - 17-20m to install"
      ],
      "metadata": {
        "id": "m9mkdprS8y_M"
      }
    },
    {
      "cell_type": "code",
      "source": [
        "library(devtools)\n",
        "install_bitbucket(\"kleinstein/alakazam@master\")\n",
        "install_bitbucket(\"kleinstein/shazam@master\")\n",
        "install.packages(\"tigger\")\n",
        "install.packages(\"scoper\")\n",
        "install_bitbucket(\"kleinstein/dowser@master\")"
      ],
      "metadata": {
        "colab": {
          "base_uri": "https://localhost:8080/"
        },
        "id": "zqNGoW35cwMS",
        "outputId": "516f61d7-054f-4fde-fbdb-426892001ef6"
      },
      "execution_count": null,
      "outputs": [
        {
          "output_type": "stream",
          "name": "stderr",
          "text": [
            "Loading required package: usethis\n",
            "\n",
            "Downloading bitbucket repo kleinstein/alakazam@master\n",
            "\n"
          ]
        },
        {
          "output_type": "stream",
          "name": "stdout",
          "text": [
            "formatR      (NA    -> 1.12    ) [CRAN]\n",
            "futile.op... (NA    -> 1.0.1   ) [CRAN]\n",
            "lambda.r     (NA    -> 1.2.4   ) [CRAN]\n",
            "BH           (NA    -> 1.78.0-0) [CRAN]\n",
            "snow         (NA    -> 0.4-4   ) [CRAN]\n",
            "futile.lo... (NA    -> 1.4.3   ) [CRAN]\n",
            "GenomeInf... (NA    -> 1.2.8   ) [CRAN]\n",
            "RCurl        (NA    -> 1.98-1.7) [CRAN]\n",
            "Rhtslib      (NA    -> 1.28.0  ) [CRAN]\n",
            "BiocParallel (NA    -> 1.30.3  ) [CRAN]\n",
            "bitops       (NA    -> 1.0-7   ) [CRAN]\n",
            "zlibbioc     (NA    -> 1.42.0  ) [CRAN]\n",
            "XVector      (NA    -> 0.36.0  ) [CRAN]\n",
            "IRanges      (NA    -> 2.30.0  ) [CRAN]\n",
            "S4Vectors    (NA    -> 0.34.0  ) [CRAN]\n",
            "BiocGenerics (NA    -> 0.42.0  ) [CRAN]\n",
            "Biostrings   (NA    -> 2.64.0  ) [CRAN]\n",
            "GenomicRa... (NA    -> 1.48.0  ) [CRAN]\n",
            "GenomeInfoDb (NA    -> 1.32.2  ) [CRAN]\n",
            "matrixStats  (NA    -> 0.62.0  ) [CRAN]\n",
            "DelayedArray (NA    -> 0.22.0  ) [CRAN]\n",
            "Biobase      (NA    -> 2.56.0  ) [CRAN]\n",
            "MatrixGen... (NA    -> 1.8.1   ) [CRAN]\n",
            "rlang        (1.0.3 -> 1.0.4   ) [CRAN]\n",
            "generics     (0.1.2 -> 0.1.3   ) [CRAN]\n",
            "sp           (NA    -> 1.5-0   ) [CRAN]\n",
            "pixmap       (NA    -> 0.4-12  ) [CRAN]\n",
            "farver       (2.1.0 -> 2.1.1   ) [CRAN]\n",
            "Rsamtools    (NA    -> 2.12.0  ) [CRAN]\n",
            "Summarize... (NA    -> 1.26.1  ) [CRAN]\n",
            "segmented    (NA    -> 1.6-0   ) [CRAN]\n",
            "ade4         (NA    -> 1.7-19  ) [CRAN]\n",
            "stringi      (1.7.6 -> 1.7.8   ) [CRAN]\n",
            "GenomicAl... (NA    -> 1.32.0  ) [CRAN]\n",
            "seqinr       (NA    -> 4.2-16  ) [CRAN]\n",
            "igraph       (NA    -> 1.3.2   ) [CRAN]\n",
            "ape          (NA    -> 5.6-2   ) [CRAN]\n",
            "airr         (NA    -> 1.3.0   ) [CRAN]\n"
          ]
        },
        {
          "output_type": "stream",
          "name": "stderr",
          "text": [
            "Installing 38 packages: formatR, futile.options, lambda.r, BH, snow, futile.logger, GenomeInfoDbData, RCurl, Rhtslib, BiocParallel, bitops, zlibbioc, XVector, IRanges, S4Vectors, BiocGenerics, Biostrings, GenomicRanges, GenomeInfoDb, matrixStats, DelayedArray, Biobase, MatrixGenerics, rlang, generics, sp, pixmap, farver, Rsamtools, SummarizedExperiment, segmented, ade4, stringi, GenomicAlignments, seqinr, igraph, ape, airr\n",
            "\n",
            "Installing packages into ‘/usr/local/lib/R/site-library’\n",
            "(as ‘lib’ is unspecified)\n",
            "\n"
          ]
        },
        {
          "output_type": "stream",
          "name": "stdout",
          "text": [
            "* checking for file ‘/tmp/Rtmp0FLK8I/remotes4d629f70d4/kleinstein-alakazam-9ffa2b2c253d/DESCRIPTION’ ... OK\n",
            "* preparing ‘alakazam’:\n",
            "* checking DESCRIPTION meta-information ... OK\n",
            "* cleaning src\n",
            "* checking for LF line-endings in source and make files and shell scripts\n",
            "* checking for empty or unneeded directories\n",
            "* building ‘alakazam_1.2.0.9999.tar.gz’\n",
            "\n"
          ]
        },
        {
          "output_type": "stream",
          "name": "stderr",
          "text": [
            "Installing package into ‘/usr/local/lib/R/site-library’\n",
            "(as ‘lib’ is unspecified)\n",
            "\n",
            "Downloading bitbucket repo kleinstein/shazam@master\n",
            "\n"
          ]
        },
        {
          "output_type": "stream",
          "name": "stdout",
          "text": [
            "iterators  (NA -> 1.0.14) [CRAN]\n",
            "foreach    (NA -> 1.5.2 ) [CRAN]\n",
            "lazyeval   (NA -> 0.2.2 ) [CRAN]\n",
            "doParallel (NA -> 1.0.17) [CRAN]\n",
            "diptest    (NA -> 0.76-0) [CRAN]\n"
          ]
        },
        {
          "output_type": "stream",
          "name": "stderr",
          "text": [
            "Installing 5 packages: iterators, foreach, lazyeval, doParallel, diptest\n",
            "\n",
            "Installing packages into ‘/usr/local/lib/R/site-library’\n",
            "(as ‘lib’ is unspecified)\n",
            "\n"
          ]
        },
        {
          "output_type": "stream",
          "name": "stdout",
          "text": [
            "* checking for file ‘/tmp/Rtmp0FLK8I/remotes4d23d80e24/kleinstein-shazam-7443d21b393e/DESCRIPTION’ ... OK\n",
            "* preparing ‘shazam’:\n",
            "* checking DESCRIPTION meta-information ... OK\n",
            "* checking for LF line-endings in source and make files and shell scripts\n",
            "* checking for empty or unneeded directories\n",
            "* building ‘shazam_1.1.1.999.tar.gz’\n",
            "\n"
          ]
        },
        {
          "output_type": "stream",
          "name": "stderr",
          "text": [
            "Installing package into ‘/usr/local/lib/R/site-library’\n",
            "(as ‘lib’ is unspecified)\n",
            "\n",
            "Installing package into ‘/usr/local/lib/R/site-library’\n",
            "(as ‘lib’ is unspecified)\n",
            "\n",
            "also installing the dependencies ‘gridExtra’, ‘gtools’\n",
            "\n",
            "\n",
            "Installing package into ‘/usr/local/lib/R/site-library’\n",
            "(as ‘lib’ is unspecified)\n",
            "\n",
            "Downloading bitbucket repo kleinstein/dowser@master\n",
            "\n"
          ]
        },
        {
          "output_type": "stream",
          "name": "stdout",
          "text": [
            "yulab.utils  (NA -> 0.0.5 ) [CRAN]\n",
            "tidytree     (NA -> 0.3.9 ) [CRAN]\n",
            "gridGraphics (NA -> 0.5-1 ) [CRAN]\n",
            "patchwork    (NA -> 1.1.1 ) [CRAN]\n",
            "ggplotify    (NA -> 0.1.0 ) [CRAN]\n",
            "ggfun        (NA -> 0.0.6 ) [CRAN]\n",
            "quadprog     (NA -> 1.5-8 ) [CRAN]\n",
            "fastmatch    (NA -> 1.1-3 ) [CRAN]\n",
            "treeio       (NA -> 1.20.1) [CRAN]\n",
            "aplot        (NA -> 0.1.6 ) [CRAN]\n",
            "phylotate    (NA -> 1.3   ) [CRAN]\n",
            "phangorn     (NA -> 2.9.0 ) [CRAN]\n",
            "markdown     (NA -> 1.1   ) [CRAN]\n",
            "ggtree       (NA -> 3.4.1 ) [CRAN]\n"
          ]
        },
        {
          "output_type": "stream",
          "name": "stderr",
          "text": [
            "Installing 14 packages: yulab.utils, tidytree, gridGraphics, patchwork, ggplotify, ggfun, quadprog, fastmatch, treeio, aplot, phylotate, phangorn, markdown, ggtree\n",
            "\n",
            "Installing packages into ‘/usr/local/lib/R/site-library’\n",
            "(as ‘lib’ is unspecified)\n",
            "\n"
          ]
        },
        {
          "output_type": "stream",
          "name": "stdout",
          "text": [
            "* checking for file ‘/tmp/Rtmp0FLK8I/remotes4d490e4be8/kleinstein-dowser-0577d6cd455a/DESCRIPTION’ ... OK\n",
            "* preparing ‘dowser’:\n",
            "* checking DESCRIPTION meta-information ... OK\n",
            "* checking for LF line-endings in source and make files and shell scripts\n",
            "* checking for empty or unneeded directories\n",
            "* building ‘dowser_1.0.0.999.tar.gz’\n",
            "\n"
          ]
        },
        {
          "output_type": "stream",
          "name": "stderr",
          "text": [
            "Installing package into ‘/usr/local/lib/R/site-library’\n",
            "(as ‘lib’ is unspecified)\n",
            "\n"
          ]
        }
      ]
    },
    {
      "cell_type": "code",
      "source": [
        "libraries('alakazam','shazam','tigger','scoper','dowser')"
      ],
      "metadata": {
        "colab": {
          "base_uri": "https://localhost:8080/"
        },
        "id": "yUh_WPwvc4Sm",
        "outputId": "9332ac01-4f6b-476f-8af6-a70e50381669"
      },
      "execution_count": null,
      "outputs": [
        {
          "output_type": "stream",
          "name": "stderr",
          "text": [
            "Loading required package: alakazam\n",
            "\n",
            "Loading required package: ggplot2\n",
            "\n",
            "As of v1.0.0 the AIRR Rearrangement schema is now the default file format.\n",
            "A description of the standard is available at https://docs.airr-community.org.\n",
            "The legacy Change-O format is supported through arguments to each function\n",
            "that allow the input column names to be explicitly defined.\n",
            "\n",
            "Loading required package: shazam\n",
            "\n",
            "As of v1.0.0 the AIRR Rearrangement schema is now the default file format.\n",
            "A description of the standard is available at https://docs.airr-community.org.\n",
            "The legacy Change-O format is supported through arguments to each function\n",
            "that allow the input column names to be explicitly defined.\n",
            "\n",
            "Loading required package: tigger\n",
            "\n",
            "As of v1.0.0 the AIRR Rearrangement schema is now the default file format.\n",
            "A description of the standard is available at https://docs.airr-community.org.\n",
            "The legacy Change-O format is supported through arguments to each function\n",
            "that allow the input column names to be explicitly defined.\n",
            "\n",
            "Loading required package: scoper\n",
            "\n",
            "As of v1.0.0 the AIRR Rearrangement schema is now the default file format.\n",
            "A description of the standard is available at https://docs.airr-community.org.\n",
            "The legacy Change-O format is supported through arguments to each function\n",
            "that allow the input column names to be explicitly defined.\n",
            "\n",
            "\n",
            "Attaching package: ‘scoper’\n",
            "\n",
            "\n",
            "The following object is masked from ‘package:alakazam’:\n",
            "\n",
            "    ExampleDb\n",
            "\n",
            "\n",
            "Loading required package: dowser\n",
            "\n",
            "\n",
            "Attaching package: ‘dowser’\n",
            "\n",
            "\n",
            "The following object is masked from ‘package:alakazam’:\n",
            "\n",
            "    ExampleDbChangeo\n",
            "\n",
            "\n",
            "All packages loaded successfully\n",
            "\n"
          ]
        }
      ]
    },
    {
      "cell_type": "markdown",
      "source": [
        "#### For data analysis and figures"
      ],
      "metadata": {
        "id": "bVUQrj8hC1qS"
      }
    },
    {
      "cell_type": "code",
      "source": [
        "install.packages(c(\"data.table\",\"dplyr\",\"ggplot2\",\"cowplot\",\"gridExtra\",\"ggpubr\"))\n",
        "libraries(\"data.table\",\"dplyr\",\"ggplot2\",\"cowplot\",\"gridExtra\",\"ggpubr\")"
      ],
      "metadata": {
        "colab": {
          "base_uri": "https://localhost:8080/"
        },
        "id": "KbM8R07SCRy7",
        "outputId": "92805157-6caa-480d-8ad4-714060cb5862"
      },
      "execution_count": null,
      "outputs": [
        {
          "output_type": "stream",
          "name": "stderr",
          "text": [
            "Installing packages into ‘/usr/local/lib/R/site-library’\n",
            "(as ‘lib’ is unspecified)\n",
            "\n",
            "also installing the dependencies ‘numDeriv’, ‘SparseM’, ‘MatrixModels’, ‘minqa’, ‘nloptr’, ‘RcppEigen’, ‘carData’, ‘abind’, ‘pbkrtest’, ‘quantreg’, ‘maptools’, ‘lme4’, ‘corrplot’, ‘car’, ‘ggrepel’, ‘ggsci’, ‘ggsignif’, ‘polynom’, ‘rstatix’\n",
            "\n",
            "\n",
            "Loading required package: data.table\n",
            "\n",
            "Loading required package: dplyr\n",
            "\n",
            "\n",
            "Attaching package: ‘dplyr’\n",
            "\n",
            "\n",
            "The following objects are masked from ‘package:data.table’:\n",
            "\n",
            "    between, first, last\n",
            "\n",
            "\n",
            "The following objects are masked from ‘package:stats’:\n",
            "\n",
            "    filter, lag\n",
            "\n",
            "\n",
            "The following objects are masked from ‘package:base’:\n",
            "\n",
            "    intersect, setdiff, setequal, union\n",
            "\n",
            "\n",
            "Loading required package: cowplot\n",
            "\n",
            "Loading required package: gridExtra\n",
            "\n",
            "\n",
            "Attaching package: ‘gridExtra’\n",
            "\n",
            "\n",
            "The following object is masked from ‘package:dplyr’:\n",
            "\n",
            "    combine\n",
            "\n",
            "\n",
            "Loading required package: ggpubr\n",
            "\n",
            "\n",
            "Attaching package: ‘ggpubr’\n",
            "\n",
            "\n",
            "The following object is masked from ‘package:cowplot’:\n",
            "\n",
            "    get_legend\n",
            "\n",
            "\n",
            "All packages loaded successfully\n",
            "\n"
          ]
        }
      ]
    },
    {
      "cell_type": "markdown",
      "source": [
        "## Read in data"
      ],
      "metadata": {
        "id": "79MWlKpj1v-5"
      }
    },
    {
      "cell_type": "markdown",
      "source": [
        "Use **either one** of these two files"
      ],
      "metadata": {
        "id": "3qUWRVoU-IvR"
      }
    },
    {
      "cell_type": "markdown",
      "source": [
        "### Annotated file"
      ],
      "metadata": {
        "id": "_DuLu_EA1yct"
      }
    },
    {
      "cell_type": "code",
      "source": [
        "#data <- readChangeoDb('data_db-pass.tsv')\n",
        "#data <- data %>% filter(productive)\n",
        "#multi_heavy <- table(filter(data, locus == \"IGH\")$cell_id)\n",
        "#multi_heavy_cells <- names(multi_heavy)[multi_heavy > 1]\n",
        "#data <- filter(data, !cell_id %in% multi_heavy_cells)\n",
        "#heavy_cells <- filter(data, locus == \"IGH\")$cell_id\n",
        "#light_cells <- filter(data, locus == \"IGK\" | locus == \"IGL\")$cell_id\n",
        "#no_heavy_cells <- light_cells[which(!light_cells %in% heavy_cells)]\n",
        "#data <- filter(data, !cell_id %in% no_heavy_cells)\n",
        "#nrow(data)"
      ],
      "metadata": {
        "id": "RIw9kq4lKfPe"
      },
      "execution_count": null,
      "outputs": []
    },
    {
      "cell_type": "markdown",
      "source": [
        "### Annotated and genotyped file"
      ],
      "metadata": {
        "id": "Jw5bNbuN18Fg"
      }
    },
    {
      "cell_type": "code",
      "source": [
        "data <- readChangeoDb('data_db-pass-genotyped.tsv')"
      ],
      "metadata": {
        "id": "_V2lgiJd1vXU"
      },
      "execution_count": null,
      "outputs": []
    },
    {
      "cell_type": "markdown",
      "source": [
        "## Calculate nearest neighbor distances \n",
        "For details see [here](https://shazam.readthedocs.io/en/stable/vignettes/DistToNearest-Vignette/) and [here](https://cran.r-project.org/web/packages/shazam/vignettes/DistToNearest-Vignette.pdf)"
      ],
      "metadata": {
        "id": "kgRyJeneERAG"
      }
    },
    {
      "cell_type": "markdown",
      "source": [
        "### Paired heavy and light chains"
      ],
      "metadata": {
        "id": "R8CzF2raEezt"
      }
    },
    {
      "cell_type": "markdown",
      "source": [
        " \n",
        "* `onlyHeavy=FALSE`: turn on paired chain grouping \n",
        "*  `VJthenLen`\n",
        "  * When `VJthenLen=FALSE`: turn on **one-stage** process - cells are divided into partitions containing same *heavy chain* V gene, J gene, and junction length (V-J-length combination), and the same *light chain* V-J-length combination\n",
        "  * When `VJthenLen=TRUE`: turn on **two-stage proces** - cells are first divided by heavy chain V gene and J gene (V-J combination), and light chain V-J combination; and then by the corresponding junction lengths."
      ],
      "metadata": {
        "id": "-4RA1k-IFr2D"
      }
    },
    {
      "cell_type": "code",
      "source": [
        "dist_sc <- distToNearest(data, cellIdColumn=\"cell_id\", locusColumn=\"locus\", VJthenLen=FALSE, onlyHeavy=FALSE)"
      ],
      "metadata": {
        "id": "BJZKLeveFB4R"
      },
      "execution_count": null,
      "outputs": []
    },
    {
      "cell_type": "markdown",
      "source": [
        "Regardless of whether grouping was done using only the heavy chain sequences, or both heavy and\n",
        "light chain sequences, **only heavy chain sequences will be used for calculating the nearest neighbor\n",
        "distances.** Hence, under the single-cell mode, rows in the returned data.frame corresponding to\n",
        "**light chain sequences will have NA in the dist_nearest** field."
      ],
      "metadata": {
        "id": "DIL71S9VMEqJ"
      }
    },
    {
      "cell_type": "markdown",
      "source": [
        "The table below shows how many IGH/K/L sequences in the data"
      ],
      "metadata": {
        "id": "47NBxkVb5Bdy"
      }
    },
    {
      "cell_type": "code",
      "source": [
        "data %>% group_by(locus) %>% count(sequences = n())"
      ],
      "metadata": {
        "colab": {
          "base_uri": "https://localhost:8080/",
          "height": 192
        },
        "id": "6IdccjR-Uw7z",
        "outputId": "715efd03-a63d-462f-8417-8e63b1ceea12"
      },
      "execution_count": null,
      "outputs": [
        {
          "output_type": "display_data",
          "data": {
            "text/html": [
              "<table class=\"dataframe\">\n",
              "<caption>A grouped_df: 3 × 3</caption>\n",
              "<thead>\n",
              "\t<tr><th scope=col>locus</th><th scope=col>sequences</th><th scope=col>n</th></tr>\n",
              "\t<tr><th scope=col>&lt;chr&gt;</th><th scope=col>&lt;int&gt;</th><th scope=col>&lt;int&gt;</th></tr>\n",
              "</thead>\n",
              "<tbody>\n",
              "\t<tr><td>IGH</td><td>15286</td><td>7527</td></tr>\n",
              "\t<tr><td>IGK</td><td>15286</td><td>4950</td></tr>\n",
              "\t<tr><td>IGL</td><td>15286</td><td>2809</td></tr>\n",
              "</tbody>\n",
              "</table>\n"
            ],
            "text/markdown": "\nA grouped_df: 3 × 3\n\n| locus &lt;chr&gt; | sequences &lt;int&gt; | n &lt;int&gt; |\n|---|---|---|\n| IGH | 15286 | 7527 |\n| IGK | 15286 | 4950 |\n| IGL | 15286 | 2809 |\n\n",
            "text/latex": "A grouped\\_df: 3 × 3\n\\begin{tabular}{lll}\n locus & sequences & n\\\\\n <chr> & <int> & <int>\\\\\n\\hline\n\t IGH & 15286 & 7527\\\\\n\t IGK & 15286 & 4950\\\\\n\t IGL & 15286 & 2809\\\\\n\\end{tabular}\n",
            "text/plain": [
              "  locus sequences n   \n",
              "1 IGH   15286     7527\n",
              "2 IGK   15286     4950\n",
              "3 IGL   15286     2809"
            ]
          },
          "metadata": {}
        }
      ]
    },
    {
      "cell_type": "markdown",
      "source": [
        "One observation: a lot of the sequences have NA distances "
      ],
      "metadata": {
        "id": "uJSWEcrC5NSc"
      }
    },
    {
      "cell_type": "code",
      "source": [
        "not_na <- dist_sc %>% select(dist_nearest) %>% filter(!is.na(dist_nearest)) %>% count() \n",
        "na <- dist_sc %>% select(dist_nearest) %>% filter(is.na(dist_nearest)) %>% count() \n",
        "cat('In the total', nrow(data), 'sequences,', na$n, 'have NA distance', '(', round(100*na$n/nrow(data),2), '%)')"
      ],
      "metadata": {
        "colab": {
          "base_uri": "https://localhost:8080/"
        },
        "id": "0AO2JL0MXN1k",
        "outputId": "3a396cf5-3f96-4a89-e56b-008e95f6f8e5"
      },
      "execution_count": null,
      "outputs": [
        {
          "output_type": "stream",
          "name": "stdout",
          "text": [
            "In the total 15286 sequences, 14290 have NA distance ( 93.48 %)"
          ]
        }
      ]
    },
    {
      "cell_type": "markdown",
      "source": [
        "### Heavy chain only"
      ],
      "metadata": {
        "id": "7ETIQoFSdJpj"
      }
    },
    {
      "cell_type": "code",
      "source": [
        "dist_nearest <- distToNearest(filter(data, locus == \"IGH\"), nproc = 1)"
      ],
      "metadata": {
        "id": "aDg60YxBdKAE"
      },
      "execution_count": null,
      "outputs": []
    },
    {
      "cell_type": "markdown",
      "source": [
        "### Visualize the distances in histogram "
      ],
      "metadata": {
        "id": "IAxZ21VvajqU"
      }
    },
    {
      "cell_type": "markdown",
      "source": [
        "Paired-chain figure"
      ],
      "metadata": {
        "id": "KMSuUz9LdYew"
      }
    },
    {
      "cell_type": "code",
      "source": [
        "dist_sc_heavy <- dist_sc %>% filter(!is.na(dist_nearest)) %>% select(dist_nearest) %>% as.data.frame() %>% rename(distance = dist_nearest)"
      ],
      "metadata": {
        "id": "ykB_vgg5Tl8t"
      },
      "execution_count": null,
      "outputs": []
    },
    {
      "cell_type": "code",
      "source": [
        "g_paired <- ggplot(dist_sc_heavy, aes(x = distance)) + \n",
        "        theme_bw() + \n",
        "        xlab(\"Distance\") + ylab(\"Count\") +\n",
        "        scale_x_continuous(breaks = seq(0, 1, 0.1)) +\n",
        "        geom_histogram(color = \"white\", binwidth = 0.02) + \n",
        "        theme(axis.title = element_text(size = 18))"
      ],
      "metadata": {
        "id": "8181x_WtGGaf"
      },
      "execution_count": null,
      "outputs": []
    },
    {
      "cell_type": "markdown",
      "source": [
        "Heavy-chain only "
      ],
      "metadata": {
        "id": "8_e-6zOwF9Jb"
      }
    },
    {
      "cell_type": "code",
      "source": [
        "# generate Distance histogram\n",
        "g_heavy <- ggplot(subset(dist_nearest, !is.na(dist_nearest)),\n",
        "             aes(x = dist_nearest)) + \n",
        "        theme_bw() + \n",
        "        xlab(\"Distance\") + ylab(\"Count\") +\n",
        "        scale_x_continuous(breaks = seq(0, 1, 0.1)) +\n",
        "        geom_histogram(color = \"white\", binwidth = 0.02) + \n",
        "        theme(axis.title = element_text(size = 18))\n",
        "plot(g_heavy)"
      ],
      "metadata": {
        "colab": {
          "base_uri": "https://localhost:8080/",
          "height": 437
        },
        "id": "dUluLL7ZEXAG",
        "outputId": "e29da117-64a3-4f87-95c3-a84234cfc011"
      },
      "execution_count": null,
      "outputs": [
        {
          "output_type": "display_data",
          "data": {
            "text/plain": [
              "plot without title"
            ],
            "image/png": "[encoded data removed]"
          },
          "metadata": {
            "image/png": {
              "width": 420,
              "height": 420
            }
          }
        }
      ]
    },
    {
      "cell_type": "markdown",
      "source": [
        "## Find the distance threshold "
      ],
      "metadata": {
        "id": "cwEEPSRHbMf4"
      }
    },
    {
      "cell_type": "markdown",
      "source": [
        "Defining a threshold relies on distinguishing clonally related sequences (represented by sequences with close neighbors) from singletons (sequences without close neighbors), which show up as **two modes** in a nearest neighbor distance histogram."
      ],
      "metadata": {
        "id": "Cd3J-VwBEJ4k"
      }
    },
    {
      "cell_type": "markdown",
      "source": [
        "### Automated threshold via smoothed density"
      ],
      "metadata": {
        "id": "3UUJZ9tFbhb_"
      }
    },
    {
      "cell_type": "markdown",
      "source": [
        "#### Paired chain"
      ],
      "metadata": {
        "id": "aZ1EjKhTbw-Z"
      }
    },
    {
      "cell_type": "code",
      "source": [
        "output <- findThreshold(dist_sc$dist_nearest, method=\"density\")\n",
        "threshold <- output@threshold \n",
        "round(threshold,2)"
      ],
      "metadata": {
        "colab": {
          "base_uri": "https://localhost:8080/",
          "height": 34
        },
        "id": "m5DUl0rIbpEt",
        "outputId": "d66ab490-ed47-4f55-9324-49d9c6449157"
      },
      "execution_count": null,
      "outputs": [
        {
          "output_type": "display_data",
          "data": {
            "text/html": [
              "0.19"
            ],
            "text/markdown": "0.19",
            "text/latex": "0.19",
            "text/plain": [
              "[1] 0.19"
            ]
          },
          "metadata": {}
        }
      ]
    },
    {
      "cell_type": "markdown",
      "source": [
        "#### Heavy chain only"
      ],
      "metadata": {
        "id": "YiFFy4f3cvp3"
      }
    },
    {
      "cell_type": "code",
      "source": [
        "output_heavy <- findThreshold(dist_nearest$dist_nearest, method=\"density\")\n",
        "threshold_heavy <- output_heavy@threshold\n",
        "round(threshold_heavy,2)"
      ],
      "metadata": {
        "colab": {
          "base_uri": "https://localhost:8080/",
          "height": 34
        },
        "id": "PySclUM_bzTW",
        "outputId": "e882f83c-7896-432f-e672-a9c2446107cc"
      },
      "execution_count": null,
      "outputs": [
        {
          "output_type": "display_data",
          "data": {
            "text/html": [
              "&lt;NA&gt;"
            ],
            "text/markdown": "&lt;NA&gt;",
            "text/latex": "<NA>",
            "text/plain": [
              "[1] NA"
            ]
          },
          "metadata": {}
        }
      ]
    },
    {
      "cell_type": "markdown",
      "source": [
        "#### Side-by-side threshold comparison\n"
      ],
      "metadata": {
        "id": "QColDxnGgm_x"
      }
    },
    {
      "cell_type": "code",
      "source": [
        "g_paired <- plot(output, silent = TRUE)\n",
        "g_heavy <- plot(output_heavy, silent = TRUE)"
      ],
      "metadata": {
        "id": "PAjRbcBe_-7s",
        "colab": {
          "base_uri": "https://localhost:8080/",
          "height": 1000
        },
        "outputId": "fa5e9093-2aa3-49a5-a781-d111a35144e8"
      },
      "execution_count": null,
      "outputs": [
        {
          "output_type": "error",
          "ename": "ERROR",
          "evalue": "ignored",
          "traceback": [
            "\u001b[1m\u001b[33mError\u001b[39m:\u001b[22m\n\u001b[33m!\u001b[39m Theme element `silence` is not defined in the element hierarchy.\nTraceback:\n",
            "1. plot(output, silence = TRUE)",
            "2. plot(output, silence = TRUE)",
            "3. plotDensityThreshold(x, ...)",
            "4. plot(p)",
            "5. plot(p)",
            "6. plot.ggplot(p)",
            "7. ggplot_gtable(data)",
            "8. ggplot_gtable.ggplot_built(data)",
            "9. plot_theme(plot)",
            "10. mapply(validate_element, theme, names(theme), MoreArgs = list(element_tree = get_element_tree()))",
            "11. (function (el, elname, element_tree) \n  . {\n  .     eldef <- element_tree[[elname]]\n  .     if (is.null(eldef)) {\n  .         abort(glue(\"Theme element `{elname}` is not defined in the element hierarchy.\"))\n  .     }\n  .     if (is.null(el)) \n  .         return()\n  .     if (eldef$class == \"character\") {\n  .         if (!is.character(el) && !is.numeric(el)) \n  .             abort(glue(\"Theme element `{elname}` must be a string or numeric vector.\"))\n  .     }\n  .     else if (eldef$class == \"margin\") {\n  .         if (!is.unit(el) && length(el) == 4) \n  .             abort(glue(\"Theme element `{elname}` must be a unit vector of length 4.\"))\n  .     }\n  .     else if (!inherits(el, eldef$class) && !inherits(el, \"element_blank\")) {\n  .         abort(glue(\"Theme element `{elname}` must be an object of type `{eldef$class}`.\"))\n  .     }\n  .     invisible()\n  . })(dots[[1L]][[94L]], dots[[2L]][[94L]], element_tree = list(\n  .     line = list(class = \"element_line\", inherit = NULL, description = NULL), \n  .     rect = list(class = \"element_rect\", inherit = NULL, description = NULL), \n  .     text = list(class = \"element_text\", inherit = NULL, description = NULL), \n  .     title = list(class = \"element_text\", inherit = \"text\", description = NULL), \n  .     axis.line = list(class = \"element_line\", inherit = \"line\", \n  .         description = NULL), axis.text = list(class = \"element_text\", \n  .         inherit = \"text\", description = NULL), axis.title = list(\n  .         class = \"element_text\", inherit = \"title\", description = NULL), \n  .     axis.ticks = list(class = \"element_line\", inherit = \"line\", \n  .         description = NULL), legend.key.size = list(class = \"unit\", \n  .         inherit = NULL, description = NULL), panel.grid = list(\n  .         class = \"element_line\", inherit = \"line\", description = NULL), \n  .     panel.grid.major = list(class = \"element_line\", inherit = \"panel.grid\", \n  .         description = NULL), panel.grid.minor = list(class = \"element_line\", \n  .         inherit = \"panel.grid\", description = NULL), strip.text = list(\n  .         class = \"element_text\", inherit = \"text\", description = NULL), \n  .     axis.line.x = list(class = \"element_line\", inherit = \"axis.line\", \n  .         description = NULL), axis.line.x.top = list(class = \"element_line\", \n  .         inherit = \"axis.line.x\", description = NULL), axis.line.x.bottom = list(\n  .         class = \"element_line\", inherit = \"axis.line.x\", description = NULL), \n  .     axis.line.y = list(class = \"element_line\", inherit = \"axis.line\", \n  .         description = NULL), axis.line.y.left = list(class = \"element_line\", \n  .         inherit = \"axis.line.y\", description = NULL), axis.line.y.right = list(\n  .         class = \"element_line\", inherit = \"axis.line.y\", description = NULL), \n  .     axis.text.x = list(class = \"element_text\", inherit = \"axis.text\", \n  .         description = NULL), axis.text.x.top = list(class = \"element_text\", \n  .         inherit = \"axis.text.x\", description = NULL), axis.text.x.bottom = list(\n  .         class = \"element_text\", inherit = \"axis.text.x\", description = NULL), \n  .     axis.text.y = list(class = \"element_text\", inherit = \"axis.text\", \n  .         description = NULL), axis.text.y.left = list(class = \"element_text\", \n  .         inherit = \"axis.text.y\", description = NULL), axis.text.y.right = list(\n  .         class = \"element_text\", inherit = \"axis.text.y\", description = NULL), \n  .     axis.ticks.length = list(class = \"unit\", inherit = NULL, \n  .         description = NULL), axis.ticks.length.x = list(class = \"unit\", \n  .         inherit = \"axis.ticks.length\", description = NULL), axis.ticks.length.x.top = list(\n  .         class = \"unit\", inherit = \"axis.ticks.length.x\", description = NULL), \n  .     axis.ticks.length.x.bottom = list(class = \"unit\", inherit = \"axis.ticks.length.x\", \n  .         description = NULL), axis.ticks.length.y = list(class = \"unit\", \n  .         inherit = \"axis.ticks.length\", description = NULL), axis.ticks.length.y.left = list(\n  .         class = \"unit\", inherit = \"axis.ticks.length.y\", description = NULL), \n  .     axis.ticks.length.y.right = list(class = \"unit\", inherit = \"axis.ticks.length.y\", \n  .         description = NULL), axis.ticks.x = list(class = \"element_line\", \n  .         inherit = \"axis.ticks\", description = NULL), axis.ticks.x.top = list(\n  .         class = \"element_line\", inherit = \"axis.ticks.x\", description = NULL), \n  .     axis.ticks.x.bottom = list(class = \"element_line\", inherit = \"axis.ticks.x\", \n  .         description = NULL), axis.ticks.y = list(class = \"element_line\", \n  .         inherit = \"axis.ticks\", description = NULL), axis.ticks.y.left = list(\n  .         class = \"element_line\", inherit = \"axis.ticks.y\", description = NULL), \n  .     axis.ticks.y.right = list(class = \"element_line\", inherit = \"axis.ticks.y\", \n  .         description = NULL), axis.title.x = list(class = \"element_text\", \n  .         inherit = \"axis.title\", description = NULL), axis.title.x.top = list(\n  .         class = \"element_text\", inherit = \"axis.title.x\", description = NULL), \n  .     axis.title.x.bottom = list(class = \"element_text\", inherit = \"axis.title.x\", \n  .         description = NULL), axis.title.y = list(class = \"element_text\", \n  .         inherit = \"axis.title\", description = NULL), axis.title.y.left = list(\n  .         class = \"element_text\", inherit = \"axis.title.y\", description = NULL), \n  .     axis.title.y.right = list(class = \"element_text\", inherit = \"axis.title.y\", \n  .         description = NULL), legend.background = list(class = \"element_rect\", \n  .         inherit = \"rect\", description = NULL), legend.margin = list(\n  .         class = \"margin\", inherit = NULL, description = NULL), \n  .     legend.spacing = list(class = \"unit\", inherit = NULL, description = NULL), \n  .     legend.spacing.x = list(class = \"unit\", inherit = \"legend.spacing\", \n  .         description = NULL), legend.spacing.y = list(class = \"unit\", \n  .         inherit = \"legend.spacing\", description = NULL), legend.key = list(\n  .         class = \"element_rect\", inherit = \"rect\", description = NULL), \n  .     legend.key.height = list(class = \"unit\", inherit = \"legend.key.size\", \n  .         description = NULL), legend.key.width = list(class = \"unit\", \n  .         inherit = \"legend.key.size\", description = NULL), legend.text = list(\n  .         class = \"element_text\", inherit = \"text\", description = NULL), \n  .     legend.text.align = list(class = \"character\", inherit = NULL, \n  .         description = NULL), legend.title = list(class = \"element_text\", \n  .         inherit = \"title\", description = NULL), legend.title.align = list(\n  .         class = \"character\", inherit = NULL, description = NULL), \n  .     legend.position = list(class = \"character\", inherit = NULL, \n  .         description = NULL), legend.direction = list(class = \"character\", \n  .         inherit = NULL, description = NULL), legend.justification = list(\n  .         class = \"character\", inherit = NULL, description = NULL), \n  .     legend.box = list(class = \"character\", inherit = NULL, description = NULL), \n  .     legend.box.just = list(class = \"character\", inherit = NULL, \n  .         description = NULL), legend.box.margin = list(class = \"margin\", \n  .         inherit = NULL, description = NULL), legend.box.background = list(\n  .         class = \"element_rect\", inherit = \"rect\", description = NULL), \n  .     legend.box.spacing = list(class = \"unit\", inherit = NULL, \n  .         description = NULL), panel.background = list(class = \"element_rect\", \n  .         inherit = \"rect\", description = NULL), panel.border = list(\n  .         class = \"element_rect\", inherit = \"rect\", description = NULL), \n  .     panel.spacing = list(class = \"unit\", inherit = NULL, description = NULL), \n  .     panel.spacing.x = list(class = \"unit\", inherit = \"panel.spacing\", \n  .         description = NULL), panel.spacing.y = list(class = \"unit\", \n  .         inherit = \"panel.spacing\", description = NULL), panel.grid.major.x = list(\n  .         class = \"element_line\", inherit = \"panel.grid.major\", \n  .         description = NULL), panel.grid.major.y = list(class = \"element_line\", \n  .         inherit = \"panel.grid.major\", description = NULL), panel.grid.minor.x = list(\n  .         class = \"element_line\", inherit = \"panel.grid.minor\", \n  .         description = NULL), panel.grid.minor.y = list(class = \"element_line\", \n  .         inherit = \"panel.grid.minor\", description = NULL), panel.ontop = list(\n  .         class = \"logical\", inherit = NULL, description = NULL), \n  .     strip.background = list(class = \"element_rect\", inherit = \"rect\", \n  .         description = NULL), strip.background.x = list(class = \"element_rect\", \n  .         inherit = \"strip.background\", description = NULL), strip.background.y = list(\n  .         class = \"element_rect\", inherit = \"strip.background\", \n  .         description = NULL), strip.text.x = list(class = \"element_text\", \n  .         inherit = \"strip.text\", description = NULL), strip.text.x.top = list(\n  .         class = \"element_text\", inherit = \"strip.text.x\", description = NULL), \n  .     strip.text.x.bottom = list(class = \"element_text\", inherit = \"strip.text.x\", \n  .         description = NULL), strip.text.y = list(class = \"element_text\", \n  .         inherit = \"strip.text\", description = NULL), strip.text.y.left = list(\n  .         class = \"element_text\", inherit = \"strip.text.y\", description = NULL), \n  .     strip.text.y.right = list(class = \"element_text\", inherit = \"strip.text.y\", \n  .         description = NULL), strip.placement = list(class = \"character\", \n  .         inherit = NULL, description = NULL), strip.placement.x = list(\n  .         class = \"character\", inherit = \"strip.placement\", description = NULL), \n  .     strip.placement.y = list(class = \"character\", inherit = \"strip.placement\", \n  .         description = NULL), strip.switch.pad.grid = list(class = \"unit\", \n  .         inherit = NULL, description = NULL), strip.switch.pad.wrap = list(\n  .         class = \"unit\", inherit = NULL, description = NULL), \n  .     plot.background = list(class = \"element_rect\", inherit = \"rect\", \n  .         description = NULL), plot.title = list(class = \"element_text\", \n  .         inherit = \"title\", description = NULL), plot.title.position = list(\n  .         class = \"character\", inherit = NULL, description = NULL), \n  .     plot.subtitle = list(class = \"element_text\", inherit = \"title\", \n  .         description = NULL), plot.caption = list(class = \"element_text\", \n  .         inherit = \"title\", description = NULL), plot.caption.position = list(\n  .         class = \"character\", inherit = NULL, description = NULL), \n  .     plot.tag = list(class = \"element_text\", inherit = \"title\", \n  .         description = NULL), plot.tag.position = list(class = \"character\", \n  .         inherit = NULL, description = NULL), plot.margin = list(\n  .         class = \"margin\", inherit = NULL, description = NULL), \n  .     aspect.ratio = list(class = \"character\", inherit = NULL, \n  .         description = NULL)))",
            "12. abort(glue(\"Theme element `{elname}` is not defined in the element hierarchy.\"))",
            "13. signal_abort(cnd, .file)"
          ]
        },
        {
          "output_type": "error",
          "ename": "ERROR",
          "evalue": "ignored",
          "traceback": [
            "Error in file(con, \"rb\"): cannot open the connection\nTraceback:\n"
          ]
        },
        {
          "output_type": "display_data",
          "data": {
            "text/plain": [
              "plot without title"
            ]
          },
          "metadata": {
            "image/png": {
              "width": 780,
              "height": 300
            }
          }
        }
      ]
    },
    {
      "cell_type": "code",
      "source": [
        "options(repr.plot.width = 13, repr.plot.height = 7)\n",
        "plot_grid(g_heavy, g_paired , \n",
        "  labels = c(\n",
        "    \"Heavy chain only: can't detect thresold\", \n",
        "    \"Paired chain: smooth density thresold = 0.19\"),ncol = 2, nrow = 1)"
      ],
      "metadata": {
        "colab": {
          "base_uri": "https://localhost:8080/",
          "height": 473
        },
        "id": "gnSOMqVieZXi",
        "outputId": "b48cd06a-f34b-43f5-854d-03da374b790f"
      },
      "execution_count": null,
      "outputs": [
        {
          "output_type": "stream",
          "name": "stderr",
          "text": [
            "Warning message:\n",
            "“Removed 1 rows containing missing values (geom_vline).”\n"
          ]
        },
        {
          "output_type": "display_data",
          "data": {
            "text/plain": [
              "plot without title"
            ],
            "image/png": "[encoded data removed]"
          },
          "metadata": {
            "image/png": {
              "width": 780,
              "height": 420
            }
          }
        }
      ]
    },
    {
      "cell_type": "markdown",
      "source": [
        "## Define clonal groups in 3 ways"
      ],
      "metadata": {
        "id": "NV9ajSTF1jHk"
      }
    },
    {
      "cell_type": "markdown",
      "source": [
        "This step assigns clonal identifiers/lineages using 1) hierarchical clustering, 2) sequence identity, and 3) spectral clustering.\n",
        "* [More details here.](https://scoper.readthedocs.io/en/1.2.0/topics/scoper/)\n",
        "* Note `summarize_clones` = TRUE is required for histograms\n",
        "\n"
      ],
      "metadata": {
        "id": "oaXYAFOUK4TW"
      }
    },
    {
      "cell_type": "markdown",
      "source": [
        "### By sequences similarity\n",
        "\n",
        "[`identicalClones`](https://scoper.readthedocs.io/en/1.2.0/topics/identicalClones/) provides a **simple sequence identity** based partitioning approach for inferring clonal relationships.\n",
        "\n",
        "This approach partitions B or T cell receptor sequences into clonal groups based on junction region sequence identity within partitions that share the same V gene, J gene, and junction length, allowing for ambiguous V or J gene annotations.\n",
        "\n",
        "`method` allows for `nt` nucleotide based clustering or `aa` amino acid based clustering. "
      ],
      "metadata": {
        "id": "EIIQe0CLQxMz"
      }
    },
    {
      "cell_type": "markdown",
      "source": [
        "#### By nucleotide similarity"
      ],
      "metadata": {
        "id": "lvOju4QPiVoG"
      }
    },
    {
      "cell_type": "code",
      "source": [
        "results_nt <- identicalClones(\n",
        "  data, \n",
        "  cell_id = 'cell_id', \n",
        "  method=\"nt\", \n",
        "  only_heavy = FALSE, \n",
        "  split_light = TRUE, \n",
        "  summarize_clones = TRUE,\n",
        "  nproc = 8)"
      ],
      "metadata": {
        "colab": {
          "base_uri": "https://localhost:8080/"
        },
        "id": "puJo0UmWHAww",
        "outputId": "9b1ab79a-6bee-4117-8fa3-8b3f3ee48b23"
      },
      "execution_count": null,
      "outputs": [
        {
          "output_type": "stream",
          "name": "stderr",
          "text": [
            "Running defineClonesScoper in single cell mode\n",
            "\n"
          ]
        }
      ]
    },
    {
      "cell_type": "code",
      "source": [
        "glimpse(results_nt)"
      ],
      "metadata": {
        "colab": {
          "base_uri": "https://localhost:8080/"
        },
        "id": "BEG7Gad7k9tp",
        "outputId": "31f14127-7150-4b6b-9847-de80e67d5e2c"
      },
      "execution_count": null,
      "outputs": [
        {
          "output_type": "stream",
          "name": "stdout",
          "text": [
            "Formal class 'ScoperClones' [package \"scoper\"] with 4 slots\n",
            "  ..@ db           : tibble [15,286 × 59] (S3: tbl_df/tbl/data.frame)\n",
            "  ..@ vjl_groups   : tibble [5,940 × 7] (S3: tbl_df/tbl/data.frame)\n",
            "  ..@ inter_intra  :'data.frame':\t8807 obs. of  4 variables:\n",
            "  .. ..$ clone_id_x: chr [1:8807] \"1\" \"1258\" \"2564\" \"4022\" ...\n",
            "  .. ..$ clone_id_y: chr [1:8807] \"NA\" \"NA\" \"NA\" \"NA\" ...\n",
            "  .. ..$ distance  : num [1:8807] 0 0 0 0 0 0 0 0 0 0 ...\n",
            "  .. ..$ label     : chr [1:8807] \"intra\" \"intra\" \"intra\" \"intra\" ...\n",
            "  ..@ eff_threshold: num NA\n"
          ]
        }
      ]
    },
    {
      "cell_type": "markdown",
      "source": [
        "#### By amino acid similarity"
      ],
      "metadata": {
        "id": "i9VbNGMaib_r"
      }
    },
    {
      "cell_type": "code",
      "source": [
        "results_aa <- identicalClones(\n",
        "  data, \n",
        "  cell_id = 'cell_id', \n",
        "  method=\"aa\", \n",
        "  only_heavy = FALSE, \n",
        "  split_light = TRUE, \n",
        "  summarize_clones = TRUE,\n",
        "  nproc = 8)"
      ],
      "metadata": {
        "colab": {
          "base_uri": "https://localhost:8080/"
        },
        "id": "xUB8CZACiT3V",
        "outputId": "da683010-e8f0-4b34-e134-59ccc3739065"
      },
      "execution_count": null,
      "outputs": [
        {
          "output_type": "stream",
          "name": "stderr",
          "text": [
            "Running defineClonesScoper in single cell mode\n",
            "\n"
          ]
        }
      ]
    },
    {
      "cell_type": "code",
      "source": [
        "glimpse(results_aa)"
      ],
      "metadata": {
        "colab": {
          "base_uri": "https://localhost:8080/"
        },
        "id": "T4w-mSmalkSR",
        "outputId": "4444628c-4e96-48e0-d9ad-9ca2bbae327f"
      },
      "execution_count": null,
      "outputs": [
        {
          "output_type": "stream",
          "name": "stdout",
          "text": [
            "Formal class 'ScoperClones' [package \"scoper\"] with 4 slots\n",
            "  ..@ db           : tibble [15,286 × 59] (S3: tbl_df/tbl/data.frame)\n",
            "  ..@ vjl_groups   : tibble [5,940 × 7] (S3: tbl_df/tbl/data.frame)\n",
            "  ..@ inter_intra  :'data.frame':\t8705 obs. of  4 variables:\n",
            "  .. ..$ clone_id_x: chr [1:8705] \"1\" \"1254\" \"2551\" \"4007\" ...\n",
            "  .. ..$ clone_id_y: chr [1:8705] \"NA\" \"NA\" \"NA\" \"NA\" ...\n",
            "  .. ..$ distance  : num [1:8705] 0 0 0 0 0 0 0 0 0 0 ...\n",
            "  .. ..$ label     : chr [1:8705] \"intra\" \"intra\" \"intra\" \"intra\" ...\n",
            "  ..@ eff_threshold: num 0.09\n"
          ]
        }
      ]
    },
    {
      "cell_type": "markdown",
      "source": [
        "### By hierarchical clustering\n",
        "\n",
        "[`hierarchicalClones`](https://scoper.readthedocs.io/en/1.2.0/topics/hierarchicalClones/) provides **a hierarchical agglomerative clustering** approach to infer clonal relationships. \n",
        "\n",
        "*   This approach clusters B or T cell receptor sequences based on junction region sequence similarity within partitions that share the same V gene, J gene, and junction length, allowing for ambiguous V or J gene annotations.\n",
        "*   With `only_heavy = FALSE` and `split_light = TRU`E, grouping should be done by using IGH plus IGK/IGL sequences and inferred clones should be split by the light/short chain (IGK and IGL) following heavy/long chain clustering.\n",
        "\n",
        "\n",
        "\n"
      ],
      "metadata": {
        "id": "r9nJKTonKaQJ"
      }
    },
    {
      "cell_type": "code",
      "source": [
        "results <- hierarchicalClones(\n",
        "  data, \n",
        "  cell_id = 'cell_id', \n",
        "  threshold = threshold, \n",
        "  only_heavy = FALSE, \n",
        "  split_light = TRUE, \n",
        "  summarize_clones = TRUE,\n",
        "  verbose = TRUE,\n",
        "  log = \"log_file\",\n",
        "  nproc = 8)"
      ],
      "metadata": {
        "colab": {
          "base_uri": "https://localhost:8080/"
        },
        "id": "458Ii0HT1ivG",
        "outputId": "571c237d-8d5b-4ee3-e3df-cc5083905ac0"
      },
      "execution_count": null,
      "outputs": [
        {
          "output_type": "stream",
          "name": "stderr",
          "text": [
            "Running defineClonesScoper in single cell mode\n",
            "\n"
          ]
        },
        {
          "output_type": "stream",
          "name": "stdout",
          "text": [
            "     MAX_N_FILTER>  0 invalid junction(s) ( # of N > 0 ) in the junction column removed. \n"
          ]
        }
      ]
    },
    {
      "cell_type": "code",
      "source": [
        "glimpse(results)"
      ],
      "metadata": {
        "colab": {
          "base_uri": "https://localhost:8080/"
        },
        "id": "zVC8gqiKlTkm",
        "outputId": "a718505f-0dcc-4eb5-94ad-573b042226e9"
      },
      "execution_count": null,
      "outputs": [
        {
          "output_type": "stream",
          "name": "stdout",
          "text": [
            "Formal class 'ScoperClones' [package \"scoper\"] with 4 slots\n",
            "  ..@ db           : tibble [15,286 × 59] (S3: tbl_df/tbl/data.frame)\n",
            "  ..@ vjl_groups   : tibble [5,940 × 7] (S3: tbl_df/tbl/data.frame)\n",
            "  ..@ inter_intra  :'data.frame':\t8403 obs. of  4 variables:\n",
            "  .. ..$ clone_id_x: chr [1:8403] \"1\" \"1243\" \"2497\" \"3933\" ...\n",
            "  .. ..$ clone_id_y: chr [1:8403] \"NA\" \"NA\" \"NA\" \"NA\" ...\n",
            "  .. ..$ distance  : num [1:8403] 0 0 0 0 0 0 0 0 0 0 ...\n",
            "  .. ..$ label     : chr [1:8403] \"intra\" \"intra\" \"intra\" \"intra\" ...\n",
            "  ..@ eff_threshold: num 0.25\n"
          ]
        }
      ]
    },
    {
      "cell_type": "markdown",
      "source": [
        "### By spectral clustering\n",
        "\n",
        "[`spectralClones`](https://scoper.readthedocs.io/en/1.2.0/topics/spectralClones/) provides **an unsupervised spectral clustering** approach to infer clonal relationships.\n",
        "\n",
        "\n",
        "\n",
        "*   `method` supports two options\n",
        "  * If `method`=`novj`, then clonal relationships are inferred using an adaptive threshold that indicates the level of similarity among junction sequences in a local neighborhood.\n",
        "\n",
        " * If `method`=`vj`, then clonal relationships are inferred not only on junction region homology, but also taking into account the mutation profiles in the V and J segments. Mutation counts are determined by comparing the input sequences (in the column specified by sequence) to the effective germline sequence (IUPAC representation of sequences in the column specified by `germline`)."
      ],
      "metadata": {
        "id": "A7FmHFhZf0Iz"
      }
    },
    {
      "cell_type": "code",
      "source": [
        "results_spec <- spectralClones(\n",
        "  data, \n",
        "  cell_id = 'cell_id', \n",
        "  method = 'novj',\n",
        "  only_heavy = FALSE, \n",
        "  split_light = TRUE, \n",
        "  summarize_clones = TRUE,\n",
        "  verbose = TRUE,\n",
        "  log = \"log_file\",\n",
        "  nproc = 8)"
      ],
      "metadata": {
        "colab": {
          "base_uri": "https://localhost:8080/"
        },
        "id": "M3QfynkegLin",
        "outputId": "98931acb-3172-482f-b3cb-7fa3a312257f"
      },
      "execution_count": null,
      "outputs": [
        {
          "output_type": "stream",
          "name": "stderr",
          "text": [
            "Running defineClonesScoper in single cell mode\n",
            "\n"
          ]
        },
        {
          "output_type": "stream",
          "name": "stdout",
          "text": [
            "     MAX_N_FILTER>  0 invalid junction(s) ( # of N > 0 ) in the junction column removed. \n"
          ]
        }
      ]
    },
    {
      "cell_type": "markdown",
      "source": [
        "### Side-by-side distance comparison"
      ],
      "metadata": {
        "id": "snaWabmmsLBW"
      }
    },
    {
      "cell_type": "code",
      "source": [
        "his_nt <- plot(results_nt, binwidth=0.02, silent = T)\n",
        "his_aa <- plot(results_aa, binwidth=0.02, silent = T)\n",
        "his_h <- plot(results, binwidth=0.02, silent = T)\n",
        "his_sp <- plot(results_spec, binwidth=0.02, silent = T)"
      ],
      "metadata": {
        "id": "lWi527K6fJon"
      },
      "execution_count": null,
      "outputs": []
    },
    {
      "cell_type": "code",
      "source": [
        "options(repr.plot.width = 13, repr.plot.height = 13)\n",
        "plot_grid(his_nt , his_aa, his_h, his_sp,\n",
        "  labels = c(\n",
        "    \"Nucleotide Sequence\",\n",
        "    \"Amino Acid Sequence\",\n",
        "    \"Hierarchical clustering\", \n",
        "    \"Spectral clustering\"),ncol = 2, nrow = 2)"
      ],
      "metadata": {
        "colab": {
          "base_uri": "https://localhost:8080/",
          "height": 797
        },
        "id": "4W1YhcchqkTi",
        "outputId": "35795735-7555-4419-c066-2b6ff2ad8fd8"
      },
      "execution_count": null,
      "outputs": [
        {
          "output_type": "display_data",
          "data": {
            "text/plain": [
              "plot without title"
            ],
            "image/png": "[encoded data removed]"
          },
          "metadata": {
            "image/png": {
              "width": 780,
              "height": 780
            }
          }
        }
      ]
    },
    {
      "cell_type": "markdown",
      "source": [
        "## Save clones as rds "
      ],
      "metadata": {
        "id": "TfuL8A6KyaFs"
      }
    },
    {
      "cell_type": "code",
      "source": [
        "saveRDS(results, 'hierarchicalClones_results.rds')\n",
        "saveRDS(results_spec, 'spectralClones_results.rds')\n",
        "saveRDS(results_nt, 'identicalClones_nt_results.rds')\n",
        "saveRDS(results_aa, 'identicalClones_aa_results.rds')"
      ],
      "metadata": {
        "id": "WcTM_fJ_xt_v"
      },
      "execution_count": null,
      "outputs": []
    }
  ]
}