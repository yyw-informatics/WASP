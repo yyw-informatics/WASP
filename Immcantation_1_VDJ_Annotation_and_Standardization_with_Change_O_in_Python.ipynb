{
  "nbformat": 4,
  "nbformat_minor": 0,
  "metadata": {
    "colab": {
      "name": "Immcantation_1_VDJ_Annotation_and_Standardization_with_Change-O_in_Python.ipynb",
      "provenance": [],
      "collapsed_sections": [],
      "toc_visible": true,
      "include_colab_link": true
    },
    "kernelspec": {
      "name": "python3",
      "display_name": "Python 3"
    },
    "language_info": {
      "name": "python"
    }
  },
  "cells": [
    {
      "cell_type": "markdown",
      "metadata": {
        "id": "view-in-github",
        "colab_type": "text"
      },
      "source": [
        "<a href=\"https://colab.research.google.com/github/yyw-informatics/WASP/blob/main/Immcantation_1_VDJ_Annotation_and_Standardization_with_Change_O_in_Python.ipynb\" target=\"_parent\"><img src=\"https://colab.research.google.com/assets/colab-badge.svg\" alt=\"Open In Colab\"/></a>"
      ]
    },
    {
      "cell_type": "markdown",
      "source": [
        "# Perform V(D)J annotation and data standardization"
      ],
      "metadata": {
        "id": "fxssKUNplkxw"
      }
    },
    {
      "cell_type": "markdown",
      "source": [
        "* Input data:     \n",
        "  two files from the 10x genomics V(D)J protocol\n",
        "  * `filtered_contigs_annotations.csv` (sequence annotations)\n",
        "  * `filtered_contigs.fasta` (sequences for alignment)\n",
        "* Tasks: \n",
        "  * annotate contigs with V(D)J genes \n",
        "  * produce a standard file in the format of Adaptive Immune Receptor Repertoire (AIRR)\n",
        "* Output data:\n",
        "  * `data_db-pass.tsv`"
      ],
      "metadata": {
        "id": "QagfD21q8uL1"
      }
    },
    {
      "cell_type": "markdown",
      "source": [
        "### Install Python packages: "
      ],
      "metadata": {
        "id": "1_y9iXk5ghtQ"
      }
    },
    {
      "cell_type": "markdown",
      "source": [
        "#### Presto and Changeo"
      ],
      "metadata": {
        "id": "_ZEr6nbQSvjp"
      }
    },
    {
      "cell_type": "code",
      "source": [
        "!pip3 install presto changeo --user"
      ],
      "metadata": {
        "colab": {
          "base_uri": "https://localhost:8080/"
        },
        "id": "EfCPTDNJfQE6",
        "outputId": "ba18b002-927d-4d7a-bcd8-bf38e5c11946"
      },
      "execution_count": 1,
      "outputs": [
        {
          "output_type": "stream",
          "name": "stdout",
          "text": [
            "Looking in indexes: https://pypi.org/simple, https://us-python.pkg.dev/colab-wheels/public/simple/\n",
            "Collecting presto\n",
            "  Downloading presto-0.7.0.tar.gz (109 kB)\n",
            "\u001b[K     |████████████████████████████████| 109 kB 4.2 MB/s \n",
            "\u001b[?25hCollecting changeo\n",
            "  Downloading changeo-1.2.0.tar.gz (150 kB)\n",
            "\u001b[K     |████████████████████████████████| 150 kB 38.4 MB/s \n",
            "\u001b[?25hRequirement already satisfied: numpy>=1.8 in /usr/local/lib/python3.7/dist-packages (from presto) (1.21.6)\n",
            "Requirement already satisfied: scipy>=0.14 in /usr/local/lib/python3.7/dist-packages (from presto) (1.7.3)\n",
            "Requirement already satisfied: pandas>=0.24 in /usr/local/lib/python3.7/dist-packages (from presto) (1.3.5)\n",
            "Collecting biopython>=1.77\n",
            "  Downloading biopython-1.79-cp37-cp37m-manylinux_2_5_x86_64.manylinux1_x86_64.whl (2.3 MB)\n",
            "\u001b[K     |████████████████████████████████| 2.3 MB 42.1 MB/s \n",
            "\u001b[?25hRequirement already satisfied: python-dateutil>=2.7.3 in /usr/local/lib/python3.7/dist-packages (from pandas>=0.24->presto) (2.8.2)\n",
            "Requirement already satisfied: pytz>=2017.3 in /usr/local/lib/python3.7/dist-packages (from pandas>=0.24->presto) (2022.1)\n",
            "Requirement already satisfied: six>=1.5 in /usr/local/lib/python3.7/dist-packages (from python-dateutil>=2.7.3->pandas>=0.24->presto) (1.15.0)\n",
            "Collecting PyYAML>=5.1\n",
            "  Downloading PyYAML-6.0-cp37-cp37m-manylinux_2_5_x86_64.manylinux1_x86_64.manylinux_2_12_x86_64.manylinux2010_x86_64.whl (596 kB)\n",
            "\u001b[K     |████████████████████████████████| 596 kB 42.4 MB/s \n",
            "\u001b[?25hRequirement already satisfied: setuptools>=2.0 in /usr/local/lib/python3.7/dist-packages (from changeo) (57.4.0)\n",
            "Collecting airr>=1.3.1\n",
            "  Downloading airr-1.3.1.tar.gz (49 kB)\n",
            "\u001b[K     |████████████████████████████████| 49 kB 5.2 MB/s \n",
            "\u001b[?25hCollecting yamlordereddictloader>=0.4.0\n",
            "  Downloading yamlordereddictloader-0.4.0.tar.gz (3.3 kB)\n",
            "Building wheels for collected packages: presto, changeo, airr, yamlordereddictloader\n",
            "  Building wheel for presto (setup.py) ... \u001b[?25l\u001b[?25hdone\n",
            "  Created wheel for presto: filename=presto-0.7.0-py3-none-any.whl size=118994 sha256=926508d1da7122344ed22d5799387d572c5182be670dbcf8b3ba42895b478189\n",
            "  Stored in directory: /root/.cache/pip/wheels/6d/0a/a3/e14b65e7f79b61fe7041df3ccb89d362291c21802cdda52dfa\n",
            "  Building wheel for changeo (setup.py) ... \u001b[?25l\u001b[?25hdone\n",
            "  Created wheel for changeo: filename=changeo-1.2.0-py3-none-any.whl size=151660 sha256=4be154052979d541917a2bd878073d2e228478b9149d7f6f106dbeb8927e6b40\n",
            "  Stored in directory: /root/.cache/pip/wheels/5b/4c/bf/cc895c5f294dd2e6fd20546fa6dbecb8814448b2ad65d4613b\n",
            "  Building wheel for airr (setup.py) ... \u001b[?25l\u001b[?25hdone\n",
            "  Created wheel for airr: filename=airr-1.3.1-py3-none-any.whl size=33408 sha256=f5a45d7164c588f86764472e97df2a8aaa5d741b860cc45dec98189e12ad37bd\n",
            "  Stored in directory: /root/.cache/pip/wheels/e7/19/ce/9b897b55f7cf607de6ebf9f4df279ed6007ebefb45bce74de8\n",
            "  Building wheel for yamlordereddictloader (setup.py) ... \u001b[?25l\u001b[?25hdone\n",
            "  Created wheel for yamlordereddictloader: filename=yamlordereddictloader-0.4.0-py3-none-any.whl size=4069 sha256=51ed3801d2f1bff13f540077a13b4412588b9ce376f2460c49e1a464c80c13ac\n",
            "  Stored in directory: /root/.cache/pip/wheels/e6/ef/84/f66dc98d2f1e52809f9ed3e308be15dd20ac5f034ef21e445b\n",
            "Successfully built presto changeo airr yamlordereddictloader\n",
            "Installing collected packages: PyYAML, yamlordereddictloader, biopython, presto, airr, changeo\n",
            "\u001b[33m  WARNING: The script airr-tools is installed in '/root/.local/bin' which is not on PATH.\n",
            "  Consider adding this directory to PATH or, if you prefer to suppress this warning, use --no-warn-script-location.\u001b[0m\n",
            "Successfully installed PyYAML-6.0 airr-1.3.1 biopython-1.79 changeo-1.2.0 presto-0.7.0 yamlordereddictloader-0.4.0\n"
          ]
        }
      ]
    },
    {
      "cell_type": "markdown",
      "source": [
        "#### Add to $PATH"
      ],
      "metadata": {
        "id": "vSGUjiCOpw3u"
      }
    },
    {
      "cell_type": "code",
      "source": [
        "import os\n",
        "!echo $PATH\n",
        "os.environ['PATH'] += \":/root/.local/bin\"\n",
        "os.environ['PATH'] += \":/root/.local/lib/python3.7/site-packages\"\n",
        "!echo $PATH"
      ],
      "metadata": {
        "colab": {
          "base_uri": "https://localhost:8080/"
        },
        "id": "Os7MDWqqpzp0",
        "outputId": "845bf041-3ed2-4d56-e92d-058b5ea24a48"
      },
      "execution_count": 2,
      "outputs": [
        {
          "output_type": "stream",
          "name": "stdout",
          "text": [
            "/opt/bin:/usr/local/nvidia/bin:/usr/local/cuda/bin:/usr/local/sbin:/usr/local/bin:/usr/sbin:/usr/bin:/sbin:/bin:/tools/node/bin:/tools/google-cloud-sdk/bin\n",
            "/opt/bin:/usr/local/nvidia/bin:/usr/local/cuda/bin:/usr/local/sbin:/usr/local/bin:/usr/sbin:/usr/bin:/sbin:/bin:/tools/node/bin:/tools/google-cloud-sdk/bin:/root/.local/bin:/root/.local/lib/python3.7/site-packages\n"
          ]
        }
      ]
    },
    {
      "cell_type": "markdown",
      "source": [
        "### Git clone the immcantation repo from bitbucket\n",
        "\n",
        "\n",
        "1.   Login in [bitbucket](https://bitbucket.org/dashboard/overview)\n",
        "2.   Go to repo [Immcantation](https://bitbucket.org/kleinstein/immcantation/src/master/)\n",
        "3.   Click on the button `Clone` to copy the following path\n",
        "4.   Folder `immcantation` will show under `Files`\n"
      ],
      "metadata": {
        "id": "b1zpsdzuUz01"
      }
    },
    {
      "cell_type": "code",
      "source": [
        "!git clone https://Anna_2021@bitbucket.org/kleinstein/immcantation.git"
      ],
      "metadata": {
        "colab": {
          "base_uri": "https://localhost:8080/"
        },
        "id": "_PCxCGzBUrld",
        "outputId": "623342cf-b1bf-4c76-aaad-a11be1732ff3"
      },
      "execution_count": 3,
      "outputs": [
        {
          "output_type": "stream",
          "name": "stdout",
          "text": [
            "Cloning into 'immcantation'...\n",
            "remote: Enumerating objects: 5030, done.\u001b[K\n",
            "remote: Counting objects: 100% (5030/5030), done.\u001b[K\n",
            "remote: Compressing objects: 100% (2781/2781), done.\u001b[K\n",
            "remote: Total 5030 (delta 3282), reused 3485 (delta 2201), pack-reused 0\u001b[K\n",
            "Receiving objects: 100% (5030/5030), 8.08 MiB | 6.91 MiB/s, done.\n",
            "Resolving deltas: 100% (3282/3282), done.\n"
          ]
        }
      ]
    },
    {
      "cell_type": "markdown",
      "source": [
        "#### Add to $PATH variable\n"
      ],
      "metadata": {
        "id": "La0JOKkwesce"
      }
    },
    {
      "cell_type": "code",
      "source": [
        "!echo $PATH\n",
        "os.environ['PATH'] += \":/content/immcantation/scripts\"\n",
        "!echo $PATH"
      ],
      "metadata": {
        "colab": {
          "base_uri": "https://localhost:8080/"
        },
        "id": "FabYFCQ8e7T0",
        "outputId": "71467bd4-b55c-4c1a-b874-6530bbeee4fe"
      },
      "execution_count": 4,
      "outputs": [
        {
          "output_type": "stream",
          "name": "stdout",
          "text": [
            "/opt/bin:/usr/local/nvidia/bin:/usr/local/cuda/bin:/usr/local/sbin:/usr/local/bin:/usr/sbin:/usr/bin:/sbin:/bin:/tools/node/bin:/tools/google-cloud-sdk/bin:/root/.local/bin:/root/.local/lib/python3.7/site-packages\n",
            "/opt/bin:/usr/local/nvidia/bin:/usr/local/cuda/bin:/usr/local/sbin:/usr/local/bin:/usr/sbin:/usr/bin:/sbin:/bin:/tools/node/bin:/tools/google-cloud-sdk/bin:/root/.local/bin:/root/.local/lib/python3.7/site-packages:/content/immcantation/scripts\n"
          ]
        }
      ]
    },
    {
      "cell_type": "markdown",
      "source": [
        "### IgBLAST and IMGT references"
      ],
      "metadata": {
        "id": "UxMgpB_sYVs0"
      }
    },
    {
      "cell_type": "markdown",
      "source": [
        "#### Download IgBLAST\n",
        "#### Check the most recent version here\n",
        "https://ftp.ncbi.nih.gov/blast/executables/igblast/release/LATEST/"
      ],
      "metadata": {
        "id": "PN1YkiYuQe9d"
      }
    },
    {
      "cell_type": "code",
      "source": [
        "VERSION='1.19.0'\n",
        "!wget https://ftp.ncbi.nih.gov/blast/executables/igblast/release/LATEST/ncbi-igblast-$VERSION-x64-linux.tar.gz\n",
        "!tar -zxf ncbi-igblast-$VERSION-x64-linux.tar.gz\n",
        "!rm -r ncbi-igblast-$VERSION-x64-linux.tar.gz"
      ],
      "metadata": {
        "colab": {
          "base_uri": "https://localhost:8080/"
        },
        "id": "ToyKIFJkXCQv",
        "outputId": "6b66d1be-c81a-48c4-ada2-c618cf0de150"
      },
      "execution_count": 5,
      "outputs": [
        {
          "output_type": "stream",
          "name": "stdout",
          "text": [
            "--2022-08-02 14:19:41--  https://ftp.ncbi.nih.gov/blast/executables/igblast/release/LATEST/ncbi-igblast-1.19.0-x64-linux.tar.gz\n",
            "Resolving ftp.ncbi.nih.gov (ftp.ncbi.nih.gov)... 130.14.250.12, 130.14.250.10, 2607:f220:41f:250::229, ...\n",
            "Connecting to ftp.ncbi.nih.gov (ftp.ncbi.nih.gov)|130.14.250.12|:443... connected.\n",
            "HTTP request sent, awaiting response... 200 OK\n",
            "Length: 54748923 (52M) [application/x-gzip]\n",
            "Saving to: ‘ncbi-igblast-1.19.0-x64-linux.tar.gz’\n",
            "\n",
            "ncbi-igblast-1.19.0 100%[===================>]  52.21M  14.7MB/s    in 4.2s    \n",
            "\n",
            "2022-08-02 14:19:47 (12.3 MB/s) - ‘ncbi-igblast-1.19.0-x64-linux.tar.gz’ saved [54748923/54748923]\n",
            "\n"
          ]
        }
      ]
    },
    {
      "cell_type": "markdown",
      "source": [
        "#### Install IgBLAST"
      ],
      "metadata": {
        "id": "g9gPcQFVZj2D"
      }
    },
    {
      "cell_type": "code",
      "source": [
        "!mkdir -p /usr/local/bin/igblast\n",
        "!cp -u ncbi-igblast-$VERSION/bin/* /usr/local/bin/igblast\n",
        "!ls /usr/local/bin/igblast "
      ],
      "metadata": {
        "colab": {
          "base_uri": "https://localhost:8080/"
        },
        "id": "AjLYvaFCZTLq",
        "outputId": "e9e57be9-010d-4ac9-dfb7-c6ec9d9ea6f2"
      },
      "execution_count": 6,
      "outputs": [
        {
          "output_type": "stream",
          "name": "stdout",
          "text": [
            "blastdbcmd  edit_imgt_file.pl  igblastn  igblastp  makeblastdb\n"
          ]
        }
      ]
    },
    {
      "cell_type": "markdown",
      "source": [
        "#### Download references"
      ],
      "metadata": {
        "id": "6dAYe0ZlYdK7"
      }
    },
    {
      "cell_type": "code",
      "source": [
        "!fetch_igblastdb.sh -o /content/drive/MyDrive/Immcantation/igblast\n",
        "!cp -r ncbi-igblast-$VERSION/internal_data /content/drive/MyDrive/Immcantation/igblast\n",
        "!cp -r ncbi-igblast-$VERSION/optional_file /content/drive/MyDrive/Immcantation/igblast"
      ],
      "metadata": {
        "id": "fczwkIbDYjVm"
      },
      "execution_count": 7,
      "outputs": []
    },
    {
      "cell_type": "markdown",
      "source": [
        "#### Add to $PATH variable"
      ],
      "metadata": {
        "id": "ElnWpLJDUrXa"
      }
    },
    {
      "cell_type": "code",
      "source": [
        "!echo $PATH\n",
        "os.environ['PATH'] += \":/usr/local/bin/igblast\"\n",
        "!echo $PATH"
      ],
      "metadata": {
        "colab": {
          "base_uri": "https://localhost:8080/"
        },
        "id": "pZqgk1LIq8IR",
        "outputId": "ecc845f0-776c-4eb7-ca3d-db2ce9ff179b"
      },
      "execution_count": 8,
      "outputs": [
        {
          "output_type": "stream",
          "name": "stdout",
          "text": [
            "/opt/bin:/usr/local/nvidia/bin:/usr/local/cuda/bin:/usr/local/sbin:/usr/local/bin:/usr/sbin:/usr/bin:/sbin:/bin:/tools/node/bin:/tools/google-cloud-sdk/bin:/root/.local/bin:/root/.local/lib/python3.7/site-packages:/content/immcantation/scripts\n",
            "/opt/bin:/usr/local/nvidia/bin:/usr/local/cuda/bin:/usr/local/sbin:/usr/local/bin:/usr/sbin:/usr/bin:/sbin:/bin:/tools/node/bin:/tools/google-cloud-sdk/bin:/root/.local/bin:/root/.local/lib/python3.7/site-packages:/content/immcantation/scripts:/usr/local/bin/igblast\n"
          ]
        }
      ]
    },
    {
      "cell_type": "markdown",
      "source": [
        "#### Build IgBLAST db from IMGT references"
      ],
      "metadata": {
        "id": "fe8CWOPJbyM-"
      }
    },
    {
      "cell_type": "code",
      "source": [
        "!fetch_imgtdb.sh -o /content/drive/MyDrive/Immcantation/germlines/igmt\n",
        "!imgt2igblast.sh -i /content/drive/MyDrive/Immcantation/germlines/igmt -o /content/drive/MyDrive/Immcantation/igblast"
      ],
      "metadata": {
        "colab": {
          "base_uri": "https://localhost:8080/"
        },
        "id": "clIh0wBLdPnB",
        "outputId": "92649d45-1783-4980-bc34-d2a6dcbedbe0"
      },
      "execution_count": 9,
      "outputs": [
        {
          "output_type": "stream",
          "name": "stdout",
          "text": [
            "Downloading human repertoires into /content/drive/MyDrive/Immcantation/germlines/igmt\n",
            "|- VDJ regions\n",
            "|---- Ig\n",
            "|---- TCR\n",
            "|- Spliced leader regions\n",
            "|---- Ig\n",
            "|---- TCR\n",
            "|- Spliced constant regions\n",
            "|---- Ig\n",
            "|---- TCR\n",
            "\n",
            "Downloading mouse repertoires into /content/drive/MyDrive/Immcantation/germlines/igmt\n",
            "|- VDJ regions\n",
            "|---- Ig\n",
            "|---- TCR\n",
            "|- Spliced leader regions\n",
            "|---- Ig\n",
            "|---- TCR\n",
            "|- Spliced constant regions\n",
            "|---- Ig\n",
            "|---- TCR\n",
            "\n",
            "Downloading rat repertoires into /content/drive/MyDrive/Immcantation/germlines/igmt\n",
            "|- VDJ regions\n",
            "|---- Ig\n",
            "|---- TCR\n",
            "|- Spliced leader regions\n",
            "|---- Ig\n",
            "|---- TCR\n",
            "|- Spliced constant regions\n",
            "|---- Ig\n",
            "|---- TCR\n",
            "\n",
            "Downloading rabbit repertoires into /content/drive/MyDrive/Immcantation/germlines/igmt\n",
            "|- VDJ regions\n",
            "|---- Ig\n",
            "|---- TCR\n",
            "|- Spliced leader regions\n",
            "|---- Ig\n",
            "|---- TCR\n",
            "|- Spliced constant regions\n",
            "|---- Ig\n",
            "|---- TCR\n",
            "\n",
            "Downloading rhesus_monkey repertoires into /content/drive/MyDrive/Immcantation/germlines/igmt\n",
            "|- VDJ regions\n",
            "|---- Ig\n",
            "|---- TCR\n",
            "|- Spliced leader regions\n",
            "|---- Ig\n",
            "|---- TCR\n",
            "|- Spliced constant regions\n",
            "|---- Ig\n",
            "|---- TCR\n",
            "\n",
            "\n",
            "\n",
            "Building a new DB, current time: 08/02/2022 14:33:05\n",
            "New DB name:   /content/drive/MyDrive/Immcantation/igblast/database/imgt_human_ig_c\n",
            "New DB title:  /content/drive/MyDrive/Immcantation/igblast/fasta/imgt_human_ig_c.fasta\n",
            "Sequence type: Nucleotide\n",
            "Keep MBits: T\n",
            "Maximum file size: 3000000000B\n",
            "Adding sequences from FASTA; added 62 sequences in 0.097693 seconds.\n",
            "\n",
            "\n",
            "\n",
            "\n",
            "Building a new DB, current time: 08/02/2022 14:33:07\n",
            "New DB name:   /content/drive/MyDrive/Immcantation/igblast/database/imgt_human_ig_d\n",
            "New DB title:  /content/drive/MyDrive/Immcantation/igblast/fasta/imgt_human_ig_d.fasta\n",
            "Sequence type: Nucleotide\n",
            "Keep MBits: T\n",
            "Maximum file size: 3000000000B\n",
            "Adding sequences from FASTA; added 44 sequences in 0.00376511 seconds.\n",
            "\n",
            "\n",
            "\n",
            "\n",
            "Building a new DB, current time: 08/02/2022 14:33:09\n",
            "New DB name:   /content/drive/MyDrive/Immcantation/igblast/database/imgt_human_ig_j\n",
            "New DB title:  /content/drive/MyDrive/Immcantation/igblast/fasta/imgt_human_ig_j.fasta\n",
            "Sequence type: Nucleotide\n",
            "Keep MBits: T\n",
            "Maximum file size: 3000000000B\n",
            "Adding sequences from FASTA; added 32 sequences in 0.00356698 seconds.\n",
            "\n",
            "\n",
            "\n",
            "\n",
            "Building a new DB, current time: 08/02/2022 14:33:10\n",
            "New DB name:   /content/drive/MyDrive/Immcantation/igblast/database/imgt_human_ig_v\n",
            "New DB title:  /content/drive/MyDrive/Immcantation/igblast/fasta/imgt_human_ig_v.fasta\n",
            "Sequence type: Nucleotide\n",
            "Keep MBits: T\n",
            "Maximum file size: 3000000000B\n",
            "Adding sequences from FASTA; added 666 sequences in 0.014987 seconds.\n",
            "\n",
            "\n",
            "\n",
            "\n",
            "Building a new DB, current time: 08/02/2022 14:33:12\n",
            "New DB name:   /content/drive/MyDrive/Immcantation/igblast/database/imgt_human_tr_c\n",
            "New DB title:  /content/drive/MyDrive/Immcantation/igblast/fasta/imgt_human_tr_c.fasta\n",
            "Sequence type: Nucleotide\n",
            "Keep MBits: T\n",
            "Maximum file size: 3000000000B\n",
            "Adding sequences from FASTA; added 12 sequences in 0.094641 seconds.\n",
            "\n",
            "\n",
            "\n",
            "\n",
            "Building a new DB, current time: 08/02/2022 14:33:14\n",
            "New DB name:   /content/drive/MyDrive/Immcantation/igblast/database/imgt_human_tr_d\n",
            "New DB title:  /content/drive/MyDrive/Immcantation/igblast/fasta/imgt_human_tr_d.fasta\n",
            "Sequence type: Nucleotide\n",
            "Keep MBits: T\n",
            "Maximum file size: 3000000000B\n",
            "Adding sequences from FASTA; added 6 sequences in 0.0031209 seconds.\n",
            "\n",
            "\n",
            "\n",
            "\n",
            "Building a new DB, current time: 08/02/2022 14:33:15\n",
            "New DB name:   /content/drive/MyDrive/Immcantation/igblast/database/imgt_human_tr_j\n",
            "New DB title:  /content/drive/MyDrive/Immcantation/igblast/fasta/imgt_human_tr_j.fasta\n",
            "Sequence type: Nucleotide\n",
            "Keep MBits: T\n",
            "Maximum file size: 3000000000B\n",
            "Adding sequences from FASTA; added 97 sequences in 0.0969441 seconds.\n",
            "\n",
            "\n",
            "\n",
            "\n",
            "Building a new DB, current time: 08/02/2022 14:33:17\n",
            "New DB name:   /content/drive/MyDrive/Immcantation/igblast/database/imgt_human_tr_v\n",
            "New DB title:  /content/drive/MyDrive/Immcantation/igblast/fasta/imgt_human_tr_v.fasta\n",
            "Sequence type: Nucleotide\n",
            "Keep MBits: T\n",
            "Maximum file size: 3000000000B\n",
            "Adding sequences from FASTA; added 285 sequences in 0.100329 seconds.\n",
            "\n",
            "\n",
            "\n",
            "\n",
            "Building a new DB, current time: 08/02/2022 14:33:19\n",
            "New DB name:   /content/drive/MyDrive/Immcantation/igblast/database/imgt_mouse_ig_c\n",
            "New DB title:  /content/drive/MyDrive/Immcantation/igblast/fasta/imgt_mouse_ig_c.fasta\n",
            "Sequence type: Nucleotide\n",
            "Keep MBits: T\n",
            "Maximum file size: 3000000000B\n",
            "Adding sequences from FASTA; added 31 sequences in 0.095345 seconds.\n",
            "\n",
            "\n",
            "\n",
            "\n",
            "Building a new DB, current time: 08/02/2022 14:33:20\n",
            "New DB name:   /content/drive/MyDrive/Immcantation/igblast/database/imgt_mouse_ig_d\n",
            "New DB title:  /content/drive/MyDrive/Immcantation/igblast/fasta/imgt_mouse_ig_d.fasta\n",
            "Sequence type: Nucleotide\n",
            "Keep MBits: T\n",
            "Maximum file size: 3000000000B\n",
            "Adding sequences from FASTA; added 41 sequences in 0.00385213 seconds.\n",
            "\n",
            "\n",
            "\n",
            "\n",
            "Building a new DB, current time: 08/02/2022 14:33:22\n",
            "New DB name:   /content/drive/MyDrive/Immcantation/igblast/database/imgt_mouse_ig_j\n",
            "New DB title:  /content/drive/MyDrive/Immcantation/igblast/fasta/imgt_mouse_ig_j.fasta\n",
            "Sequence type: Nucleotide\n",
            "Keep MBits: T\n",
            "Maximum file size: 3000000000B\n",
            "Adding sequences from FASTA; added 25 sequences in 0.00359488 seconds.\n",
            "\n",
            "\n",
            "\n",
            "\n",
            "Building a new DB, current time: 08/02/2022 14:33:23\n",
            "New DB name:   /content/drive/MyDrive/Immcantation/igblast/database/imgt_mouse_ig_v\n",
            "New DB title:  /content/drive/MyDrive/Immcantation/igblast/fasta/imgt_mouse_ig_v.fasta\n",
            "Sequence type: Nucleotide\n",
            "Keep MBits: T\n",
            "Maximum file size: 3000000000B\n",
            "Adding sequences from FASTA; added 585 sequences in 0.0133791 seconds.\n",
            "\n",
            "\n",
            "\n",
            "\n",
            "Building a new DB, current time: 08/02/2022 14:33:25\n",
            "New DB name:   /content/drive/MyDrive/Immcantation/igblast/database/imgt_mouse_tr_c\n",
            "New DB title:  /content/drive/MyDrive/Immcantation/igblast/fasta/imgt_mouse_tr_c.fasta\n",
            "Sequence type: Nucleotide\n",
            "Keep MBits: T\n",
            "Maximum file size: 3000000000B\n",
            "Adding sequences from FASTA; added 9 sequences in 0.0963452 seconds.\n",
            "\n",
            "\n",
            "\n",
            "\n",
            "Building a new DB, current time: 08/02/2022 14:33:26\n",
            "New DB name:   /content/drive/MyDrive/Immcantation/igblast/database/imgt_mouse_tr_d\n",
            "New DB title:  /content/drive/MyDrive/Immcantation/igblast/fasta/imgt_mouse_tr_d.fasta\n",
            "Sequence type: Nucleotide\n",
            "Keep MBits: T\n",
            "Maximum file size: 3000000000B\n",
            "Adding sequences from FASTA; added 5 sequences in 0.00322509 seconds.\n",
            "\n",
            "\n",
            "\n",
            "\n",
            "Building a new DB, current time: 08/02/2022 14:33:28\n",
            "New DB name:   /content/drive/MyDrive/Immcantation/igblast/database/imgt_mouse_tr_j\n",
            "New DB title:  /content/drive/MyDrive/Immcantation/igblast/fasta/imgt_mouse_tr_j.fasta\n",
            "Sequence type: Nucleotide\n",
            "Keep MBits: T\n",
            "Maximum file size: 3000000000B\n",
            "Adding sequences from FASTA; added 96 sequences in 0.00457907 seconds.\n",
            "\n",
            "\n",
            "\n",
            "\n",
            "Building a new DB, current time: 08/02/2022 14:33:29\n",
            "New DB name:   /content/drive/MyDrive/Immcantation/igblast/database/imgt_mouse_tr_v\n",
            "New DB title:  /content/drive/MyDrive/Immcantation/igblast/fasta/imgt_mouse_tr_v.fasta\n",
            "Sequence type: Nucleotide\n",
            "Keep MBits: T\n",
            "Maximum file size: 3000000000B\n",
            "Adding sequences from FASTA; added 398 sequences in 0.0108001 seconds.\n",
            "\n",
            "\n",
            "\n",
            "\n",
            "Building a new DB, current time: 08/02/2022 14:33:31\n",
            "New DB name:   /content/drive/MyDrive/Immcantation/igblast/database/imgt_rhesus_monkey_ig_c\n",
            "New DB title:  /content/drive/MyDrive/Immcantation/igblast/fasta/imgt_rhesus_monkey_ig_c.fasta\n",
            "Sequence type: Nucleotide\n",
            "Keep MBits: T\n",
            "Maximum file size: 3000000000B\n",
            "Adding sequences from FASTA; added 13 sequences in 0.097348 seconds.\n",
            "\n",
            "\n",
            "\n",
            "\n",
            "Building a new DB, current time: 08/02/2022 14:33:33\n",
            "New DB name:   /content/drive/MyDrive/Immcantation/igblast/database/imgt_rhesus_monkey_ig_d\n",
            "New DB title:  /content/drive/MyDrive/Immcantation/igblast/fasta/imgt_rhesus_monkey_ig_d.fasta\n",
            "Sequence type: Nucleotide\n",
            "Keep MBits: T\n",
            "Maximum file size: 3000000000B\n",
            "Adding sequences from FASTA; added 49 sequences in 0.00387812 seconds.\n",
            "\n",
            "\n",
            "\n",
            "\n",
            "Building a new DB, current time: 08/02/2022 14:33:34\n",
            "New DB name:   /content/drive/MyDrive/Immcantation/igblast/database/imgt_rhesus_monkey_ig_j\n",
            "New DB title:  /content/drive/MyDrive/Immcantation/igblast/fasta/imgt_rhesus_monkey_ig_j.fasta\n",
            "Sequence type: Nucleotide\n",
            "Keep MBits: T\n",
            "Maximum file size: 3000000000B\n",
            "Adding sequences from FASTA; added 24 sequences in 0.00352502 seconds.\n",
            "\n",
            "\n",
            "\n",
            "\n",
            "Building a new DB, current time: 08/02/2022 14:33:36\n",
            "New DB name:   /content/drive/MyDrive/Immcantation/igblast/database/imgt_rhesus_monkey_ig_v\n",
            "New DB title:  /content/drive/MyDrive/Immcantation/igblast/fasta/imgt_rhesus_monkey_ig_v.fasta\n",
            "Sequence type: Nucleotide\n",
            "Keep MBits: T\n",
            "Maximum file size: 3000000000B\n",
            "Adding sequences from FASTA; added 458 sequences in 0.0118051 seconds.\n",
            "\n",
            "\n",
            "\n",
            "\n",
            "Building a new DB, current time: 08/02/2022 14:33:37\n",
            "New DB name:   /content/drive/MyDrive/Immcantation/igblast/database/imgt_rhesus_monkey_tr_c\n",
            "New DB title:  /content/drive/MyDrive/Immcantation/igblast/fasta/imgt_rhesus_monkey_tr_c.fasta\n",
            "Sequence type: Nucleotide\n",
            "Keep MBits: T\n",
            "Maximum file size: 3000000000B\n",
            "BLAST options error: File /content/drive/MyDrive/Immcantation/igblast/fasta/imgt_rhesus_monkey_tr_c.fasta is empty\n",
            "\n",
            "\n",
            "Building a new DB, current time: 08/02/2022 14:33:39\n",
            "New DB name:   /content/drive/MyDrive/Immcantation/igblast/database/imgt_rhesus_monkey_tr_d\n",
            "New DB title:  /content/drive/MyDrive/Immcantation/igblast/fasta/imgt_rhesus_monkey_tr_d.fasta\n",
            "Sequence type: Nucleotide\n",
            "Keep MBits: T\n",
            "Maximum file size: 3000000000B\n",
            "Adding sequences from FASTA; added 6 sequences in 0.00322199 seconds.\n",
            "\n",
            "\n",
            "\n",
            "\n",
            "Building a new DB, current time: 08/02/2022 14:33:40\n",
            "New DB name:   /content/drive/MyDrive/Immcantation/igblast/database/imgt_rhesus_monkey_tr_j\n",
            "New DB title:  /content/drive/MyDrive/Immcantation/igblast/fasta/imgt_rhesus_monkey_tr_j.fasta\n",
            "Sequence type: Nucleotide\n",
            "Keep MBits: T\n",
            "Maximum file size: 3000000000B\n",
            "Adding sequences from FASTA; added 105 sequences in 0.00470686 seconds.\n",
            "\n",
            "\n",
            "\n",
            "\n",
            "Building a new DB, current time: 08/02/2022 14:33:42\n",
            "New DB name:   /content/drive/MyDrive/Immcantation/igblast/database/imgt_rhesus_monkey_tr_v\n",
            "New DB title:  /content/drive/MyDrive/Immcantation/igblast/fasta/imgt_rhesus_monkey_tr_v.fasta\n",
            "Sequence type: Nucleotide\n",
            "Keep MBits: T\n",
            "Maximum file size: 3000000000B\n",
            "Adding sequences from FASTA; added 216 sequences in 0.100682 seconds.\n",
            "\n",
            "\n",
            "\n",
            "\n",
            "Building a new DB, current time: 08/02/2022 14:33:44\n",
            "New DB name:   /content/drive/MyDrive/Immcantation/igblast/database/imgt_aa_human_ig_v\n",
            "New DB title:  /content/drive/MyDrive/Immcantation/igblast/fasta/imgt_aa_human_ig_v.fasta\n",
            "Sequence type: Protein\n",
            "Keep MBits: T\n",
            "Maximum file size: 3000000000B\n",
            "Adding sequences from FASTA; added 666 sequences in 0.0132101 seconds.\n",
            "\n",
            "\n",
            "\n",
            "\n",
            "Building a new DB, current time: 08/02/2022 14:33:45\n",
            "New DB name:   /content/drive/MyDrive/Immcantation/igblast/database/imgt_aa_human_tr_v\n",
            "New DB title:  /content/drive/MyDrive/Immcantation/igblast/fasta/imgt_aa_human_tr_v.fasta\n",
            "Sequence type: Protein\n",
            "Keep MBits: T\n",
            "Maximum file size: 3000000000B\n",
            "Adding sequences from FASTA; added 285 sequences in 0.0986881 seconds.\n",
            "\n",
            "\n",
            "\n",
            "\n",
            "Building a new DB, current time: 08/02/2022 14:33:47\n",
            "New DB name:   /content/drive/MyDrive/Immcantation/igblast/database/imgt_aa_mouse_ig_v\n",
            "New DB title:  /content/drive/MyDrive/Immcantation/igblast/fasta/imgt_aa_mouse_ig_v.fasta\n",
            "Sequence type: Protein\n",
            "Keep MBits: T\n",
            "Maximum file size: 3000000000B\n",
            "Adding sequences from FASTA; added 585 sequences in 0.0121171 seconds.\n",
            "\n",
            "\n",
            "\n",
            "\n",
            "Building a new DB, current time: 08/02/2022 14:33:48\n",
            "New DB name:   /content/drive/MyDrive/Immcantation/igblast/database/imgt_aa_mouse_tr_v\n",
            "New DB title:  /content/drive/MyDrive/Immcantation/igblast/fasta/imgt_aa_mouse_tr_v.fasta\n",
            "Sequence type: Protein\n",
            "Keep MBits: T\n",
            "Maximum file size: 3000000000B\n",
            "Adding sequences from FASTA; added 398 sequences in 0.00911808 seconds.\n",
            "\n",
            "\n",
            "\n",
            "\n",
            "Building a new DB, current time: 08/02/2022 14:33:50\n",
            "New DB name:   /content/drive/MyDrive/Immcantation/igblast/database/imgt_aa_rhesus_monkey_ig_v\n",
            "New DB title:  /content/drive/MyDrive/Immcantation/igblast/fasta/imgt_aa_rhesus_monkey_ig_v.fasta\n",
            "Sequence type: Protein\n",
            "Keep MBits: T\n",
            "Maximum file size: 3000000000B\n",
            "Adding sequences from FASTA; added 458 sequences in 0.010726 seconds.\n",
            "\n",
            "\n",
            "\n",
            "\n",
            "Building a new DB, current time: 08/02/2022 14:33:51\n",
            "New DB name:   /content/drive/MyDrive/Immcantation/igblast/database/imgt_aa_rhesus_monkey_tr_v\n",
            "New DB title:  /content/drive/MyDrive/Immcantation/igblast/fasta/imgt_aa_rhesus_monkey_tr_v.fasta\n",
            "Sequence type: Protein\n",
            "Keep MBits: T\n",
            "Maximum file size: 3000000000B\n",
            "Adding sequences from FASTA; added 216 sequences in 0.097904 seconds.\n",
            "\n",
            "\n",
            "/content\n"
          ]
        }
      ]
    },
    {
      "cell_type": "markdown",
      "source": [
        "### Locations\n"
      ],
      "metadata": {
        "id": "G01SWtMMSfBC"
      }
    },
    {
      "cell_type": "markdown",
      "source": [
        "#### Python functions and pakcages\n"
      ],
      "metadata": {
        "id": "71inhsO3R4OQ"
      }
    },
    {
      "cell_type": "code",
      "source": [
        "! ls /root/.local/bin"
      ],
      "metadata": {
        "colab": {
          "base_uri": "https://localhost:8080/"
        },
        "id": "Sgg_naSrpiT6",
        "outputId": "d24304a8-513c-41f8-dcfa-55ace9d14cbb"
      },
      "execution_count": 10,
      "outputs": [
        {
          "output_type": "stream",
          "name": "stdout",
          "text": [
            "airr-tools\t   BuildTrees.py       DefineClones.py\t ParseDb.py\n",
            "AlignRecords.py    ClusterSets.py      EstimateError.py  ParseHeaders.py\n",
            "AlignSets.py\t   CollapseSeq.py      FilterSeq.py\t ParseLog.py\n",
            "AssemblePairs.py   ConvertDb.py        MakeDb.py\t __pycache__\n",
            "AssignGenes.py\t   ConvertHeaders.py   MaskPrimers.py\t SplitSeq.py\n",
            "BuildConsensus.py  CreateGermlines.py  PairSeq.py\t UnifyHeaders.py\n"
          ]
        }
      ]
    },
    {
      "cell_type": "code",
      "source": [
        "!ls /root/.local/lib/python3.7/site-packages/"
      ],
      "metadata": {
        "colab": {
          "base_uri": "https://localhost:8080/"
        },
        "id": "4jnt3lguRZTS",
        "outputId": "c374e621-826a-4dbf-e882-00d1edce4f9b"
      },
      "execution_count": 11,
      "outputs": [
        {
          "output_type": "stream",
          "name": "stdout",
          "text": [
            "airr\t\t\t  presto-0.7.0.dist-info\n",
            "airr-1.3.1.dist-info\t  __pycache__\n",
            "Bio\t\t\t  PyYAML-6.0.dist-info\n",
            "biopython-1.79.dist-info  tests\n",
            "BioSQL\t\t\t  yaml\n",
            "changeo\t\t\t  _yaml\n",
            "changeo-1.2.0.dist-info   yamlordereddictloader-0.4.0.dist-info\n",
            "presto\t\t\t  yamlordereddictloader.py\n"
          ]
        }
      ]
    },
    {
      "cell_type": "markdown",
      "source": [
        "#### Additional scripts and pipelines\n",
        "These are functions not included in the packages"
      ],
      "metadata": {
        "id": "RYQCgswQk_OH"
      }
    },
    {
      "cell_type": "code",
      "source": [
        "!ls /content/immcantation/scripts"
      ],
      "metadata": {
        "colab": {
          "base_uri": "https://localhost:8080/"
        },
        "id": "N3FTHzF0lFwZ",
        "outputId": "684d41e7-a364-440c-bbb9-3da265563525"
      },
      "execution_count": 12,
      "outputs": [
        {
          "output_type": "stream",
          "name": "stdout",
          "text": [
            "changeo2vdjtools.R  fetch_imgtdb.sh\tlight_cluster.py  run_igblast.sh\n",
            "clean_imgtdb.py     fetch_phix.sh\tmerge10x.py\n",
            "fastq2fasta.py\t    imgt2cellranger.py\tmerge_fastq.py\n",
            "fetch_igblastdb.sh  imgt2igblast.sh\tmixcr2imgt.py\n"
          ]
        }
      ]
    },
    {
      "cell_type": "code",
      "source": [
        "!ls /content/immcantation/pipelines/"
      ],
      "metadata": {
        "colab": {
          "base_uri": "https://localhost:8080/"
        },
        "id": "OTRidz5SlLea",
        "outputId": "7734a222-7b7b-437d-c722-37b75ef90045"
      },
      "execution_count": null,
      "outputs": [
        {
          "output_type": "stream",
          "name": "stdout",
          "text": [
            "changeo-10x.sh\t    presto-assemble.sh\t    presto-index.sh\n",
            "changeo-clone.sh    presto-clontech.sh\t    shazam-threshold.R\n",
            "changeo-igblast.sh  presto-clontech-umi.sh  tigger-genotype.R\n",
            "preprocess-phix.sh  presto-consensus.sh\n",
            "presto-abseq.sh     presto-filter.sh\n"
          ]
        }
      ]
    },
    {
      "cell_type": "markdown",
      "source": [
        "#### Reference V(D)J germline genes from IMGT"
      ],
      "metadata": {
        "id": "bHCVXExxapJt"
      }
    },
    {
      "cell_type": "code",
      "source": [
        "!ls /content/drive/MyDrive/Immcantation/germlines/igmt"
      ],
      "metadata": {
        "colab": {
          "base_uri": "https://localhost:8080/"
        },
        "id": "ij6uPPLgkwcO",
        "outputId": "ab093740-25a0-4d82-dc52-039e3f17b769"
      },
      "execution_count": 13,
      "outputs": [
        {
          "output_type": "stream",
          "name": "stdout",
          "text": [
            "human  IMGT.yaml  mouse  rabbit  rat  rhesus_monkey\n"
          ]
        }
      ]
    },
    {
      "cell_type": "code",
      "source": [
        "!ls /content/drive/MyDrive/Immcantation/igblast"
      ],
      "metadata": {
        "colab": {
          "base_uri": "https://localhost:8080/"
        },
        "id": "QQf7-0KLat77",
        "outputId": "2f4882bd-1323-46cb-a005-f15bc87739b4"
      },
      "execution_count": 14,
      "outputs": [
        {
          "output_type": "stream",
          "name": "stdout",
          "text": [
            "database  fasta  internal_data\toptional_file\n"
          ]
        }
      ]
    },
    {
      "cell_type": "markdown",
      "source": [
        "## Mount Drive"
      ],
      "metadata": {
        "id": "9uzICND5A2CE"
      }
    },
    {
      "cell_type": "markdown",
      "source": [
        "### Remove previous mounted drive"
      ],
      "metadata": {
        "id": "WvPjZ-YlA7Mw"
      }
    },
    {
      "cell_type": "code",
      "source": [
        "!rm -rf drive/"
      ],
      "metadata": {
        "id": "J8JnjkphAbac"
      },
      "execution_count": 26,
      "outputs": []
    },
    {
      "cell_type": "markdown",
      "source": [
        "### Mount drive"
      ],
      "metadata": {
        "id": "3VcE0xWlBGZd"
      }
    },
    {
      "cell_type": "code",
      "source": [
        "from google.colab import drive\n",
        "drive.mount('/content/drive')"
      ],
      "metadata": {
        "colab": {
          "base_uri": "https://localhost:8080/"
        },
        "id": "OJ4g9j_t_JCW",
        "outputId": "4512082d-a0a2-4f2b-d00b-b76de6b429b4"
      },
      "execution_count": 27,
      "outputs": [
        {
          "output_type": "stream",
          "name": "stdout",
          "text": [
            "Mounted at /content/drive\n"
          ]
        }
      ]
    },
    {
      "cell_type": "markdown",
      "source": [
        "### Check access to input data\n",
        "The first line should show folders\n",
        "The second line should show first a few lines of the fasta file"
      ],
      "metadata": {
        "id": "XhsjqStKafVM"
      }
    },
    {
      "cell_type": "code",
      "source": [
        "!ls /content/drive/MyDrive/Immcantation/data"
      ],
      "metadata": {
        "colab": {
          "base_uri": "https://localhost:8080/"
        },
        "id": "tAErkkpeanK6",
        "outputId": "16db4ca5-720a-43ca-acd9-233fc90bda9f"
      },
      "execution_count": 28,
      "outputs": [
        {
          "output_type": "stream",
          "name": "stdout",
          "text": [
            "Rita_0622  vdj_0654  vdj_0654_subsampled  vdj_1140  vdj_1485  vdj_1490\n"
          ]
        }
      ]
    },
    {
      "cell_type": "code",
      "source": [
        "!head /content/drive/MyDrive/Immcantation/data/vdj_0654/filtered_contig.fasta"
      ],
      "metadata": {
        "colab": {
          "base_uri": "https://localhost:8080/"
        },
        "id": "p27quXWTlbTu",
        "outputId": "2471d437-83c9-4612-d568-e54a4fe692d3"
      },
      "execution_count": 29,
      "outputs": [
        {
          "output_type": "stream",
          "name": "stdout",
          "text": [
            ">AAACCTGAGAAGGTTT-1_contig_1\n",
            "AGGAGTCAGACCCAGTCAGGACACAGCATGGACATGAGGGTCCCCGCTCAGCTCCTGGGGCTCCTGCTGCTCTGGCTCCCAGGTGCCAGATGTGTCATCTGGATGACCCAGTCTCCATCCTTACTCTCTGCATCTACAGGAGACAGAGTCACCATCAGTTGTCGGATGAGTCAGGGCATTAGCAGTTATTTAGCCTGGTATCAGCAAAAACCAGGGAAAGCCCCTGAGCTCCTGATCTATGCTGCATCCACTTTGCAAAGTGGGGTCCCATCAAGGTTCAGTGGCAGTGGATCTGGGACAGATTTCACTCTCACCATCAGTTGCCTGCAGTCTGAAGATTTTGCAACTTATTACTGTCAACAGTATTATAGTTTCCCGTGGACGTTCGGCCAAGGGACCAAGGTGGAAATCAAACGAACTGTGGCTGCACCATCTGTCTTCATCTTCCCGCCATCTGATGAGCAGTTGAAATCTGGAACTGCCTCTGTTGTGTGCCTGCTGAATAACTTCTATCCCAGAGAGGCCAAAGTACAGTGGAAGGTGGATAACGC\n",
            ">AAACCTGAGAAGGTTT-1_contig_2\n",
            "AGCTCTGAGAGAGGAGCCCAGCCCTGGGATTTTCAGGTGTTTTCATTTGGTGATCAGGACTGAACAGAGAGAACTCACCATGGAGTTTGGGCTGAGCTGGCTTTTTCTTGTGGCTATTTTAAAAGGTGTCCAGTGTGAGGTGCAGCTGTTGGAGTCTGGGGGAGGCTTGGTACAGCCTGGGGGGTCCCTGAGACTCTCCTGTGCAGCCTCTGGATTCACCTTTAGCAGCTATGCCATGAGCTGGGTCCGCCAGGCTCCAGGGAAGGGGCTGGAGTGGGTCTCAGCTATTAGTGGTAGTGGTGGTAGCACATACTACGCAGACTCCGTGAAGGGCCGGTTCACCATCTCCAGAGACAATTCCAAGAACACGCTGTATCTGCAAATGAACAGCCTGAGAGCCGAGGACACGGCCGTATATTACTGTGCGACCCACGGTCGGTATTACTATGATAGTAGTGGTTTTGGATGGGGCTCCTACATGGACGTCTGGGGCAAAGGGACCACGGTCACCGTCTCCTCAGGGAGTGCATCCGCCCCAACCCTTTTCCCCCTCGTCTCCTGTGAGAATTCCCCGTCGGATACGAGCAGCGTG\n",
            ">AAACCTGAGGAGTACC-1_contig_1\n",
            "GGGGTCACAAGAGGCAGCGCTCTCGGGACGTCTCCACCATGGCCTGGGCTCTGCTGCTCCTCACCCTCCTCACTCAGGACACAGGGTCCTGGGCCCAGTCTGCCCTGACTCAGCCTGCCTCCGTGTCTGGGTCTCCTGGACAGTCGATCACCATCTCCTGCACTGGAACCAGCAGTGATGTTGGGAGTTATAACCTTGTCTCCTGGTACCAACAGCACCCAGGCAAAGCCCCCAAACTCATGATTTATGAGGTCAGTAAGCGGCCCTCAGGGGTTTCTAATCGCTTCTCTGGCTCCAAGTCTGGCAACACGGCCTCCCTGACAATCTCTGGGCTCCAGGCTGAGGACGAGGCTGATTATTACTGCTGCTCATATGCAGGTAGTAGCACTGTGGTATTCGGCGGAGGGACCAAGCTGACCGTCCTAGGTCAGCCCAAGGCTGCCCCCTCGGTCACTCTGTTCCCGCCCTCCTCTGAGGAGCTTCAAGCCAACAAGGCCACACTGGTGTGTCTCATAAGTGACTTCTACCCGGGAGCCGTGACAGTGGCCTGGAAGGCAGATAGCAGCCCCGTCAAGGCGGGAGTGGAGACCACCACACCCTCCAAACAAAGCAACAACAAGTACGCGGCCAGCAGCTA\n",
            ">AAACCTGAGGAGTACC-1_contig_2\n",
            "GGAGCCCCAGCCCTGGGATTCCCAGCTGTTTCTGCTTGCTGATCAGGACTGCACAGAGAGAACTCACCATGGAGTTTGGGCTGAGCTGGGTTTTCCTTGTTGCTATTTTAAAAGGTGTCCAGTGTGAGGTGCAGCTGGTGGAGTCTGGGGGAGGCTTAGTTCAGCCTGGGGGGTCCCTGAGACTCTCCTGTGCAGCCTCTGGATTCACCTTCAGTAGATACTGGATGCACTGGGTCCGCCAAGCTCCAGGGAAGGGGCTGGTGTGGGTCTCACGTATTAATAGTGATGGGAGTAGCACAAGCTACGCGGACTCCGTGAAGGGCCGATTCACCATCTCCAGAGACAACGCCAAGAACACGCTGTATCTGCAAATGAACAGTCTGAGAGCCGAGGACACGGCTGTGAATTACTGTGCAAGAGGGGGGGTAAATTACGCATTCCTTTTTGACTACTGGGGCCAGGGAACCCTGGTCACCGTCTCCTCAGGGAGTGCATCCGCCCCAACCCTTTTCCCCCTCGTCTCCTGTGAGAATTCCCCGTCGGATACGAGCAGCGTG\n",
            ">AAACCTGCAAAGCAAT-1_contig_1\n",
            "CCACATCCCTCCTCAGAAGCCCCCAGAGCACAACTCCTCACCATGGACTGGACCTGGAGGATCCTCTTTTTGGTGGCAGCAGCCACAGGTGCCCACTCCCAGGTCCAGCTTGTGCAGTCTGGGGCTGAGGTGAAGAAGCCTGGGGCCTCAGTGAAGGTTTCCTGCAAGGCTTCTGGATACACCTTCACTAGCTATGCTATGCATTGGGTGCGCCAGGCCCCCGGACAAAGGCTTGAGTGGATGGGATGGATCAACGCTGGCAATGGTAACACAAAATATTCACAGAAGTTCCAGGGCAGAGTCACCATTACCAGGGACACATCCGCGAGCACAGCCTACATGGAGCTGAGCAGCCTGAGATCTGAAGACACGGCTGTGTATTACTGTGCGAGATTAAGGTATTGTAGTAGTACCAGCTGCTATGGAGCACCCTACTTTGACTACTGGGGCCAGGGAACCCTGGTCACCGTCTCCTCAGGGAGTGCATCCGCCCCAACCCTTTTCCCCCTCGTCTCCTGTGAGAATTCCCCGTCGGATACGAGCAGCGTG\n"
          ]
        }
      ]
    },
    {
      "cell_type": "markdown",
      "source": [
        "## 1. V(D)J gene annotation"
      ],
      "metadata": {
        "id": "Hm0_hWOXQdJ8"
      }
    },
    {
      "cell_type": "markdown",
      "source": [
        "Use IgBLAST to annotate each read with its germline V(D)J gene alleles and to identify relevant sequence structure.\n",
        "\n",
        "[`Change-O`](https://pubmed.ncbi.nlm.nih.gov/26069265/) provides a wrapper script `AssignGenes.py` to run IgBLAST."
      ],
      "metadata": {
        "id": "Gez4liSBw_wP"
      }
    },
    {
      "cell_type": "markdown",
      "source": [
        "[`AssignGenes.py`](https://changeo.readthedocs.io/en/stable/tools/AssignGenes.html) performs V(D)J assignment with IgBLAST.\n",
        "* `-s`: input sequences  \n",
        "* `-b`: a reference germlines database\n",
        "* `--organism`: species \n",
        "* `--loci`: type of receptor, ig for BCR, tcr for TCR\n",
        "* `--format blast`: **output file in the fmt7 format.**\n",
        "* `--nproc`: the number of processors with ."
      ],
      "metadata": {
        "id": "3D6mRNhlmFl4"
      }
    },
    {
      "cell_type": "code",
      "source": [
        "SAM='/vdj_0654/'\n",
        "DIR='/content/drive/MyDrive/Immcantation/'\n",
        "INPUT=DIR + 'data' + SAM + 'filtered_contig.fasta'\n",
        "OUTPUT=DIR + 'results' + SAM\n",
        "IGBLAST=DIR + 'igblast'\n",
        "!mkdir -p $OUTPUT"
      ],
      "metadata": {
        "id": "FgwMybtn5jMd"
      },
      "execution_count": null,
      "outputs": []
    },
    {
      "cell_type": "code",
      "source": [
        "!AssignGenes.py igblast \\\n",
        "-s $INPUT \\\n",
        "-b $IGBLAST \\\n",
        "--organism human \\\n",
        "--loci ig \\\n",
        "--format blast \\\n",
        "--outdir $OUTPUT \\\n",
        "--nproc 8"
      ],
      "metadata": {
        "colab": {
          "base_uri": "https://localhost:8080/"
        },
        "id": "krP_-G7xP9WB",
        "outputId": "fcd6112d-9efa-440e-fdd4-d59a660a931b"
      },
      "execution_count": null,
      "outputs": [
        {
          "output_type": "stream",
          "name": "stdout",
          "text": [
            "   START> AssignGenes\n",
            " COMMAND> igblast\n",
            " VERSION> 1.19.0\n",
            "    FILE> filtered_contig.fasta\n",
            "ORGANISM> human\n",
            "    LOCI> ig\n",
            "   NPROC> 8\n",
            "\n",
            "PROGRESS> 22:25:19 |Done                     | 12.5 min\n",
            "\n",
            "  PASS> 17586\n",
            "OUTPUT> filtered_contig_igblast.fmt7\n",
            "   END> AssignGenes\n",
            "\n"
          ]
        }
      ]
    },
    {
      "cell_type": "markdown",
      "source": [
        "## 2. Data standardization"
      ],
      "metadata": {
        "id": "f-xP_dg-yGxe"
      }
    },
    {
      "cell_type": "markdown",
      "source": [
        "The fmt7 results from previous step `IgBLAST` are converted into a standardized format, [AIRR](https://docs.airr-community.org/en/latest/datarep/rearrangements.html.) format, a tabulated text file with rows are sequences, and columns are annotations. "
      ],
      "metadata": {
        "id": "dwF33M5nwCkv"
      }
    },
    {
      "cell_type": "markdown",
      "source": [
        "[`MakeDb.py`](https://changeo.readthedocs.io/en/stable/tools/MakeDb.html) converts annotated resulst to AIRR format\n",
        "* `-s`: input sequences\n",
        "* **`--10x`:** the filtered_contig_annotations.csv file from 10x\n",
        "* `-i`: annotated sequences\n",
        "* `-r`: reference germlines\n",
        "* `--format`: AIRR\n",
        "* `--extend`: adds these columns:  `<vdj>_score`, `<vdj>_identity`, `<vdj>_support`, `<vdj>_cigar`, `fwr1`, `fwr2`, `fwr3`, `fwr4`, `cdr1`, `cdr2` and `cdr3`."
      ],
      "metadata": {
        "id": "YwVUW8w42LEu"
      }
    },
    {
      "cell_type": "code",
      "source": [
        "CHANGEO=DIR + 'results' + SAM + 'changeo'\n",
        "REF_VDJ=DIR +'germlines/igmt/human/vdj'\n",
        "INPUT2=DIR + 'data' + SAM + 'filtered_contig_annotations.csv'\n",
        "!mkdir -p $CHANGEO\n",
        "!MakeDb.py igblast \\\n",
        "-s $INPUT \\\n",
        "--10x $INPUT2 \\\n",
        "-i $OUTPUT/filtered_contig_igblast.fmt7 \\\n",
        "-r $REF_VDJ \\\n",
        "--format airr \\\n",
        "--outdir $CHANGEO \\\n",
        "--outname data \\\n",
        "--extend  "
      ],
      "metadata": {
        "colab": {
          "base_uri": "https://localhost:8080/"
        },
        "id": "fFCECU53y6wH",
        "outputId": "c16a14f1-49c3-4858-f168-9f0db8ea2659"
      },
      "execution_count": null,
      "outputs": [
        {
          "output_type": "stream",
          "name": "stdout",
          "text": [
            "         START> MakeDB\n",
            "       COMMAND> igblast\n",
            "  ALIGNER_FILE> filtered_contig_igblast.fmt7\n",
            "      SEQ_FILE> filtered_contig.fasta\n",
            "       ASIS_ID> False\n",
            "    ASIS_CALLS> False\n",
            "       PARTIAL> False\n",
            "      EXTENDED> True\n",
            "INFER_JUNCTION> False\n",
            "\n",
            "PROGRESS> 22:30:24 |Done                | 0.0 min\n",
            "\n",
            "PROGRESS> 22:30:47 |####################| 100% (17,586) 0.4 min\n",
            "\n",
            "OUTPUT> data_db-pass.tsv\n",
            "  PASS> 17496\n",
            "  FAIL> 90\n",
            "   END> MakeDb\n",
            "\n"
          ]
        }
      ]
    },
    {
      "cell_type": "markdown",
      "source": [
        "Output file is:"
      ],
      "metadata": {
        "id": "Cff16jCG8KIf"
      }
    },
    {
      "cell_type": "code",
      "source": [
        "CHANGEO + '/data_db-pass.tsv'"
      ],
      "metadata": {
        "colab": {
          "base_uri": "https://localhost:8080/",
          "height": 35
        },
        "id": "lBcsvlS98In-",
        "outputId": "ff8c65ee-7ac3-46c9-814b-89ba44706b4f"
      },
      "execution_count": null,
      "outputs": [
        {
          "output_type": "execute_result",
          "data": {
            "text/plain": [
              "'/content/drive/MyDrive/Immcantation/results/vdj_0654/changeo/data_db-pass.tsv'"
            ],
            "application/vnd.google.colaboratory.intrinsic+json": {
              "type": "string"
            }
          },
          "metadata": {},
          "execution_count": 157
        }
      ]
    },
    {
      "cell_type": "markdown",
      "source": [
        "Check the results file - preview the first row and all columns"
      ],
      "metadata": {
        "id": "bQM5ealjEGgu"
      }
    },
    {
      "cell_type": "code",
      "source": [
        "import pandas as pd "
      ],
      "metadata": {
        "id": "XMuqlzF2FXpY"
      },
      "execution_count": null,
      "outputs": []
    },
    {
      "cell_type": "code",
      "source": [
        "d = pd.read_csv(CHANGEO + '/data_db-pass.tsv', sep='\\t', header=0)\n",
        "d.iloc[0]"
      ],
      "metadata": {
        "colab": {
          "base_uri": "https://localhost:8080/"
        },
        "id": "PHvnfIP1DlT_",
        "outputId": "eefa0b6d-953e-4b6f-a822-50549ea1ee79"
      },
      "execution_count": null,
      "outputs": [
        {
          "output_type": "execute_result",
          "data": {
            "text/plain": [
              "sequence_id                                 AAACCTGAGAAGGTTT-1_contig_1\n",
              "sequence              AGGAGTCAGACCCAGTCAGGACACAGCATGGACATGAGGGTCCCCG...\n",
              "rev_comp                                                              F\n",
              "productive                                                            T\n",
              "v_call                                                      IGKV1D-8*01\n",
              "d_call                                                              NaN\n",
              "j_call                                                         IGKJ1*01\n",
              "sequence_alignment    GTCATCTGGATGACCCAGTCTCCATCCTTACTCTCTGCATCTACAG...\n",
              "germline_alignment    GTCATCTGGATGACCCAGTCTCCATCCTTACTCTCTGCATCTACAG...\n",
              "junction                              TGTCAACAGTATTATAGTTTCCCGTGGACGTTC\n",
              "junction_aa                                                 CQQYYSFPWTF\n",
              "v_cigar                                                         93S284=\n",
              "d_cigar                                                             NaN\n",
              "j_cigar                                                         377S38=\n",
              "stop_codon                                                            F\n",
              "vj_in_frame                                                           T\n",
              "locus                                                               IGK\n",
              "junction_length                                                      33\n",
              "np1_length                                                            0\n",
              "np2_length                                                          NaN\n",
              "v_sequence_start                                                     94\n",
              "v_sequence_end                                                      377\n",
              "v_germline_start                                                      1\n",
              "v_germline_end                                                      332\n",
              "d_sequence_start                                                    NaN\n",
              "d_sequence_end                                                      NaN\n",
              "d_germline_start                                                    NaN\n",
              "d_germline_end                                                      NaN\n",
              "j_sequence_start                                                    378\n",
              "j_sequence_end                                                      415\n",
              "j_germline_start                                                      1\n",
              "j_germline_end                                                       38\n",
              "v_score                                                           444.0\n",
              "v_identity                                                          1.0\n",
              "v_support                                                           0.0\n",
              "d_score                                                             NaN\n",
              "d_identity                                                          NaN\n",
              "d_support                                                           NaN\n",
              "j_score                                                            73.7\n",
              "j_identity                                                          1.0\n",
              "j_support                                                           0.0\n",
              "fwr1                  GTCATCTGGATGACCCAGTCTCCATCCTTACTCTCTGCATCTACAG...\n",
              "fwr2                  TTAGCCTGGTATCAGCAAAAACCAGGGAAAGCCCCTGAGCTCCTGA...\n",
              "fwr3                  ACTTTGCAAAGTGGGGTCCCA...TCAAGGTTCAGTGGCAGTGGA....\n",
              "fwr4                                    TTCGGCCAAGGGACCAAGGTGGAAATCAAAC\n",
              "cdr1                               CAGGGCATT..................AGCAGTTAT\n",
              "cdr2                                     GCTGCA.....................TCC\n",
              "cdr3                                        CAACAGTATTATAGTTTCCCGTGGACG\n",
              "cell_id                                              AAACCTGAGAAGGTTT-1\n",
              "c_call                                                             IGKC\n",
              "consensus_count                                                     520\n",
              "umi_count                                                             8\n",
              "v_call_10x                                                     IGKV1D-8\n",
              "d_call_10x                                                          NaN\n",
              "j_call_10x                                                        IGKJ1\n",
              "junction_10x                          TGTCAACAGTATTATAGTTTCCCGTGGACGTTC\n",
              "junction_10x_aa                                             CQQYYSFPWTF\n",
              "Name: 0, dtype: object"
            ]
          },
          "metadata": {},
          "execution_count": 156
        }
      ]
    },
    {
      "cell_type": "markdown",
      "source": [
        "# Additional functions "
      ],
      "metadata": {
        "id": "EWrgTHdF9ZZ0"
      }
    },
    {
      "cell_type": "markdown",
      "source": [
        "## Subset productive chains "
      ],
      "metadata": {
        "id": "w3dn9t1ny6Pn"
      }
    },
    {
      "cell_type": "markdown",
      "source": [
        "[`ParseDb.py`](https://changeo.readthedocs.io/en/stable/tools/ParseDb.html) to filter 'Productive' sequences. \n",
        "\n",
        "* `-d`: the input file\n",
        "* `-f`: the columns to filer\n",
        "* `-u`: the values in those columns to match\n",
        "* `--regex`: treat values as regular expressions and allow partial string matches"
      ],
      "metadata": {
        "id": "EQZyzd5D4nHL"
      }
    },
    {
      "cell_type": "code",
      "source": [
        "DATA=CHANGEO + '/data_db-pass.tsv'\n",
        "!ParseDb.py select \\\n",
        "-d $DATA \\\n",
        "-f productive \\\n",
        "-u T \\\n",
        "--outname data_productive"
      ],
      "metadata": {
        "id": "PdBQd6xu4ZX4",
        "colab": {
          "base_uri": "https://localhost:8080/"
        },
        "outputId": "ba1cb81c-839e-4b34-c762-e83d66e4c1e4"
      },
      "execution_count": null,
      "outputs": [
        {
          "output_type": "stream",
          "name": "stdout",
          "text": [
            "  START> ParseDb\n",
            "COMMAND> select\n",
            "   FILE> data_db-pass.tsv\n",
            " FIELDS> productive\n",
            " VALUES> T\n",
            "  REGEX> False\n",
            "\n",
            "PROGRESS> 20:56:36 |####################| 100% (17,496) 0.0 min\n",
            "\n",
            "   OUTPUT> data_productive_parse-select.tsv\n",
            "  RECORDS> 17496\n",
            " SELECTED> 17496\n",
            "DISCARDED> 0\n",
            "      END> ParseDb\n",
            "\n"
          ]
        }
      ]
    },
    {
      "cell_type": "code",
      "source": [
        "dp = pd.read_csv(CHANGEO + '/data_productive_parse-select.tsv', sep='\\t', header=0)\n",
        "dp.iloc[0]"
      ],
      "metadata": {
        "colab": {
          "base_uri": "https://localhost:8080/"
        },
        "id": "LmyUucG8mU6v",
        "outputId": "6d5d0780-98a0-4389-9a5d-bdff0542f778"
      },
      "execution_count": null,
      "outputs": [
        {
          "output_type": "execute_result",
          "data": {
            "text/plain": [
              "sequence_id                                 AAACCTGAGAAGGTTT-1_contig_1\n",
              "sequence              AGGAGTCAGACCCAGTCAGGACACAGCATGGACATGAGGGTCCCCG...\n",
              "rev_comp                                                              F\n",
              "productive                                                            T\n",
              "v_call                                                      IGKV1D-8*01\n",
              "d_call                                                              NaN\n",
              "j_call                                                         IGKJ1*01\n",
              "sequence_alignment    GTCATCTGGATGACCCAGTCTCCATCCTTACTCTCTGCATCTACAG...\n",
              "germline_alignment    GTCATCTGGATGACCCAGTCTCCATCCTTACTCTCTGCATCTACAG...\n",
              "junction                              TGTCAACAGTATTATAGTTTCCCGTGGACGTTC\n",
              "junction_aa                                                 CQQYYSFPWTF\n",
              "v_cigar                                                         93S284=\n",
              "d_cigar                                                             NaN\n",
              "j_cigar                                                         377S38=\n",
              "stop_codon                                                            F\n",
              "vj_in_frame                                                           T\n",
              "locus                                                               IGK\n",
              "junction_length                                                      33\n",
              "np1_length                                                            0\n",
              "np2_length                                                          NaN\n",
              "v_sequence_start                                                     94\n",
              "v_sequence_end                                                      377\n",
              "v_germline_start                                                      1\n",
              "v_germline_end                                                      332\n",
              "d_sequence_start                                                    NaN\n",
              "d_sequence_end                                                      NaN\n",
              "d_germline_start                                                    NaN\n",
              "d_germline_end                                                      NaN\n",
              "j_sequence_start                                                    378\n",
              "j_sequence_end                                                      415\n",
              "j_germline_start                                                      1\n",
              "j_germline_end                                                       38\n",
              "Name: 0, dtype: object"
            ]
          },
          "metadata": {},
          "execution_count": 111
        }
      ]
    },
    {
      "cell_type": "markdown",
      "source": [
        "## Split heavy and light chain files"
      ],
      "metadata": {
        "id": "yD06w-6XmGbF"
      }
    },
    {
      "cell_type": "code",
      "source": [
        "DATA=CHANGEO + '/data_productive_parse-select.tsv'\n",
        "!ParseDb.py select \\\n",
        "-d $DATA \\\n",
        "-f locus -u \"IGH\" \\\n",
        "--logic all \\\n",
        "--regex \\\n",
        "--outname heavy"
      ],
      "metadata": {
        "colab": {
          "base_uri": "https://localhost:8080/"
        },
        "id": "I8wPx4iO4l0z",
        "outputId": "2a906fb9-b3ef-403a-a1a3-936d46c7d10b"
      },
      "execution_count": null,
      "outputs": [
        {
          "output_type": "stream",
          "name": "stdout",
          "text": [
            "  START> ParseDb\n",
            "COMMAND> select\n",
            "   FILE> data_productive_parse-select.tsv\n",
            " FIELDS> locus\n",
            " VALUES> IGH\n",
            "  REGEX> True\n",
            "\n",
            "PROGRESS> 21:01:30 |####################| 100% (17,496) 0.0 min\n",
            "\n",
            "   OUTPUT> heavy_parse-select.tsv\n",
            "  RECORDS> 17496\n",
            " SELECTED> 8477\n",
            "DISCARDED> 9019\n",
            "      END> ParseDb\n",
            "\n"
          ]
        }
      ]
    },
    {
      "cell_type": "code",
      "source": [
        "!ParseDb.py select \\\n",
        "-d $DATA \\\n",
        "-f locus \\\n",
        "-u \"IG[LK]\" \\\n",
        "--logic all \\\n",
        "--regex \\\n",
        "--outname light"
      ],
      "metadata": {
        "colab": {
          "base_uri": "https://localhost:8080/"
        },
        "id": "30JnoI0uneTw",
        "outputId": "24901e5c-473e-4c5c-9e8e-966b5982721a"
      },
      "execution_count": null,
      "outputs": [
        {
          "output_type": "stream",
          "name": "stdout",
          "text": [
            "  START> ParseDb\n",
            "COMMAND> select\n",
            "   FILE> data_productive_parse-select.tsv\n",
            " FIELDS> locus\n",
            " VALUES> IG[LK]\n",
            "  REGEX> True\n",
            "\n",
            "PROGRESS> 21:01:44 |####################| 100% (17,496) 0.0 min\n",
            "\n",
            "   OUTPUT> light_parse-select.tsv\n",
            "  RECORDS> 17496\n",
            " SELECTED> 9019\n",
            "DISCARDED> 8477\n",
            "      END> ParseDb\n",
            "\n"
          ]
        }
      ]
    },
    {
      "cell_type": "markdown",
      "source": [
        "## One-step processing"
      ],
      "metadata": {
        "id": "P99ChyIrqEgv"
      }
    },
    {
      "cell_type": "code",
      "source": [
        "DIR='/content/drive/MyDrive/Immcantation/'\n",
        "FASTA=DIR + 'data' + SAM + 'filtered_contig.fasta'\n",
        "CSV=DIR + 'data' + SAM + 'filtered_contig_annotations.csv'\n",
        "OUTPUT=DIR + 'results' + SAM + 'changeo-10x'"
      ],
      "metadata": {
        "id": "QQ31W9ZqqeVv"
      },
      "execution_count": null,
      "outputs": []
    },
    {
      "cell_type": "code",
      "source": [
        "!/content/immcantation/pipelines/changeo-10x.sh \\\n",
        "-s $FASTA \\\n",
        "-a $CSV \\\n",
        "-o $OUTPUT \\\n",
        "-g human \\\n",
        "-t ig \\\n",
        "-x auto"
      ],
      "metadata": {
        "id": "tF29kpZyD5QW"
      },
      "execution_count": null,
      "outputs": []
    }
  ]
}