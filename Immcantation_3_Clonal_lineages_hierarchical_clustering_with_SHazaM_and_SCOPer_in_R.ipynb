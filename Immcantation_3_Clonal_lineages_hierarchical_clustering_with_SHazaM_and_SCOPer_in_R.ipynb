{
  "nbformat": 4,
  "nbformat_minor": 0,
  "metadata": {
    "colab": {
      "name": "Immcantation_3_Clonal_lineages_hierarchical_clustering_with_SHazaM_and_SCOPer_in_R.ipynb",
      "provenance": [],
      "collapsed_sections": [],
      "toc_visible": true,
      "machine_shape": "hm",
      "authorship_tag": "ABX9TyO1KR0760eXBFUhvNpSaMtR",
      "include_colab_link": true
    },
    "kernelspec": {
      "name": "ir",
      "display_name": "R"
    },
    "language_info": {
      "name": "R"
    },
    "gpuClass": "standard"
  },
  "cells": [
    {
      "cell_type": "markdown",
      "metadata": {
        "id": "view-in-github",
        "colab_type": "text"
      },
      "source": [
        "<a href=\"https://colab.research.google.com/github/yyw-informatics/WASP/blob/main/Immcantation_3_Clonal_lineages_hierarchical_clustering_with_SHazaM_and_SCOPer_in_R.ipynb\" target=\"_parent\"><img src=\"https://colab.research.google.com/assets/colab-badge.svg\" alt=\"Open In Colab\"/></a>"
      ]
    },
    {
      "cell_type": "markdown",
      "source": [
        "### To speed up the lineage clutering, in `Runtime`, select `High RAM`"
      ],
      "metadata": {
        "id": "ejTnxX7TTiyk"
      }
    },
    {
      "cell_type": "markdown",
      "source": [
        "## Install R packages"
      ],
      "metadata": {
        "id": "Gzbp_FXBcaYr"
      }
    },
    {
      "cell_type": "code",
      "execution_count": null,
      "metadata": {
        "colab": {
          "base_uri": "https://localhost:8080/"
        },
        "id": "xfEkp_NYbu_m",
        "outputId": "40065815-be8a-4a23-aee2-e715ce818af6"
      },
      "outputs": [
        {
          "output_type": "stream",
          "name": "stderr",
          "text": [
            "Installing package into ‘/usr/local/lib/R/site-library’\n",
            "(as ‘lib’ is unspecified)\n",
            "\n"
          ]
        }
      ],
      "source": [
        "install.packages('easypackages')\n",
        "library(easypackages)"
      ]
    },
    {
      "cell_type": "markdown",
      "source": [
        "#### For installing packages from github or bitbucket"
      ],
      "metadata": {
        "id": "qhhFnrR48tY4"
      }
    },
    {
      "cell_type": "code",
      "source": [
        "install.packages(c(\"devtools\", \"roxygen2\", \"testthat\", \"knitr\", \"rmarkdown\", \"Rcpp\"))"
      ],
      "metadata": {
        "colab": {
          "base_uri": "https://localhost:8080/"
        },
        "id": "8S3QQ2f2cshN",
        "outputId": "ffd0b9d2-07f0-4234-9920-950b44429742"
      },
      "execution_count": null,
      "outputs": [
        {
          "output_type": "stream",
          "name": "stderr",
          "text": [
            "Installing packages into ‘/usr/local/lib/R/site-library’\n",
            "(as ‘lib’ is unspecified)\n",
            "\n"
          ]
        }
      ]
    },
    {
      "cell_type": "markdown",
      "source": [
        "#### Immcantation packages - 17-20m to install"
      ],
      "metadata": {
        "id": "m9mkdprS8y_M"
      }
    },
    {
      "cell_type": "code",
      "source": [
        "library(devtools)\n",
        "install_bitbucket(\"kleinstein/alakazam@master\")\n",
        "install_bitbucket(\"kleinstein/shazam@master\")\n",
        "install.packages(\"tigger\")\n",
        "install.packages(\"scoper\")\n",
        "install_bitbucket(\"kleinstein/dowser@master\")"
      ],
      "metadata": {
        "colab": {
          "base_uri": "https://localhost:8080/"
        },
        "id": "zqNGoW35cwMS",
        "outputId": "c197421b-ac7f-466b-8221-9a577c46072f"
      },
      "execution_count": null,
      "outputs": [
        {
          "output_type": "stream",
          "name": "stderr",
          "text": [
            "Loading required package: usethis\n",
            "\n",
            "Downloading bitbucket repo kleinstein/alakazam@master\n",
            "\n"
          ]
        },
        {
          "output_type": "stream",
          "name": "stdout",
          "text": [
            "formatR      (NA    -> 1.12    ) [CRAN]\n",
            "futile.op... (NA    -> 1.0.1   ) [CRAN]\n",
            "lambda.r     (NA    -> 1.2.4   ) [CRAN]\n",
            "BH           (NA    -> 1.78.0-0) [CRAN]\n",
            "snow         (NA    -> 0.4-4   ) [CRAN]\n",
            "futile.lo... (NA    -> 1.4.3   ) [CRAN]\n",
            "GenomeInf... (NA    -> 1.2.8   ) [CRAN]\n",
            "RCurl        (NA    -> 1.98-1.7) [CRAN]\n",
            "Rhtslib      (NA    -> 1.28.0  ) [CRAN]\n",
            "BiocParallel (NA    -> 1.30.3  ) [CRAN]\n",
            "bitops       (NA    -> 1.0-7   ) [CRAN]\n",
            "zlibbioc     (NA    -> 1.42.0  ) [CRAN]\n",
            "XVector      (NA    -> 0.36.0  ) [CRAN]\n",
            "IRanges      (NA    -> 2.30.0  ) [CRAN]\n",
            "S4Vectors    (NA    -> 0.34.0  ) [CRAN]\n",
            "BiocGenerics (NA    -> 0.42.0  ) [CRAN]\n",
            "Biostrings   (NA    -> 2.64.0  ) [CRAN]\n",
            "GenomicRa... (NA    -> 1.48.0  ) [CRAN]\n",
            "GenomeInfoDb (NA    -> 1.32.2  ) [CRAN]\n",
            "matrixStats  (NA    -> 0.62.0  ) [CRAN]\n",
            "DelayedArray (NA    -> 0.22.0  ) [CRAN]\n",
            "Biobase      (NA    -> 2.56.0  ) [CRAN]\n",
            "MatrixGen... (NA    -> 1.8.1   ) [CRAN]\n",
            "rlang        (1.0.3 -> 1.0.4   ) [CRAN]\n",
            "generics     (0.1.2 -> 0.1.3   ) [CRAN]\n",
            "sp           (NA    -> 1.5-0   ) [CRAN]\n",
            "pixmap       (NA    -> 0.4-12  ) [CRAN]\n",
            "farver       (2.1.0 -> 2.1.1   ) [CRAN]\n",
            "Rsamtools    (NA    -> 2.12.0  ) [CRAN]\n",
            "Summarize... (NA    -> 1.26.1  ) [CRAN]\n",
            "segmented    (NA    -> 1.6-0   ) [CRAN]\n",
            "ade4         (NA    -> 1.7-19  ) [CRAN]\n",
            "stringi      (1.7.6 -> 1.7.8   ) [CRAN]\n",
            "GenomicAl... (NA    -> 1.32.0  ) [CRAN]\n",
            "seqinr       (NA    -> 4.2-16  ) [CRAN]\n",
            "igraph       (NA    -> 1.3.2   ) [CRAN]\n",
            "ape          (NA    -> 5.6-2   ) [CRAN]\n",
            "airr         (NA    -> 1.3.0   ) [CRAN]\n"
          ]
        },
        {
          "output_type": "stream",
          "name": "stderr",
          "text": [
            "Installing 38 packages: formatR, futile.options, lambda.r, BH, snow, futile.logger, GenomeInfoDbData, RCurl, Rhtslib, BiocParallel, bitops, zlibbioc, XVector, IRanges, S4Vectors, BiocGenerics, Biostrings, GenomicRanges, GenomeInfoDb, matrixStats, DelayedArray, Biobase, MatrixGenerics, rlang, generics, sp, pixmap, farver, Rsamtools, SummarizedExperiment, segmented, ade4, stringi, GenomicAlignments, seqinr, igraph, ape, airr\n",
            "\n",
            "Installing packages into ‘/usr/local/lib/R/site-library’\n",
            "(as ‘lib’ is unspecified)\n",
            "\n"
          ]
        },
        {
          "output_type": "stream",
          "name": "stdout",
          "text": [
            "* checking for file ‘/tmp/Rtmpx37BFL/remotes5473c2ee7/kleinstein-alakazam-9ffa2b2c253d/DESCRIPTION’ ... OK\n",
            "* preparing ‘alakazam’:\n",
            "* checking DESCRIPTION meta-information ... OK\n",
            "* cleaning src\n",
            "* checking for LF line-endings in source and make files and shell scripts\n",
            "* checking for empty or unneeded directories\n",
            "* building ‘alakazam_1.2.0.9999.tar.gz’\n",
            "\n"
          ]
        },
        {
          "output_type": "stream",
          "name": "stderr",
          "text": [
            "Installing package into ‘/usr/local/lib/R/site-library’\n",
            "(as ‘lib’ is unspecified)\n",
            "\n",
            "Downloading bitbucket repo kleinstein/shazam@master\n",
            "\n"
          ]
        },
        {
          "output_type": "stream",
          "name": "stdout",
          "text": [
            "iterators  (NA -> 1.0.14) [CRAN]\n",
            "foreach    (NA -> 1.5.2 ) [CRAN]\n",
            "lazyeval   (NA -> 0.2.2 ) [CRAN]\n",
            "doParallel (NA -> 1.0.17) [CRAN]\n",
            "diptest    (NA -> 0.76-0) [CRAN]\n"
          ]
        },
        {
          "output_type": "stream",
          "name": "stderr",
          "text": [
            "Installing 5 packages: iterators, foreach, lazyeval, doParallel, diptest\n",
            "\n",
            "Installing packages into ‘/usr/local/lib/R/site-library’\n",
            "(as ‘lib’ is unspecified)\n",
            "\n"
          ]
        },
        {
          "output_type": "stream",
          "name": "stdout",
          "text": [
            "* checking for file ‘/tmp/Rtmpx37BFL/remotes542affdc21/kleinstein-shazam-7443d21b393e/DESCRIPTION’ ... OK\n",
            "* preparing ‘shazam’:\n",
            "* checking DESCRIPTION meta-information ... OK\n",
            "* checking for LF line-endings in source and make files and shell scripts\n",
            "* checking for empty or unneeded directories\n",
            "* building ‘shazam_1.1.1.999.tar.gz’\n",
            "\n"
          ]
        },
        {
          "output_type": "stream",
          "name": "stderr",
          "text": [
            "Installing package into ‘/usr/local/lib/R/site-library’\n",
            "(as ‘lib’ is unspecified)\n",
            "\n",
            "Installing package into ‘/usr/local/lib/R/site-library’\n",
            "(as ‘lib’ is unspecified)\n",
            "\n",
            "also installing the dependencies ‘gridExtra’, ‘gtools’\n",
            "\n",
            "\n",
            "Installing package into ‘/usr/local/lib/R/site-library’\n",
            "(as ‘lib’ is unspecified)\n",
            "\n",
            "Downloading bitbucket repo kleinstein/dowser@master\n",
            "\n"
          ]
        },
        {
          "output_type": "stream",
          "name": "stdout",
          "text": [
            "yulab.utils  (NA -> 0.0.5 ) [CRAN]\n",
            "tidytree     (NA -> 0.3.9 ) [CRAN]\n",
            "gridGraphics (NA -> 0.5-1 ) [CRAN]\n",
            "patchwork    (NA -> 1.1.1 ) [CRAN]\n",
            "ggplotify    (NA -> 0.1.0 ) [CRAN]\n",
            "ggfun        (NA -> 0.0.6 ) [CRAN]\n",
            "quadprog     (NA -> 1.5-8 ) [CRAN]\n",
            "fastmatch    (NA -> 1.1-3 ) [CRAN]\n",
            "treeio       (NA -> 1.20.0) [CRAN]\n",
            "aplot        (NA -> 0.1.6 ) [CRAN]\n",
            "phylotate    (NA -> 1.3   ) [CRAN]\n",
            "phangorn     (NA -> 2.9.0 ) [CRAN]\n",
            "markdown     (NA -> 1.1   ) [CRAN]\n",
            "ggtree       (NA -> 3.4.0 ) [CRAN]\n"
          ]
        },
        {
          "output_type": "stream",
          "name": "stderr",
          "text": [
            "Installing 14 packages: yulab.utils, tidytree, gridGraphics, patchwork, ggplotify, ggfun, quadprog, fastmatch, treeio, aplot, phylotate, phangorn, markdown, ggtree\n",
            "\n",
            "Installing packages into ‘/usr/local/lib/R/site-library’\n",
            "(as ‘lib’ is unspecified)\n",
            "\n"
          ]
        },
        {
          "output_type": "stream",
          "name": "stdout",
          "text": [
            "* checking for file ‘/tmp/Rtmpx37BFL/remotes5474f4cb04/kleinstein-dowser-77455036b1be/DESCRIPTION’ ... OK\n",
            "* preparing ‘dowser’:\n",
            "* checking DESCRIPTION meta-information ... OK\n",
            "* checking for LF line-endings in source and make files and shell scripts\n",
            "* checking for empty or unneeded directories\n",
            "* building ‘dowser_1.0.0.999.tar.gz’\n",
            "\n"
          ]
        },
        {
          "output_type": "stream",
          "name": "stderr",
          "text": [
            "Installing package into ‘/usr/local/lib/R/site-library’\n",
            "(as ‘lib’ is unspecified)\n",
            "\n"
          ]
        }
      ]
    },
    {
      "cell_type": "code",
      "source": [
        "libraries('alakazam','shazam','tigger','scoper','dowser')"
      ],
      "metadata": {
        "colab": {
          "base_uri": "https://localhost:8080/"
        },
        "id": "yUh_WPwvc4Sm",
        "outputId": "9035355d-c66e-4a5a-f36a-a5640bb0dcbd"
      },
      "execution_count": null,
      "outputs": [
        {
          "output_type": "stream",
          "name": "stderr",
          "text": [
            "Loading required package: alakazam\n",
            "\n",
            "Loading required package: ggplot2\n",
            "\n",
            "As of v1.0.0 the AIRR Rearrangement schema is now the default file format.\n",
            "A description of the standard is available at https://docs.airr-community.org.\n",
            "The legacy Change-O format is supported through arguments to each function\n",
            "that allow the input column names to be explicitly defined.\n",
            "\n",
            "Loading required package: shazam\n",
            "\n",
            "As of v1.0.0 the AIRR Rearrangement schema is now the default file format.\n",
            "A description of the standard is available at https://docs.airr-community.org.\n",
            "The legacy Change-O format is supported through arguments to each function\n",
            "that allow the input column names to be explicitly defined.\n",
            "\n",
            "Loading required package: tigger\n",
            "\n",
            "As of v1.0.0 the AIRR Rearrangement schema is now the default file format.\n",
            "A description of the standard is available at https://docs.airr-community.org.\n",
            "The legacy Change-O format is supported through arguments to each function\n",
            "that allow the input column names to be explicitly defined.\n",
            "\n",
            "Loading required package: scoper\n",
            "\n",
            "As of v1.0.0 the AIRR Rearrangement schema is now the default file format.\n",
            "A description of the standard is available at https://docs.airr-community.org.\n",
            "The legacy Change-O format is supported through arguments to each function\n",
            "that allow the input column names to be explicitly defined.\n",
            "\n",
            "\n",
            "Attaching package: ‘scoper’\n",
            "\n",
            "\n",
            "The following object is masked from ‘package:alakazam’:\n",
            "\n",
            "    ExampleDb\n",
            "\n",
            "\n",
            "Loading required package: dowser\n",
            "\n",
            "\n",
            "Attaching package: ‘dowser’\n",
            "\n",
            "\n",
            "The following object is masked from ‘package:alakazam’:\n",
            "\n",
            "    ExampleDbChangeo\n",
            "\n",
            "\n",
            "All packages loaded successfully\n",
            "\n"
          ]
        }
      ]
    },
    {
      "cell_type": "markdown",
      "source": [
        "#### For data analysis and figures"
      ],
      "metadata": {
        "id": "bVUQrj8hC1qS"
      }
    },
    {
      "cell_type": "code",
      "source": [
        "install.packages(c(\"data.table\",\"dplyr\",\"ggplot2\",\"cowplot\",\"gridExtra\",\"ggpubr\"))\n",
        "libraries(\"data.table\",\"dplyr\",\"ggplot2\",\"cowplot\",\"gridExtra\",\"ggpubr\")"
      ],
      "metadata": {
        "colab": {
          "base_uri": "https://localhost:8080/"
        },
        "id": "KbM8R07SCRy7",
        "outputId": "a1b31785-9b73-4dff-9544-d855b4855a6e"
      },
      "execution_count": null,
      "outputs": [
        {
          "output_type": "stream",
          "name": "stderr",
          "text": [
            "Installing packages into ‘/usr/local/lib/R/site-library’\n",
            "(as ‘lib’ is unspecified)\n",
            "\n",
            "also installing the dependencies ‘numDeriv’, ‘SparseM’, ‘MatrixModels’, ‘minqa’, ‘nloptr’, ‘RcppEigen’, ‘carData’, ‘abind’, ‘pbkrtest’, ‘quantreg’, ‘maptools’, ‘lme4’, ‘corrplot’, ‘car’, ‘ggrepel’, ‘ggsci’, ‘ggsignif’, ‘polynom’, ‘rstatix’\n",
            "\n",
            "\n",
            "Loading required package: data.table\n",
            "\n",
            "Loading required package: dplyr\n",
            "\n",
            "\n",
            "Attaching package: ‘dplyr’\n",
            "\n",
            "\n",
            "The following objects are masked from ‘package:data.table’:\n",
            "\n",
            "    between, first, last\n",
            "\n",
            "\n",
            "The following objects are masked from ‘package:stats’:\n",
            "\n",
            "    filter, lag\n",
            "\n",
            "\n",
            "The following objects are masked from ‘package:base’:\n",
            "\n",
            "    intersect, setdiff, setequal, union\n",
            "\n",
            "\n",
            "Loading required package: cowplot\n",
            "\n",
            "Loading required package: gridExtra\n",
            "\n",
            "\n",
            "Attaching package: ‘gridExtra’\n",
            "\n",
            "\n",
            "The following object is masked from ‘package:dplyr’:\n",
            "\n",
            "    combine\n",
            "\n",
            "\n",
            "Loading required package: ggpubr\n",
            "\n",
            "\n",
            "Attaching package: ‘ggpubr’\n",
            "\n",
            "\n",
            "The following object is masked from ‘package:cowplot’:\n",
            "\n",
            "    get_legend\n",
            "\n",
            "\n",
            "All packages loaded successfully\n",
            "\n"
          ]
        }
      ]
    },
    {
      "cell_type": "markdown",
      "source": [
        "## Read in data"
      ],
      "metadata": {
        "id": "79MWlKpj1v-5"
      }
    },
    {
      "cell_type": "markdown",
      "source": [
        "Use **either one** of these two files"
      ],
      "metadata": {
        "id": "3qUWRVoU-IvR"
      }
    },
    {
      "cell_type": "markdown",
      "source": [
        "### Annotated file"
      ],
      "metadata": {
        "id": "_DuLu_EA1yct"
      }
    },
    {
      "cell_type": "code",
      "source": [
        "data <- readChangeoDb('data_db-pass.tsv')\n",
        "data <- data %>% filter(productive)\n",
        "multi_heavy <- table(filter(data, locus == \"IGH\")$cell_id)\n",
        "multi_heavy_cells <- names(multi_heavy)[multi_heavy > 1]\n",
        "data <- filter(data, !cell_id %in% multi_heavy_cells)\n",
        "heavy_cells <- filter(data, locus == \"IGH\")$cell_id\n",
        "light_cells <- filter(data, locus == \"IGK\" | locus == \"IGL\")$cell_id\n",
        "no_heavy_cells <- light_cells[which(!light_cells %in% heavy_cells)]\n",
        "data <- filter(data, !cell_id %in% no_heavy_cells)\n",
        "nrow(data)"
      ],
      "metadata": {
        "colab": {
          "base_uri": "https://localhost:8080/",
          "height": 34
        },
        "id": "RIw9kq4lKfPe",
        "outputId": "cd6e615a-da67-40eb-a76f-f46617338add"
      },
      "execution_count": null,
      "outputs": [
        {
          "output_type": "display_data",
          "data": {
            "text/html": [
              "15286"
            ],
            "text/markdown": "15286",
            "text/latex": "15286",
            "text/plain": [
              "[1] 15286"
            ]
          },
          "metadata": {}
        }
      ]
    },
    {
      "cell_type": "markdown",
      "source": [
        "### Annotated and genotyped file"
      ],
      "metadata": {
        "id": "Jw5bNbuN18Fg"
      }
    },
    {
      "cell_type": "code",
      "source": [
        "data <- readChangeoDb('data_db-pass-genotyped.tsv')"
      ],
      "metadata": {
        "id": "_V2lgiJd1vXU"
      },
      "execution_count": null,
      "outputs": []
    },
    {
      "cell_type": "markdown",
      "source": [
        "## Calculate nearest neighbor distances \n",
        "For details see [here](https://shazam.readthedocs.io/en/stable/vignettes/DistToNearest-Vignette/) and [here](https://cran.r-project.org/web/packages/shazam/vignettes/DistToNearest-Vignette.pdf)"
      ],
      "metadata": {
        "id": "kgRyJeneERAG"
      }
    },
    {
      "cell_type": "markdown",
      "source": [
        "### Paired heavy and light chains"
      ],
      "metadata": {
        "id": "R8CzF2raEezt"
      }
    },
    {
      "cell_type": "markdown",
      "source": [
        " \n",
        "* `onlyHeavy=FALSE`: turn on paired chain grouping \n",
        "*  `VJthenLen`\n",
        "  * When `VJthenLen=FALSE`: turn on **one-stage** process - cells are divided into partitions containing same *heavy chain* V gene, J gene, and junction length (V-J-length combination), and the same *light chain* V-J-length combination\n",
        "  * When `VJthenLen=TRUE`: turn on **two-stage proces** - cells are first divided by heavy chain V gene and J gene (V-J combination), and light chain V-J combination; and then by the corresponding junction lengths."
      ],
      "metadata": {
        "id": "-4RA1k-IFr2D"
      }
    },
    {
      "cell_type": "code",
      "source": [
        "dist_sc <- distToNearest(data, cellIdColumn=\"cell_id\", locusColumn=\"locus\", VJthenLen=FALSE, onlyHeavy=FALSE)"
      ],
      "metadata": {
        "id": "BJZKLeveFB4R"
      },
      "execution_count": null,
      "outputs": []
    },
    {
      "cell_type": "markdown",
      "source": [
        "Regardless of whether grouping was done using only the heavy chain sequences, or both heavy and\n",
        "light chain sequences, **only heavy chain sequences will be used for calculating the nearest neighbor\n",
        "distances.** Hence, under the single-cell mode, rows in the returned data.frame corresponding to\n",
        "**light chain sequences will have NA in the dist_nearest** field."
      ],
      "metadata": {
        "id": "DIL71S9VMEqJ"
      }
    },
    {
      "cell_type": "markdown",
      "source": [
        "The table below shows how many IGH/K/L sequences in the data"
      ],
      "metadata": {
        "id": "47NBxkVb5Bdy"
      }
    },
    {
      "cell_type": "code",
      "source": [
        "data %>% group_by(locus) %>% count(sequences = n())"
      ],
      "metadata": {
        "colab": {
          "base_uri": "https://localhost:8080/",
          "height": 192
        },
        "id": "6IdccjR-Uw7z",
        "outputId": "276e1ca3-4e6f-4f34-89bf-7b8ed745cdee"
      },
      "execution_count": null,
      "outputs": [
        {
          "output_type": "display_data",
          "data": {
            "text/html": [
              "<table class=\"dataframe\">\n",
              "<caption>A grouped_df: 3 × 3</caption>\n",
              "<thead>\n",
              "\t<tr><th scope=col>locus</th><th scope=col>sequences</th><th scope=col>n</th></tr>\n",
              "\t<tr><th scope=col>&lt;chr&gt;</th><th scope=col>&lt;int&gt;</th><th scope=col>&lt;int&gt;</th></tr>\n",
              "</thead>\n",
              "<tbody>\n",
              "\t<tr><td>IGH</td><td>15286</td><td>7527</td></tr>\n",
              "\t<tr><td>IGK</td><td>15286</td><td>4950</td></tr>\n",
              "\t<tr><td>IGL</td><td>15286</td><td>2809</td></tr>\n",
              "</tbody>\n",
              "</table>\n"
            ],
            "text/markdown": "\nA grouped_df: 3 × 3\n\n| locus &lt;chr&gt; | sequences &lt;int&gt; | n &lt;int&gt; |\n|---|---|---|\n| IGH | 15286 | 7527 |\n| IGK | 15286 | 4950 |\n| IGL | 15286 | 2809 |\n\n",
            "text/latex": "A grouped\\_df: 3 × 3\n\\begin{tabular}{lll}\n locus & sequences & n\\\\\n <chr> & <int> & <int>\\\\\n\\hline\n\t IGH & 15286 & 7527\\\\\n\t IGK & 15286 & 4950\\\\\n\t IGL & 15286 & 2809\\\\\n\\end{tabular}\n",
            "text/plain": [
              "  locus sequences n   \n",
              "1 IGH   15286     7527\n",
              "2 IGK   15286     4950\n",
              "3 IGL   15286     2809"
            ]
          },
          "metadata": {}
        }
      ]
    },
    {
      "cell_type": "markdown",
      "source": [
        "One observation: a lot of the sequences have NA distances "
      ],
      "metadata": {
        "id": "uJSWEcrC5NSc"
      }
    },
    {
      "cell_type": "code",
      "source": [
        "not_na <- dist_sc %>% select(dist_nearest) %>% filter(!is.na(dist_nearest)) %>% count() \n",
        "na <- dist_sc %>% select(dist_nearest) %>% filter(is.na(dist_nearest)) %>% count() \n",
        "cat('In the total', nrow(data), 'sequences,', na$n, 'have NA distance', '(', round(100*na$n/nrow(data),2), '%)')"
      ],
      "metadata": {
        "colab": {
          "base_uri": "https://localhost:8080/"
        },
        "id": "0AO2JL0MXN1k",
        "outputId": "14fbdfcb-f0ff-4596-871c-0e286820ec9a"
      },
      "execution_count": null,
      "outputs": [
        {
          "output_type": "stream",
          "name": "stdout",
          "text": [
            "In the total 15286 sequences, 14290 have NA distance ( 93.48 %)"
          ]
        }
      ]
    },
    {
      "cell_type": "markdown",
      "source": [
        "### Heavy chain only"
      ],
      "metadata": {
        "id": "7ETIQoFSdJpj"
      }
    },
    {
      "cell_type": "code",
      "source": [
        "dist_nearest <- distToNearest(filter(data, locus == \"IGH\"), nproc = 1)"
      ],
      "metadata": {
        "id": "aDg60YxBdKAE"
      },
      "execution_count": null,
      "outputs": []
    },
    {
      "cell_type": "markdown",
      "source": [
        "### Visualize the distances in histogram "
      ],
      "metadata": {
        "id": "IAxZ21VvajqU"
      }
    },
    {
      "cell_type": "markdown",
      "source": [
        "Paired-chain figure"
      ],
      "metadata": {
        "id": "KMSuUz9LdYew"
      }
    },
    {
      "cell_type": "code",
      "source": [
        "dist_sc_heavy <- dist_sc %>% filter(!is.na(dist_nearest)) %>% select(dist_nearest) %>% as.data.frame() %>% rename(distance = dist_nearest)"
      ],
      "metadata": {
        "id": "ykB_vgg5Tl8t"
      },
      "execution_count": null,
      "outputs": []
    },
    {
      "cell_type": "code",
      "source": [
        "g_paired <- ggplot(dist_sc_heavy, aes(x = distance)) + \n",
        "        theme_bw() + \n",
        "        xlab(\"Distance\") + ylab(\"Count\") +\n",
        "        scale_x_continuous(breaks = seq(0, 1, 0.1)) +\n",
        "        geom_histogram(color = \"white\", binwidth = 0.02) + \n",
        "        theme(axis.title = element_text(size = 18))"
      ],
      "metadata": {
        "id": "8181x_WtGGaf"
      },
      "execution_count": null,
      "outputs": []
    },
    {
      "cell_type": "markdown",
      "source": [
        "Heavy-chain only "
      ],
      "metadata": {
        "id": "8_e-6zOwF9Jb"
      }
    },
    {
      "cell_type": "code",
      "source": [
        "# generate Distance histogram\n",
        "g_heavy <- ggplot(subset(dist_nearest, !is.na(dist_nearest)),\n",
        "             aes(x = dist_nearest)) + \n",
        "        theme_bw() + \n",
        "        xlab(\"Distance\") + ylab(\"Count\") +\n",
        "        scale_x_continuous(breaks = seq(0, 1, 0.1)) +\n",
        "        geom_histogram(color = \"white\", binwidth = 0.02) + \n",
        "        theme(axis.title = element_text(size = 18))\n",
        "plot(p1)"
      ],
      "metadata": {
        "colab": {
          "base_uri": "https://localhost:8080/",
          "height": 437
        },
        "id": "dUluLL7ZEXAG",
        "outputId": "f27d0e14-6f2e-4f09-fac6-82940df25962"
      },
      "execution_count": null,
      "outputs": [
        {
          "output_type": "display_data",
          "data": {
            "text/plain": [
              "plot without title"
            ],
            "image/png": "[encoded data removed]"
          },
          "metadata": {
            "image/png": {
              "width": 420,
              "height": 420
            }
          }
        }
      ]
    },
    {
      "cell_type": "markdown",
      "source": [
        "## Find the distance threshold "
      ],
      "metadata": {
        "id": "cwEEPSRHbMf4"
      }
    },
    {
      "cell_type": "markdown",
      "source": [
        "Defining a threshold relies on distinguishing clonally related sequences (represented by sequences with close neighbors) from singletons (sequences without close neighbors), which show up as **two modes** in a nearest neighbor distance histogram."
      ],
      "metadata": {
        "id": "Cd3J-VwBEJ4k"
      }
    },
    {
      "cell_type": "markdown",
      "source": [
        "### Automated threshold via smoothed density"
      ],
      "metadata": {
        "id": "3UUJZ9tFbhb_"
      }
    },
    {
      "cell_type": "markdown",
      "source": [
        "#### Paired chain"
      ],
      "metadata": {
        "id": "aZ1EjKhTbw-Z"
      }
    },
    {
      "cell_type": "code",
      "source": [
        "output <- findThreshold(dist_sc$dist_nearest, method=\"density\")\n",
        "threshold <- output@threshold \n",
        "round(threshold,2)"
      ],
      "metadata": {
        "colab": {
          "base_uri": "https://localhost:8080/",
          "height": 34
        },
        "id": "m5DUl0rIbpEt",
        "outputId": "eaedcb7d-ec69-461b-881e-ef1f7aad62a4"
      },
      "execution_count": null,
      "outputs": [
        {
          "output_type": "display_data",
          "data": {
            "text/html": [
              "0.19"
            ],
            "text/markdown": "0.19",
            "text/latex": "0.19",
            "text/plain": [
              "[1] 0.19"
            ]
          },
          "metadata": {}
        }
      ]
    },
    {
      "cell_type": "markdown",
      "source": [
        "#### Heavy chain only"
      ],
      "metadata": {
        "id": "YiFFy4f3cvp3"
      }
    },
    {
      "cell_type": "code",
      "source": [
        "output_heavy <- findThreshold(dist_nearest$dist_nearest, method=\"density\")\n",
        "threshold_heavy <- output_heavy@threshold\n",
        "round(threshold_heavy,2)"
      ],
      "metadata": {
        "colab": {
          "base_uri": "https://localhost:8080/",
          "height": 34
        },
        "id": "PySclUM_bzTW",
        "outputId": "6c8ffbd3-9d8e-43e6-f9ad-721e61fac5c5"
      },
      "execution_count": null,
      "outputs": [
        {
          "output_type": "display_data",
          "data": {
            "text/html": [
              "&lt;NA&gt;"
            ],
            "text/markdown": "&lt;NA&gt;",
            "text/latex": "<NA>",
            "text/plain": [
              "[1] NA"
            ]
          },
          "metadata": {}
        }
      ]
    },
    {
      "cell_type": "markdown",
      "source": [
        "#### Side-by-side threshold comparison\n"
      ],
      "metadata": {
        "id": "QColDxnGgm_x"
      }
    },
    {
      "cell_type": "code",
      "source": [
        "g_paired <- plot(output)\n",
        "g_heavy <- plot(output_heavy)"
      ],
      "metadata": {
        "id": "PAjRbcBe_-7s"
      },
      "execution_count": null,
      "outputs": []
    },
    {
      "cell_type": "code",
      "source": [
        "options(repr.plot.width = 13, repr.plot.height = 7)\n",
        "plot_grid(g_heavy, g_paired , \n",
        "  labels = c(\n",
        "    \"Heavy chain only: can't detect thresold\", \n",
        "    \"Paired chain: smooth density thresold = 0.19\"),ncol = 2, nrow = 1)"
      ],
      "metadata": {
        "colab": {
          "base_uri": "https://localhost:8080/",
          "height": 473
        },
        "id": "gnSOMqVieZXi",
        "outputId": "39005eb6-c642-4622-bcbd-e1c767288026"
      },
      "execution_count": null,
      "outputs": [
        {
          "output_type": "stream",
          "name": "stderr",
          "text": [
            "Warning message:\n",
            "“Removed 1 rows containing missing values (geom_vline).”\n"
          ]
        },
        {
          "output_type": "display_data",
          "data": {
            "text/plain": [
              "plot without title"
            ],
            "image/png": "[encoded data removed]"
          },
          "metadata": {
            "image/png": {
              "width": 780,
              "height": 420
            }
          }
        }
      ]
    },
    {
      "cell_type": "markdown",
      "source": [
        "## Define clonal groups in 3 ways"
      ],
      "metadata": {
        "id": "NV9ajSTF1jHk"
      }
    },
    {
      "cell_type": "markdown",
      "source": [
        "This step assigns clonal identifiers/lineages using 1) hierarchical clustering, 2) sequence identity, and 3) spectral clustering.\n",
        "* [More details here.](https://scoper.readthedocs.io/en/1.2.0/topics/scoper/)\n",
        "* Note `summarize_clones` = TRUE is required for histograms\n",
        "\n"
      ],
      "metadata": {
        "id": "oaXYAFOUK4TW"
      }
    },
    {
      "cell_type": "markdown",
      "source": [
        "### By hierarchical clustering\n",
        "\n",
        "[`hierarchicalClones`](https://scoper.readthedocs.io/en/1.2.0/topics/hierarchicalClones/) provides **a hierarchical agglomerative clustering** approach to infer clonal relationships. \n",
        "\n",
        "*   This approach clusters B or T cell receptor sequences based on junction region sequence similarity within partitions that share the same V gene, J gene, and junction length, allowing for ambiguous V or J gene annotations.\n",
        "*   With `only_heavy = FALSE` and `split_light = TRU`E, grouping should be done by using IGH plus IGK/IGL sequences and inferred clones should be split by the light/short chain (IGK and IGL) following heavy/long chain clustering.\n",
        "\n",
        "\n",
        "\n"
      ],
      "metadata": {
        "id": "r9nJKTonKaQJ"
      }
    },
    {
      "cell_type": "code",
      "source": [
        "results <- hierarchicalClones(\n",
        "  data, \n",
        "  cell_id = 'cell_id', \n",
        "  threshold = threshold, \n",
        "  only_heavy = FALSE, \n",
        "  split_light = TRUE, \n",
        "  summarize_clones = TRUE,\n",
        "  verbose = TRUE,\n",
        "  log = \"log_file\",\n",
        "  nproc = 8)"
      ],
      "metadata": {
        "colab": {
          "base_uri": "https://localhost:8080/"
        },
        "id": "458Ii0HT1ivG",
        "outputId": "240279cc-35ef-4bf2-e60a-d44803f73dd2"
      },
      "execution_count": null,
      "outputs": [
        {
          "output_type": "stream",
          "name": "stderr",
          "text": [
            "Running defineClonesScoper in single cell mode\n",
            "\n"
          ]
        },
        {
          "output_type": "stream",
          "name": "stdout",
          "text": [
            "     MAX_N_FILTER>  0 invalid junction(s) ( # of N > 0 ) in the junction column removed. \n"
          ]
        }
      ]
    },
    {
      "cell_type": "code",
      "source": [
        "glimpse(results)"
      ],
      "metadata": {
        "colab": {
          "base_uri": "https://localhost:8080/"
        },
        "id": "zVC8gqiKlTkm",
        "outputId": "f42f9403-d2d0-4275-e457-3c7914c36faf"
      },
      "execution_count": null,
      "outputs": [
        {
          "output_type": "stream",
          "name": "stdout",
          "text": [
            "Formal class 'ScoperClones' [package \"scoper\"] with 4 slots\n",
            "  ..@ db           : tibble [15,286 × 59] (S3: tbl_df/tbl/data.frame)\n",
            "  ..@ vjl_groups   : tibble [5,940 × 7] (S3: tbl_df/tbl/data.frame)\n",
            "  ..@ inter_intra  :'data.frame':\t8403 obs. of  4 variables:\n",
            "  .. ..$ clone_id_x: chr [1:8403] \"1\" \"1243\" \"2497\" \"3933\" ...\n",
            "  .. ..$ clone_id_y: chr [1:8403] \"NA\" \"NA\" \"NA\" \"NA\" ...\n",
            "  .. ..$ distance  : num [1:8403] 0 0 0 0 0 0 0 0 0 0 ...\n",
            "  .. ..$ label     : chr [1:8403] \"intra\" \"intra\" \"intra\" \"intra\" ...\n",
            "  ..@ eff_threshold: num 0.25\n"
          ]
        }
      ]
    },
    {
      "cell_type": "markdown",
      "source": [
        "### By sequences similarity\n",
        "\n",
        "[`identicalClones`](https://scoper.readthedocs.io/en/1.2.0/topics/identicalClones/) provides a **simple sequence identity** based partitioning approach for inferring clonal relationships.\n",
        "\n",
        "This approach partitions B or T cell receptor sequences into clonal groups based on junction region sequence identity within partitions that share the same V gene, J gene, and junction length, allowing for ambiguous V or J gene annotations.\n",
        "\n",
        "`method` allows for `nt` nucleotide based clustering or `aa` amino acid based clustering. "
      ],
      "metadata": {
        "id": "EIIQe0CLQxMz"
      }
    },
    {
      "cell_type": "markdown",
      "source": [
        "#### By nucleotide similarity"
      ],
      "metadata": {
        "id": "lvOju4QPiVoG"
      }
    },
    {
      "cell_type": "code",
      "source": [
        "results_nt <- identicalClones(\n",
        "  data, \n",
        "  cell_id = 'cell_id', \n",
        "  method=\"nt\", \n",
        "  only_heavy = FALSE, \n",
        "  split_light = TRUE, \n",
        "  summarize_clones = TRUE,\n",
        "  nproc = 8)"
      ],
      "metadata": {
        "colab": {
          "base_uri": "https://localhost:8080/"
        },
        "id": "puJo0UmWHAww",
        "outputId": "64608051-18a9-417d-b470-b794243c0c0f"
      },
      "execution_count": null,
      "outputs": [
        {
          "output_type": "stream",
          "name": "stderr",
          "text": [
            "Running defineClonesScoper in single cell mode\n",
            "\n"
          ]
        }
      ]
    },
    {
      "cell_type": "code",
      "source": [
        "glimpse(results_nt)"
      ],
      "metadata": {
        "colab": {
          "base_uri": "https://localhost:8080/"
        },
        "id": "BEG7Gad7k9tp",
        "outputId": "3c583d59-537e-41db-abfc-af262a503f14"
      },
      "execution_count": null,
      "outputs": [
        {
          "output_type": "stream",
          "name": "stdout",
          "text": [
            "Formal class 'ScoperClones' [package \"scoper\"] with 4 slots\n",
            "  ..@ db           : tibble [15,286 × 59] (S3: tbl_df/tbl/data.frame)\n",
            "  ..@ vjl_groups   : tibble [5,940 × 7] (S3: tbl_df/tbl/data.frame)\n",
            "  ..@ inter_intra  :'data.frame':\t8807 obs. of  4 variables:\n",
            "  .. ..$ clone_id_x: chr [1:8807] \"1\" \"1258\" \"2564\" \"4022\" ...\n",
            "  .. ..$ clone_id_y: chr [1:8807] \"NA\" \"NA\" \"NA\" \"NA\" ...\n",
            "  .. ..$ distance  : num [1:8807] 0 0 0 0 0 0 0 0 0 0 ...\n",
            "  .. ..$ label     : chr [1:8807] \"intra\" \"intra\" \"intra\" \"intra\" ...\n",
            "  ..@ eff_threshold: num NA\n"
          ]
        }
      ]
    },
    {
      "cell_type": "markdown",
      "source": [
        "#### By amino acid similarity"
      ],
      "metadata": {
        "id": "i9VbNGMaib_r"
      }
    },
    {
      "cell_type": "code",
      "source": [
        "results_aa <- identicalClones(\n",
        "  data, \n",
        "  cell_id = 'cell_id', \n",
        "  method=\"aa\", \n",
        "  only_heavy = FALSE, \n",
        "  split_light = TRUE, \n",
        "  summarize_clones = TRUE,\n",
        "  nproc = 8)"
      ],
      "metadata": {
        "colab": {
          "base_uri": "https://localhost:8080/"
        },
        "id": "xUB8CZACiT3V",
        "outputId": "d084a4aa-e5ad-4199-a81a-3bf6f81c66c2"
      },
      "execution_count": null,
      "outputs": [
        {
          "output_type": "stream",
          "name": "stderr",
          "text": [
            "Running defineClonesScoper in single cell mode\n",
            "\n"
          ]
        }
      ]
    },
    {
      "cell_type": "code",
      "source": [
        "glimpse(results_aa)"
      ],
      "metadata": {
        "colab": {
          "base_uri": "https://localhost:8080/"
        },
        "id": "T4w-mSmalkSR",
        "outputId": "ec8a33e5-3abc-4664-9e95-d27e22e540aa"
      },
      "execution_count": null,
      "outputs": [
        {
          "output_type": "stream",
          "name": "stdout",
          "text": [
            "Formal class 'ScoperClones' [package \"scoper\"] with 4 slots\n",
            "  ..@ db           : tibble [15,286 × 59] (S3: tbl_df/tbl/data.frame)\n",
            "  ..@ vjl_groups   : tibble [5,940 × 7] (S3: tbl_df/tbl/data.frame)\n",
            "  ..@ inter_intra  :'data.frame':\t8705 obs. of  4 variables:\n",
            "  .. ..$ clone_id_x: chr [1:8705] \"1\" \"1254\" \"2551\" \"4007\" ...\n",
            "  .. ..$ clone_id_y: chr [1:8705] \"NA\" \"NA\" \"NA\" \"NA\" ...\n",
            "  .. ..$ distance  : num [1:8705] 0 0 0 0 0 0 0 0 0 0 ...\n",
            "  .. ..$ label     : chr [1:8705] \"intra\" \"intra\" \"intra\" \"intra\" ...\n",
            "  ..@ eff_threshold: num 0.09\n"
          ]
        }
      ]
    },
    {
      "cell_type": "markdown",
      "source": [
        "### By spectral clustering\n",
        "\n",
        "[`spectralClones`](https://scoper.readthedocs.io/en/1.2.0/topics/spectralClones/) provides **an unsupervised spectral clustering** approach to infer clonal relationships.\n",
        "\n",
        "\n",
        "\n",
        "*   `method` supports two options\n",
        "  * If `method`=`novj`, then clonal relationships are inferred using an adaptive threshold that indicates the level of similarity among junction sequences in a local neighborhood.\n",
        "\n",
        " * If `method`=`vj`, then clonal relationships are inferred not only on junction region homology, but also taking into account the mutation profiles in the V and J segments. Mutation counts are determined by comparing the input sequences (in the column specified by sequence) to the effective germline sequence (IUPAC representation of sequences in the column specified by `germline`)."
      ],
      "metadata": {
        "id": "A7FmHFhZf0Iz"
      }
    },
    {
      "cell_type": "code",
      "source": [
        "results_spec <- spectralClones(\n",
        "  data, \n",
        "  cell_id = 'cell_id', \n",
        "  method = 'novj',\n",
        "  only_heavy = FALSE, \n",
        "  split_light = TRUE, \n",
        "  summarize_clones = TRUE,\n",
        "  verbose = TRUE,\n",
        "  log = \"log_file\",\n",
        "  nproc = 8)"
      ],
      "metadata": {
        "colab": {
          "base_uri": "https://localhost:8080/"
        },
        "id": "M3QfynkegLin",
        "outputId": "842de109-5ad9-4435-f3cb-9955d96cfbac"
      },
      "execution_count": null,
      "outputs": [
        {
          "output_type": "stream",
          "name": "stderr",
          "text": [
            "Running defineClonesScoper in single cell mode\n",
            "\n"
          ]
        },
        {
          "output_type": "stream",
          "name": "stdout",
          "text": [
            "     MAX_N_FILTER>  0 invalid junction(s) ( # of N > 0 ) in the junction column removed. \n"
          ]
        }
      ]
    },
    {
      "cell_type": "markdown",
      "source": [
        "### Side-by-side distance comparison"
      ],
      "metadata": {
        "id": "snaWabmmsLBW"
      }
    },
    {
      "cell_type": "code",
      "source": [
        "his_nt <- plot(results_nt, binwidth=0.02, silent = T)\n",
        "his_aa <- plot(results_aa, binwidth=0.02, silent = T)\n",
        "his_h <- plot(results, binwidth=0.02, silent = T)\n",
        "his_sp <- plot(results_spec, binwidth=0.02, silent = T)"
      ],
      "metadata": {
        "id": "lWi527K6fJon"
      },
      "execution_count": null,
      "outputs": []
    },
    {
      "cell_type": "code",
      "source": [
        "options(repr.plot.width = 13, repr.plot.height = 13)\n",
        "plot_grid(his_nt , his_aa, his_h, his_sp,\n",
        "  labels = c(\n",
        "    \"Nucleotide Sequence\",\n",
        "    \"Amino Acid Sequence\",\n",
        "    \"Hierarchical clustering\", \n",
        "    \"Spectral clustering\"),ncol = 2, nrow = 2)"
      ],
      "metadata": {
        "colab": {
          "base_uri": "https://localhost:8080/",
          "height": 797
        },
        "id": "4W1YhcchqkTi",
        "outputId": "058ea93e-4f17-4a2e-d407-89bb61fe81a8"
      },
      "execution_count": null,
      "outputs": [
        {
          "output_type": "display_data",
          "data": {
            "text/plain": [
              "plot without title"
            ],
            "image/png": "[encoded data removed]"
          },
          "metadata": {
            "image/png": {
              "width": 780,
              "height": 780
            }
          }
        }
      ]
    },
    {
      "cell_type": "markdown",
      "source": [
        "## Clonal diversity"
      ],
      "metadata": {
        "id": "HJRkty9Wqv2e"
      }
    },
    {
      "cell_type": "markdown",
      "source": [
        "### Clonal abundace distribution\n",
        "Clonal abundance is the size of each clone (as a fraction of the entire repertoire). estimateAbundance estimates the clonal abundance distribution along with confidence intervals on these clone sizes using bootstrapping."
      ],
      "metadata": {
        "id": "fIT7DXz2e_ZV"
      }
    },
    {
      "cell_type": "code",
      "source": [
        "ca_nt <- plot(estimateAbundance(as.data.frame(results_nt)), colors = 'lightpink2', silent = T) + theme(axis.title = element_text(size = 10))\n",
        "ca_aa <- plot(estimateAbundance(as.data.frame(results_aa)), colors = 'indianred3', silent = T) + theme(axis.title = element_text(size = 10))\n",
        "ca_h <- plot(estimateAbundance(as.data.frame(results)), colors = 'steelblue', silent = T) + theme(axis.title = element_text(size = 10))\n",
        "ca_sp <- plot(estimateAbundance(as.data.frame(results_spec)), colors = 'darkolivegreen3', silent = T) + theme(axis.title = element_text(size = 10))"
      ],
      "metadata": {
        "id": "yawkMIscnCWf"
      },
      "execution_count": null,
      "outputs": []
    },
    {
      "cell_type": "code",
      "source": [
        "options(repr.plot.width = 7, repr.plot.height = 7)\n",
        "plot_grid(ca_nt , ca_aa, ca_h, ca_sp,\n",
        "  labels = c(\n",
        "    \"Nucleotide Sequence\",\n",
        "    \"Amino Acid Sequence\",\n",
        "    \"Hierarchical clustering\", \n",
        "    \"Spectral clustering\"),ncol = 2, nrow = 2)"
      ],
      "metadata": {
        "colab": {
          "base_uri": "https://localhost:8080/",
          "height": 437
        },
        "id": "vO5khGTonnJR",
        "outputId": "f94d27c6-de47-4662-cb0c-76ae1aeed4bb"
      },
      "execution_count": null,
      "outputs": [
        {
          "output_type": "display_data",
          "data": {
            "text/plain": [
              "plot without title"
            ],
            "image/png": "[encoded data removed]"
          },
          "metadata": {
            "image/png": {
              "width": 420,
              "height": 420
            }
          }
        }
      ]
    },
    {
      "cell_type": "markdown",
      "source": [
        "### Clonal diversity\n",
        "\n",
        "The clonal abundance distribution can be characterized using diversity statistics. Diversity scores (D) are calculated using the generalized diversity index (Hill numbers), which covers many different measures of diversity in a single function with a single varying parameter, the diversity order q."
      ],
      "metadata": {
        "id": "xNGkIFUIs08l"
      }
    },
    {
      "cell_type": "code",
      "source": [
        "## Will add soon"
      ],
      "metadata": {
        "id": "WTEL26TttD2M"
      },
      "execution_count": null,
      "outputs": []
    },
    {
      "cell_type": "markdown",
      "source": [
        "## Create Germlines"
      ],
      "metadata": {
        "id": "E8Vs2Rmlgths"
      }
    },
    {
      "cell_type": "markdown",
      "source": [
        "#### Download IMGT germline references"
      ],
      "metadata": {
        "id": "z-o7h1Nf4H6U"
      }
    },
    {
      "cell_type": "markdown",
      "source": [
        "This will download immcantation script and create a folder called immcantation"
      ],
      "metadata": {
        "id": "5e4FbVXz4rd-"
      }
    },
    {
      "cell_type": "code",
      "source": [
        "system2(command = \"git\", \n",
        "        args    = c(\"clone\", \"https://bitbucket.org/kleinstein/immcantation.git\"), \n",
        "        stdout  = \"test.txt\")"
      ],
      "metadata": {
        "id": "KypuiS9V3LBm"
      },
      "execution_count": null,
      "outputs": []
    },
    {
      "cell_type": "markdown",
      "source": [
        "This will download and create folders to store the references for human, mouse, rabbit, rat, and rhesus_monkey. "
      ],
      "metadata": {
        "id": "nLhatkWB4vwu"
      }
    },
    {
      "cell_type": "code",
      "source": [
        "system2(command = \"bash\", args = c(\"./immcantation/scripts/fetch_imgtdb.sh\"))"
      ],
      "metadata": {
        "id": "1fm4JxDx4N8c"
      },
      "execution_count": null,
      "outputs": []
    },
    {
      "cell_type": "markdown",
      "source": [
        "### For clones generated from hierachical clustering"
      ],
      "metadata": {
        "id": "SyIF3DsRvqdf"
      }
    },
    {
      "cell_type": "code",
      "source": [
        "references <- readIMGT(dir = \"/content/human/vdj\")\n",
        "h <- createGermlines(filter(results@db, locus == \"IGH\"), references)\n",
        "k <- createGermlines(filter(results@db, locus == \"IGK\"), references, locus = \"IGK\")\n",
        "l <- createGermlines(filter(results@db, locus == \"IGL\"), references, locus = \"IGL\")"
      ],
      "metadata": {
        "colab": {
          "base_uri": "https://localhost:8080/"
        },
        "id": "BS9UVXcO9P5n",
        "outputId": "888a9535-ac88-4ec9-9ffc-34cf8243c8a1"
      },
      "execution_count": null,
      "outputs": [
        {
          "output_type": "stream",
          "name": "stdout",
          "text": [
            "[1] \"Read in 1148 from 17 fasta files\"\n",
            "<simpleError in buildGermline(cons, references = sub_db, seq = seq, v_call = v_call,     j_call = j_call, j_germ_length = j_germ_length, amino_acid = amino_acid,     ...): Germline sequence differs from input sequence by -6 in clone 56>\n",
            "<simpleError in buildGermline(cons, references = sub_db, seq = seq, v_call = v_call,     j_call = j_call, j_germ_length = j_germ_length, amino_acid = amino_acid,     ...): Germline sequence differs from input sequence by -5 in clone 258>\n",
            "<simpleError in buildGermline(cons, references = sub_db, seq = seq, v_call = v_call,     j_call = j_call, j_germ_length = j_germ_length, amino_acid = amino_acid,     ...): Germline sequence differs from input sequence by -5 in clone 922>\n"
          ]
        }
      ]
    },
    {
      "cell_type": "markdown",
      "source": [
        "### For clones generated from amino acid sequence similarity "
      ],
      "metadata": {
        "id": "j7Zjwcr_wg81"
      }
    },
    {
      "cell_type": "code",
      "source": [
        "h_aa <- createGermlines(filter(results_aa@db, locus == \"IGH\"), references)\n",
        "k_aa <- createGermlines(filter(results_aa@db, locus == \"IGK\"), references, locus = \"IGK\")\n",
        "l_aa <- createGermlines(filter(results_aa@db, locus == \"IGL\"), references, locus = \"IGL\")"
      ],
      "metadata": {
        "colab": {
          "base_uri": "https://localhost:8080/"
        },
        "id": "aQeX9NldwYW-",
        "outputId": "cb1a5c07-ef2f-49f3-e541-45690f3c55de"
      },
      "execution_count": null,
      "outputs": [
        {
          "output_type": "stream",
          "name": "stdout",
          "text": [
            "<simpleError in buildGermline(cons, references = sub_db, seq = seq, v_call = v_call,     j_call = j_call, j_germ_length = j_germ_length, amino_acid = amino_acid,     ...): Germline sequence differs from input sequence by -6 in clone 63>\n",
            "<simpleError in buildGermline(cons, references = sub_db, seq = seq, v_call = v_call,     j_call = j_call, j_germ_length = j_germ_length, amino_acid = amino_acid,     ...): Germline sequence differs from input sequence by -5 in clone 258>\n",
            "<simpleError in buildGermline(cons, references = sub_db, seq = seq, v_call = v_call,     j_call = j_call, j_germ_length = j_germ_length, amino_acid = amino_acid,     ...): Germline sequence differs from input sequence by -5 in clone 958>\n"
          ]
        }
      ]
    },
    {
      "cell_type": "markdown",
      "source": [
        "## Calculate Somatic Hyper Mutations frequency in V gene"
      ],
      "metadata": {
        "id": "Ex8ePoOErQHS"
      }
    },
    {
      "cell_type": "markdown",
      "source": [
        "### Hierachical clustered clones"
      ],
      "metadata": {
        "id": "4XQZoGg8w4xU"
      }
    },
    {
      "cell_type": "code",
      "source": [
        "data_h <- observedMutations(h, \n",
        "                            sequenceColumn = \"sequence_alignment\",\n",
        "                            germlineColumn = \"germline_alignment_d_mask\",\n",
        "                            regionDefinition = IMGT_V,\n",
        "                            frequency = TRUE,\n",
        "                            combine = TRUE, \n",
        "                            nproc = 5)"
      ],
      "metadata": {
        "id": "jkyqgae3faVn"
      },
      "execution_count": null,
      "outputs": []
    },
    {
      "cell_type": "markdown",
      "source": [
        "### Amino Acid sequence clustered clones"
      ],
      "metadata": {
        "id": "ofIx5McnxFdK"
      }
    },
    {
      "cell_type": "code",
      "source": [
        "data_h_aa <- observedMutations(h_aa, \n",
        "                            sequenceColumn = \"sequence_alignment\",\n",
        "                            germlineColumn = \"germline_alignment_d_mask\",\n",
        "                            regionDefinition = IMGT_V,\n",
        "                            frequency = TRUE,\n",
        "                            combine = TRUE, \n",
        "                            nproc = 5)"
      ],
      "metadata": {
        "id": "cJGIDqznxCPL"
      },
      "execution_count": null,
      "outputs": []
    },
    {
      "cell_type": "markdown",
      "source": [
        "## Visualize median mutation frequency"
      ],
      "metadata": {
        "id": "hCRNJ4wIwLq3"
      }
    },
    {
      "cell_type": "code",
      "source": [
        "# calculate the median mutation frequency of a clone\n",
        "mut_freq_clone <- data_h %>% \n",
        "                  group_by(clone_id) %>% \n",
        "                  summarise(median_mut_freq = mean(mu_freq))\n",
        "\n",
        "mut_freq_clone_aa <- data_h_aa %>% \n",
        "                  group_by(clone_id) %>% \n",
        "                  summarise(median_mut_freq = mean(mu_freq))"
      ],
      "metadata": {
        "id": "4ct_fgNSwMJU"
      },
      "execution_count": null,
      "outputs": []
    },
    {
      "cell_type": "code",
      "source": [
        "mmf <- ggplot(mut_freq_clone, aes(median_mut_freq)) + \n",
        "    geom_histogram(, binwidth = 0.005) + theme_bw() +\n",
        "    theme(axis.title = element_text(size = 18))\n",
        "mmf_aa <- ggplot(mut_freq_clone_aa, aes(median_mut_freq)) + \n",
        "    geom_histogram(, binwidth = 0.005) + theme_bw() +\n",
        "    theme(axis.title = element_text(size = 18))"
      ],
      "metadata": {
        "id": "lFOib2o9xiE8"
      },
      "execution_count": null,
      "outputs": []
    },
    {
      "cell_type": "code",
      "source": [
        "options(repr.plot.width = 13, repr.plot.height = 5)\n",
        "plot_grid(mmf, mmf_aa, labels = c('hierachical','amino acid'), ncol = 2, nrow = 1)"
      ],
      "metadata": {
        "colab": {
          "base_uri": "https://localhost:8080/",
          "height": 317
        },
        "id": "_JqD0FPrxqq9",
        "outputId": "4c26b6a3-e689-47b0-ed3d-dde477c1d579"
      },
      "execution_count": null,
      "outputs": [
        {
          "output_type": "display_data",
          "data": {
            "text/plain": [
              "plot without title"
            ],
            "image/png": "[encoded data removed]"
          },
          "metadata": {
            "image/png": {
              "width": 780,
              "height": 300
            }
          }
        }
      ]
    },
    {
      "cell_type": "code",
      "source": [
        ""
      ],
      "metadata": {
        "id": "UlTvX2M_x4og"
      },
      "execution_count": null,
      "outputs": []
    }
  ]
}