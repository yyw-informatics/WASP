{
  "nbformat": 4,
  "nbformat_minor": 0,
  "metadata": {
    "colab": {
      "name": "Immcantation_3_Clonal_relationship_inference_with_SHazaM_and_SCOPer_in_R.ipynb",
      "provenance": [],
      "collapsed_sections": [],
      "toc_visible": true,
      "machine_shape": "hm",
      "background_execution": "on",
      "authorship_tag": "ABX9TyNxjXY2wOfDNlPQ8TEncfC3",
      "include_colab_link": true
    },
    "kernelspec": {
      "name": "ir",
      "display_name": "R"
    },
    "language_info": {
      "name": "R"
    },
    "gpuClass": "standard"
  },
  "cells": [
    {
      "cell_type": "markdown",
      "metadata": {
        "id": "view-in-github",
        "colab_type": "text"
      },
      "source": [
        "<a href=\"https://colab.research.google.com/github/yyw-informatics/WASP/blob/main/Immcantation_3_Clonal_relationship_inference_with_SHazaM_and_SCOPer_in_R.ipynb\" target=\"_parent\"><img src=\"https://colab.research.google.com/assets/colab-badge.svg\" alt=\"Open In Colab\"/></a>"
      ]
    },
    {
      "cell_type": "markdown",
      "source": [
        "### In Runtime, select **High RAM**"
      ],
      "metadata": {
        "id": "ejTnxX7TTiyk"
      }
    },
    {
      "cell_type": "markdown",
      "source": [
        "## Install R packages"
      ],
      "metadata": {
        "id": "Gzbp_FXBcaYr"
      }
    },
    {
      "cell_type": "code",
      "execution_count": 1,
      "metadata": {
        "colab": {
          "base_uri": "https://localhost:8080/"
        },
        "id": "xfEkp_NYbu_m",
        "outputId": "904e2ca8-5c5b-4ab7-c4c8-25bbdd001898"
      },
      "outputs": [
        {
          "output_type": "stream",
          "name": "stderr",
          "text": [
            "Installing package into ‘/usr/local/lib/R/site-library’\n",
            "(as ‘lib’ is unspecified)\n",
            "\n"
          ]
        }
      ],
      "source": [
        "install.packages('easypackages')\n",
        "library(easypackages)"
      ]
    },
    {
      "cell_type": "markdown",
      "source": [
        "#### For installing packages from github or bitbucket"
      ],
      "metadata": {
        "id": "qhhFnrR48tY4"
      }
    },
    {
      "cell_type": "code",
      "source": [
        "install.packages(c(\"devtools\", \"roxygen2\", \"testthat\", \"knitr\", \"rmarkdown\", \"Rcpp\"))"
      ],
      "metadata": {
        "colab": {
          "base_uri": "https://localhost:8080/"
        },
        "id": "8S3QQ2f2cshN",
        "outputId": "d4792e13-dc17-47e7-aee5-2dc6d258370a"
      },
      "execution_count": 2,
      "outputs": [
        {
          "output_type": "stream",
          "name": "stderr",
          "text": [
            "Installing packages into ‘/usr/local/lib/R/site-library’\n",
            "(as ‘lib’ is unspecified)\n",
            "\n"
          ]
        }
      ]
    },
    {
      "cell_type": "markdown",
      "source": [
        "#### Immcantation packages - 17-20m to install"
      ],
      "metadata": {
        "id": "m9mkdprS8y_M"
      }
    },
    {
      "cell_type": "code",
      "source": [
        "library(devtools)\n",
        "install_bitbucket(\"kleinstein/alakazam@master\")\n",
        "install_bitbucket(\"kleinstein/shazam@master\")\n",
        "install.packages(\"tigger\")\n",
        "install.packages(\"scoper\")\n",
        "install_bitbucket(\"kleinstein/dowser@master\")"
      ],
      "metadata": {
        "colab": {
          "base_uri": "https://localhost:8080/"
        },
        "id": "zqNGoW35cwMS",
        "outputId": "905908eb-9edb-420f-ad24-354c734fafda"
      },
      "execution_count": 3,
      "outputs": [
        {
          "output_type": "stream",
          "name": "stderr",
          "text": [
            "Loading required package: usethis\n",
            "\n",
            "Downloading bitbucket repo kleinstein/alakazam@master\n",
            "\n"
          ]
        },
        {
          "output_type": "stream",
          "name": "stdout",
          "text": [
            "formatR      (NA    -> 1.12    ) [CRAN]\n",
            "futile.op... (NA    -> 1.0.1   ) [CRAN]\n",
            "lambda.r     (NA    -> 1.2.4   ) [CRAN]\n",
            "BH           (NA    -> 1.78.0-0) [CRAN]\n",
            "snow         (NA    -> 0.4-4   ) [CRAN]\n",
            "futile.lo... (NA    -> 1.4.3   ) [CRAN]\n",
            "GenomeInf... (NA    -> 1.2.8   ) [CRAN]\n",
            "RCurl        (NA    -> 1.98-1.7) [CRAN]\n",
            "Rhtslib      (NA    -> 1.28.0  ) [CRAN]\n",
            "BiocParallel (NA    -> 1.30.3  ) [CRAN]\n",
            "bitops       (NA    -> 1.0-7   ) [CRAN]\n",
            "zlibbioc     (NA    -> 1.42.0  ) [CRAN]\n",
            "XVector      (NA    -> 0.36.0  ) [CRAN]\n",
            "IRanges      (NA    -> 2.30.0  ) [CRAN]\n",
            "S4Vectors    (NA    -> 0.34.0  ) [CRAN]\n",
            "BiocGenerics (NA    -> 0.42.0  ) [CRAN]\n",
            "Biostrings   (NA    -> 2.64.0  ) [CRAN]\n",
            "GenomicRa... (NA    -> 1.48.0  ) [CRAN]\n",
            "GenomeInfoDb (NA    -> 1.32.2  ) [CRAN]\n",
            "matrixStats  (NA    -> 0.62.0  ) [CRAN]\n",
            "DelayedArray (NA    -> 0.22.0  ) [CRAN]\n",
            "Biobase      (NA    -> 2.56.0  ) [CRAN]\n",
            "MatrixGen... (NA    -> 1.8.1   ) [CRAN]\n",
            "rlang        (1.0.3 -> 1.0.4   ) [CRAN]\n",
            "sp           (NA    -> 1.5-0   ) [CRAN]\n",
            "pixmap       (NA    -> 0.4-12  ) [CRAN]\n",
            "Rsamtools    (NA    -> 2.12.0  ) [CRAN]\n",
            "Summarize... (NA    -> 1.26.1  ) [CRAN]\n",
            "segmented    (NA    -> 1.6-0   ) [CRAN]\n",
            "ade4         (NA    -> 1.7-19  ) [CRAN]\n",
            "stringi      (1.7.6 -> 1.7.8   ) [CRAN]\n",
            "GenomicAl... (NA    -> 1.32.0  ) [CRAN]\n",
            "seqinr       (NA    -> 4.2-16  ) [CRAN]\n",
            "igraph       (NA    -> 1.3.2   ) [CRAN]\n",
            "ape          (NA    -> 5.6-2   ) [CRAN]\n",
            "airr         (NA    -> 1.3.0   ) [CRAN]\n"
          ]
        },
        {
          "output_type": "stream",
          "name": "stderr",
          "text": [
            "Installing 36 packages: formatR, futile.options, lambda.r, BH, snow, futile.logger, GenomeInfoDbData, RCurl, Rhtslib, BiocParallel, bitops, zlibbioc, XVector, IRanges, S4Vectors, BiocGenerics, Biostrings, GenomicRanges, GenomeInfoDb, matrixStats, DelayedArray, Biobase, MatrixGenerics, rlang, sp, pixmap, Rsamtools, SummarizedExperiment, segmented, ade4, stringi, GenomicAlignments, seqinr, igraph, ape, airr\n",
            "\n",
            "Installing packages into ‘/usr/local/lib/R/site-library’\n",
            "(as ‘lib’ is unspecified)\n",
            "\n"
          ]
        },
        {
          "output_type": "stream",
          "name": "stdout",
          "text": [
            "* checking for file ‘/tmp/RtmpgisMQP/remotes4e20997f7f/kleinstein-alakazam-9ffa2b2c253d/DESCRIPTION’ ... OK\n",
            "* preparing ‘alakazam’:\n",
            "* checking DESCRIPTION meta-information ... OK\n",
            "* cleaning src\n",
            "* checking for LF line-endings in source and make files and shell scripts\n",
            "* checking for empty or unneeded directories\n",
            "* building ‘alakazam_1.2.0.9999.tar.gz’\n",
            "\n"
          ]
        },
        {
          "output_type": "stream",
          "name": "stderr",
          "text": [
            "Installing package into ‘/usr/local/lib/R/site-library’\n",
            "(as ‘lib’ is unspecified)\n",
            "\n",
            "Downloading bitbucket repo kleinstein/shazam@master\n",
            "\n"
          ]
        },
        {
          "output_type": "stream",
          "name": "stdout",
          "text": [
            "iterators  (NA -> 1.0.14) [CRAN]\n",
            "foreach    (NA -> 1.5.2 ) [CRAN]\n",
            "lazyeval   (NA -> 0.2.2 ) [CRAN]\n",
            "doParallel (NA -> 1.0.17) [CRAN]\n",
            "diptest    (NA -> 0.76-0) [CRAN]\n"
          ]
        },
        {
          "output_type": "stream",
          "name": "stderr",
          "text": [
            "Installing 5 packages: iterators, foreach, lazyeval, doParallel, diptest\n",
            "\n",
            "Installing packages into ‘/usr/local/lib/R/site-library’\n",
            "(as ‘lib’ is unspecified)\n",
            "\n"
          ]
        },
        {
          "output_type": "stream",
          "name": "stdout",
          "text": [
            "* checking for file ‘/tmp/RtmpgisMQP/remotes4e6d75c49e/kleinstein-shazam-7443d21b393e/DESCRIPTION’ ... OK\n",
            "* preparing ‘shazam’:\n",
            "* checking DESCRIPTION meta-information ... OK\n",
            "* checking for LF line-endings in source and make files and shell scripts\n",
            "* checking for empty or unneeded directories\n",
            "* building ‘shazam_1.1.1.999.tar.gz’\n",
            "\n"
          ]
        },
        {
          "output_type": "stream",
          "name": "stderr",
          "text": [
            "Installing package into ‘/usr/local/lib/R/site-library’\n",
            "(as ‘lib’ is unspecified)\n",
            "\n",
            "Installing package into ‘/usr/local/lib/R/site-library’\n",
            "(as ‘lib’ is unspecified)\n",
            "\n",
            "also installing the dependencies ‘gridExtra’, ‘gtools’\n",
            "\n",
            "\n",
            "Installing package into ‘/usr/local/lib/R/site-library’\n",
            "(as ‘lib’ is unspecified)\n",
            "\n",
            "Downloading bitbucket repo kleinstein/dowser@master\n",
            "\n"
          ]
        },
        {
          "output_type": "stream",
          "name": "stdout",
          "text": [
            "yulab.utils  (NA -> 0.0.5 ) [CRAN]\n",
            "tidytree     (NA -> 0.3.9 ) [CRAN]\n",
            "gridGraphics (NA -> 0.5-1 ) [CRAN]\n",
            "patchwork    (NA -> 1.1.1 ) [CRAN]\n",
            "ggplotify    (NA -> 0.1.0 ) [CRAN]\n",
            "ggfun        (NA -> 0.0.6 ) [CRAN]\n",
            "quadprog     (NA -> 1.5-8 ) [CRAN]\n",
            "fastmatch    (NA -> 1.1-3 ) [CRAN]\n",
            "treeio       (NA -> 1.20.1) [CRAN]\n",
            "aplot        (NA -> 0.1.6 ) [CRAN]\n",
            "phylotate    (NA -> 1.3   ) [CRAN]\n",
            "phangorn     (NA -> 2.9.0 ) [CRAN]\n",
            "markdown     (NA -> 1.1   ) [CRAN]\n",
            "ggtree       (NA -> 3.4.1 ) [CRAN]\n"
          ]
        },
        {
          "output_type": "stream",
          "name": "stderr",
          "text": [
            "Installing 14 packages: yulab.utils, tidytree, gridGraphics, patchwork, ggplotify, ggfun, quadprog, fastmatch, treeio, aplot, phylotate, phangorn, markdown, ggtree\n",
            "\n",
            "Installing packages into ‘/usr/local/lib/R/site-library’\n",
            "(as ‘lib’ is unspecified)\n",
            "\n"
          ]
        },
        {
          "output_type": "stream",
          "name": "stdout",
          "text": [
            "* checking for file ‘/tmp/RtmpgisMQP/remotes4e17e8ccf1/kleinstein-dowser-0577d6cd455a/DESCRIPTION’ ... OK\n",
            "* preparing ‘dowser’:\n",
            "* checking DESCRIPTION meta-information ... OK\n",
            "* checking for LF line-endings in source and make files and shell scripts\n",
            "* checking for empty or unneeded directories\n",
            "* building ‘dowser_1.0.0.999.tar.gz’\n",
            "\n"
          ]
        },
        {
          "output_type": "stream",
          "name": "stderr",
          "text": [
            "Installing package into ‘/usr/local/lib/R/site-library’\n",
            "(as ‘lib’ is unspecified)\n",
            "\n"
          ]
        }
      ]
    },
    {
      "cell_type": "code",
      "source": [
        "libraries('alakazam','shazam','tigger','scoper','dowser')"
      ],
      "metadata": {
        "colab": {
          "base_uri": "https://localhost:8080/"
        },
        "id": "yUh_WPwvc4Sm",
        "outputId": "a9e56440-f946-472b-87a4-3f62ed2f8fbe"
      },
      "execution_count": 4,
      "outputs": [
        {
          "output_type": "stream",
          "name": "stderr",
          "text": [
            "Loading required package: alakazam\n",
            "\n",
            "Loading required package: ggplot2\n",
            "\n",
            "As of v1.0.0 the AIRR Rearrangement schema is now the default file format.\n",
            "A description of the standard is available at https://docs.airr-community.org.\n",
            "The legacy Change-O format is supported through arguments to each function\n",
            "that allow the input column names to be explicitly defined.\n",
            "\n",
            "Loading required package: shazam\n",
            "\n",
            "As of v1.0.0 the AIRR Rearrangement schema is now the default file format.\n",
            "A description of the standard is available at https://docs.airr-community.org.\n",
            "The legacy Change-O format is supported through arguments to each function\n",
            "that allow the input column names to be explicitly defined.\n",
            "\n",
            "Loading required package: tigger\n",
            "\n",
            "As of v1.0.0 the AIRR Rearrangement schema is now the default file format.\n",
            "A description of the standard is available at https://docs.airr-community.org.\n",
            "The legacy Change-O format is supported through arguments to each function\n",
            "that allow the input column names to be explicitly defined.\n",
            "\n",
            "Loading required package: scoper\n",
            "\n",
            "As of v1.0.0 the AIRR Rearrangement schema is now the default file format.\n",
            "A description of the standard is available at https://docs.airr-community.org.\n",
            "The legacy Change-O format is supported through arguments to each function\n",
            "that allow the input column names to be explicitly defined.\n",
            "\n",
            "\n",
            "Attaching package: ‘scoper’\n",
            "\n",
            "\n",
            "The following object is masked from ‘package:alakazam’:\n",
            "\n",
            "    ExampleDb\n",
            "\n",
            "\n",
            "Loading required package: dowser\n",
            "\n",
            "\n",
            "Attaching package: ‘dowser’\n",
            "\n",
            "\n",
            "The following object is masked from ‘package:alakazam’:\n",
            "\n",
            "    ExampleDbChangeo\n",
            "\n",
            "\n",
            "All packages loaded successfully\n",
            "\n"
          ]
        }
      ]
    },
    {
      "cell_type": "markdown",
      "source": [
        "#### For data analysis and figures"
      ],
      "metadata": {
        "id": "bVUQrj8hC1qS"
      }
    },
    {
      "cell_type": "code",
      "source": [
        "install.packages(c(\"data.table\",\"dplyr\",\"ggplot2\",\"cowplot\",\"gridExtra\",\"ggpubr\"))\n",
        "libraries(\"data.table\",\"dplyr\",\"ggplot2\",\"cowplot\",\"gridExtra\",\"ggpubr\")"
      ],
      "metadata": {
        "colab": {
          "base_uri": "https://localhost:8080/"
        },
        "id": "KbM8R07SCRy7",
        "outputId": "9d47c2e7-d21e-4073-eb5d-02c54b129f39"
      },
      "execution_count": 5,
      "outputs": [
        {
          "output_type": "stream",
          "name": "stderr",
          "text": [
            "Installing packages into ‘/usr/local/lib/R/site-library’\n",
            "(as ‘lib’ is unspecified)\n",
            "\n",
            "also installing the dependencies ‘numDeriv’, ‘SparseM’, ‘MatrixModels’, ‘minqa’, ‘nloptr’, ‘RcppEigen’, ‘carData’, ‘abind’, ‘pbkrtest’, ‘quantreg’, ‘maptools’, ‘lme4’, ‘corrplot’, ‘car’, ‘ggrepel’, ‘ggsci’, ‘ggsignif’, ‘polynom’, ‘rstatix’\n",
            "\n",
            "\n",
            "Loading required package: data.table\n",
            "\n",
            "Loading required package: dplyr\n",
            "\n",
            "\n",
            "Attaching package: ‘dplyr’\n",
            "\n",
            "\n",
            "The following objects are masked from ‘package:data.table’:\n",
            "\n",
            "    between, first, last\n",
            "\n",
            "\n",
            "The following objects are masked from ‘package:stats’:\n",
            "\n",
            "    filter, lag\n",
            "\n",
            "\n",
            "The following objects are masked from ‘package:base’:\n",
            "\n",
            "    intersect, setdiff, setequal, union\n",
            "\n",
            "\n",
            "Loading required package: cowplot\n",
            "\n",
            "Loading required package: gridExtra\n",
            "\n",
            "\n",
            "Attaching package: ‘gridExtra’\n",
            "\n",
            "\n",
            "The following object is masked from ‘package:dplyr’:\n",
            "\n",
            "    combine\n",
            "\n",
            "\n",
            "Loading required package: ggpubr\n",
            "\n",
            "\n",
            "Attaching package: ‘ggpubr’\n",
            "\n",
            "\n",
            "The following object is masked from ‘package:cowplot’:\n",
            "\n",
            "    get_legend\n",
            "\n",
            "\n",
            "All packages loaded successfully\n",
            "\n"
          ]
        }
      ]
    },
    {
      "cell_type": "markdown",
      "source": [
        "## Read in data"
      ],
      "metadata": {
        "id": "79MWlKpj1v-5"
      }
    },
    {
      "cell_type": "markdown",
      "source": [
        "Use **either one** of these two files"
      ],
      "metadata": {
        "id": "3qUWRVoU-IvR"
      }
    },
    {
      "cell_type": "markdown",
      "source": [
        "### Annotated file"
      ],
      "metadata": {
        "id": "_DuLu_EA1yct"
      }
    },
    {
      "cell_type": "code",
      "source": [
        "#data <- readChangeoDb('data_db-pass.tsv')\n",
        "#data <- data %>% filter(productive)\n",
        "#multi_heavy <- table(filter(data, locus == \"IGH\")$cell_id)\n",
        "#multi_heavy_cells <- names(multi_heavy)[multi_heavy > 1]\n",
        "#data <- filter(data, !cell_id %in% multi_heavy_cells)\n",
        "#heavy_cells <- filter(data, locus == \"IGH\")$cell_id\n",
        "#light_cells <- filter(data, locus == \"IGK\" | locus == \"IGL\")$cell_id\n",
        "#no_heavy_cells <- light_cells[which(!light_cells %in% heavy_cells)]\n",
        "#data <- filter(data, !cell_id %in% no_heavy_cells)\n",
        "#nrow(data)"
      ],
      "metadata": {
        "id": "RIw9kq4lKfPe"
      },
      "execution_count": 6,
      "outputs": []
    },
    {
      "cell_type": "markdown",
      "source": [
        "### Annotated and genotyped file"
      ],
      "metadata": {
        "id": "Jw5bNbuN18Fg"
      }
    },
    {
      "cell_type": "code",
      "source": [
        "data <- readChangeoDb('data_db-pass-genotyped.tsv')"
      ],
      "metadata": {
        "id": "_V2lgiJd1vXU"
      },
      "execution_count": 7,
      "outputs": []
    },
    {
      "cell_type": "markdown",
      "source": [
        "## Calculate nearest neighbor distances \n",
        "\n",
        "[`distToNearest`](https://shazam.readthedocs.io/en/stable/topics/distToNearest/) calculate non-zero distance of every heavy chain sequence to its nearest sequence. \n",
        "* `model` provides various distance measures including `ham` and `aa` (amino acid hamming distance). See help('distToNearest').\n",
        "\n",
        "For more details see vignettes [here](https://shazam.readthedocs.io/en/stable/vignettes/DistToNearest-Vignette/) and [here](https://cran.r-project.org/web/packages/shazam/vignettes/DistToNearest-Vignette.pdf)"
      ],
      "metadata": {
        "id": "kgRyJeneERAG"
      }
    },
    {
      "cell_type": "markdown",
      "source": [
        "### Paired heavy and light chains"
      ],
      "metadata": {
        "id": "R8CzF2raEezt"
      }
    },
    {
      "cell_type": "markdown",
      "source": [
        " \n",
        "* `onlyHeavy=FALSE`: turn on paired chain grouping \n",
        "*  `VJthenLen`\n",
        "  * When `VJthenLen=FALSE`: turn on **one-stage** process - cells are divided into partitions containing same *heavy chain* V gene, J gene, and junction length (V-J-length combination), and the same *light chain* V-J-length combination\n",
        "  * When `VJthenLen=TRUE`: turn on **two-stage proces** - cells are first divided by heavy chain V gene and J gene (V-J combination), and light chain V-J combination; and then by the corresponding junction lengths."
      ],
      "metadata": {
        "id": "-4RA1k-IFr2D"
      }
    },
    {
      "cell_type": "code",
      "source": [
        "dist_sc <- distToNearest(data, cellIdColumn=\"cell_id\", locusColumn=\"locus\", vCallColumn=\"v_call_genotyped\", VJthenLen=FALSE, onlyHeavy=FALSE, nproc = 8)"
      ],
      "metadata": {
        "id": "BJZKLeveFB4R"
      },
      "execution_count": 8,
      "outputs": []
    },
    {
      "cell_type": "markdown",
      "source": [
        "Regardless of whether grouping was done using only the heavy chain sequences, or both heavy and\n",
        "light chain sequences, **only heavy chain sequences will be used for calculating the nearest neighbor\n",
        "distances.** Hence, under the single-cell mode, rows in the returned data.frame corresponding to\n",
        "**light chain sequences will have NA in the dist_nearest** field."
      ],
      "metadata": {
        "id": "DIL71S9VMEqJ"
      }
    },
    {
      "cell_type": "markdown",
      "source": [
        "The table below shows how many IGH/K/L sequences in the data"
      ],
      "metadata": {
        "id": "47NBxkVb5Bdy"
      }
    },
    {
      "cell_type": "code",
      "source": [
        "data %>% group_by(locus) %>% count(sequences = n())"
      ],
      "metadata": {
        "colab": {
          "base_uri": "https://localhost:8080/",
          "height": 192
        },
        "id": "6IdccjR-Uw7z",
        "outputId": "fa85e5b7-43d1-498a-f154-3aa83ba7e6b3"
      },
      "execution_count": 9,
      "outputs": [
        {
          "output_type": "display_data",
          "data": {
            "text/html": [
              "<table class=\"dataframe\">\n",
              "<caption>A grouped_df: 3 × 3</caption>\n",
              "<thead>\n",
              "\t<tr><th scope=col>locus</th><th scope=col>sequences</th><th scope=col>n</th></tr>\n",
              "\t<tr><th scope=col>&lt;chr&gt;</th><th scope=col>&lt;int&gt;</th><th scope=col>&lt;int&gt;</th></tr>\n",
              "</thead>\n",
              "<tbody>\n",
              "\t<tr><td>IGH</td><td>15286</td><td>7527</td></tr>\n",
              "\t<tr><td>IGK</td><td>15286</td><td>4950</td></tr>\n",
              "\t<tr><td>IGL</td><td>15286</td><td>2809</td></tr>\n",
              "</tbody>\n",
              "</table>\n"
            ],
            "text/markdown": "\nA grouped_df: 3 × 3\n\n| locus &lt;chr&gt; | sequences &lt;int&gt; | n &lt;int&gt; |\n|---|---|---|\n| IGH | 15286 | 7527 |\n| IGK | 15286 | 4950 |\n| IGL | 15286 | 2809 |\n\n",
            "text/latex": "A grouped\\_df: 3 × 3\n\\begin{tabular}{lll}\n locus & sequences & n\\\\\n <chr> & <int> & <int>\\\\\n\\hline\n\t IGH & 15286 & 7527\\\\\n\t IGK & 15286 & 4950\\\\\n\t IGL & 15286 & 2809\\\\\n\\end{tabular}\n",
            "text/plain": [
              "  locus sequences n   \n",
              "1 IGH   15286     7527\n",
              "2 IGK   15286     4950\n",
              "3 IGL   15286     2809"
            ]
          },
          "metadata": {}
        }
      ]
    },
    {
      "cell_type": "markdown",
      "source": [
        "One observation: a lot of the sequences have NA distances "
      ],
      "metadata": {
        "id": "uJSWEcrC5NSc"
      }
    },
    {
      "cell_type": "code",
      "source": [
        "not_na <- dist_sc %>% select(dist_nearest) %>% filter(!is.na(dist_nearest)) %>% count() \n",
        "na <- dist_sc %>% select(dist_nearest) %>% filter(is.na(dist_nearest)) %>% count() \n",
        "cat('In the total', nrow(data), 'sequences,', na$n, 'have NA distance', '(', round(100*na$n/nrow(data),2), '%)')"
      ],
      "metadata": {
        "colab": {
          "base_uri": "https://localhost:8080/"
        },
        "id": "0AO2JL0MXN1k",
        "outputId": "ea2d3183-1304-42fd-da6e-a7256f554872"
      },
      "execution_count": 10,
      "outputs": [
        {
          "output_type": "stream",
          "name": "stdout",
          "text": [
            "In the total 15286 sequences, 14288 have NA distance ( 93.47 %)"
          ]
        }
      ]
    },
    {
      "cell_type": "markdown",
      "source": [
        "### Heavy chain only"
      ],
      "metadata": {
        "id": "7ETIQoFSdJpj"
      }
    },
    {
      "cell_type": "code",
      "source": [
        "dist_nearest <- distToNearest(filter(data, locus == \"IGH\"), vCallColumn=\"v_call_genotyped\", nproc = 8)"
      ],
      "metadata": {
        "id": "aDg60YxBdKAE"
      },
      "execution_count": 11,
      "outputs": []
    },
    {
      "cell_type": "markdown",
      "source": [
        "### Visualize the distances in histogram "
      ],
      "metadata": {
        "id": "IAxZ21VvajqU"
      }
    },
    {
      "cell_type": "markdown",
      "source": [
        "Paired-chain figure"
      ],
      "metadata": {
        "id": "KMSuUz9LdYew"
      }
    },
    {
      "cell_type": "code",
      "source": [
        "dist_sc_heavy <- dist_sc %>% filter(!is.na(dist_nearest)) %>% select(dist_nearest) %>% as.data.frame() %>% rename(distance = dist_nearest)"
      ],
      "metadata": {
        "id": "ykB_vgg5Tl8t"
      },
      "execution_count": 12,
      "outputs": []
    },
    {
      "cell_type": "code",
      "source": [
        "g_paired <- ggplot(dist_sc_heavy, aes(x = distance)) + \n",
        "        theme_bw() + \n",
        "        xlab(\"Distance\") + ylab(\"Count\") +\n",
        "        scale_x_continuous(breaks = seq(0, 1, 0.1)) +\n",
        "        geom_histogram(color = \"white\", binwidth = 0.02) + \n",
        "        theme(axis.title = element_text(size = 18))"
      ],
      "metadata": {
        "id": "8181x_WtGGaf"
      },
      "execution_count": 13,
      "outputs": []
    },
    {
      "cell_type": "markdown",
      "source": [
        "Heavy-chain only "
      ],
      "metadata": {
        "id": "8_e-6zOwF9Jb"
      }
    },
    {
      "cell_type": "code",
      "source": [
        "# generate Distance histogram\n",
        "g_heavy <- ggplot(subset(dist_nearest, !is.na(dist_nearest)),\n",
        "             aes(x = dist_nearest)) + \n",
        "        theme_bw() + \n",
        "        xlab(\"Distance\") + ylab(\"Count\") +\n",
        "        scale_x_continuous(breaks = seq(0, 1, 0.1)) +\n",
        "        geom_histogram(color = \"white\", binwidth = 0.02) + \n",
        "        theme(axis.title = element_text(size = 18))\n",
        "plot(g_heavy)"
      ],
      "metadata": {
        "colab": {
          "base_uri": "https://localhost:8080/",
          "height": 437
        },
        "id": "dUluLL7ZEXAG",
        "outputId": "f06e038f-49c6-4e4f-9289-9044e0596d94"
      },
      "execution_count": 14,
      "outputs": [
        {
          "output_type": "display_data",
          "data": {
            "text/plain": [
              "plot without title"
            ],
            "image/png": "[encoded data removed]"
          },
          "metadata": {
            "image/png": {
              "width": 420,
              "height": 420
            }
          }
        }
      ]
    },
    {
      "cell_type": "markdown",
      "source": [
        "## Find the distance threshold \n",
        "Defining a threshold relies on distinguishing clonally related sequences (represented by sequences with close neighbors) from singletons (sequences without close neighbors), which show up as **two modes** in a nearest neighbor distance histogram.\n",
        "\n",
        "[`findThreshold`](https://shazam.readthedocs.io/en/stable/topics/findThreshold) automtically determines an optimal threshold for clonal assignment of Ig sequences using a vector of nearest neighbor distances via two methods:\n",
        "*   `method` = `gmm` : a Gamma/Gaussian Mixture Model fit\n",
        "*   `method` = `density` : kernel density fit \n",
        "\n",
        "\n"
      ],
      "metadata": {
        "id": "cwEEPSRHbMf4"
      }
    },
    {
      "cell_type": "markdown",
      "source": [
        "### Using smoothed density"
      ],
      "metadata": {
        "id": "3UUJZ9tFbhb_"
      }
    },
    {
      "cell_type": "markdown",
      "source": [
        "#### Paired chain"
      ],
      "metadata": {
        "id": "aZ1EjKhTbw-Z"
      }
    },
    {
      "cell_type": "code",
      "source": [
        "output <- findThreshold(dist_sc$dist_nearest, method=\"density\")\n",
        "threshold <- output@threshold \n",
        "round(threshold,2)"
      ],
      "metadata": {
        "colab": {
          "base_uri": "https://localhost:8080/",
          "height": 34
        },
        "id": "m5DUl0rIbpEt",
        "outputId": "c3206412-e869-4fd8-9758-6f9a2872ad37"
      },
      "execution_count": 15,
      "outputs": [
        {
          "output_type": "display_data",
          "data": {
            "text/html": [
              "0.19"
            ],
            "text/markdown": "0.19",
            "text/latex": "0.19",
            "text/plain": [
              "[1] 0.19"
            ]
          },
          "metadata": {}
        }
      ]
    },
    {
      "cell_type": "markdown",
      "source": [
        "#### Heavy chain only"
      ],
      "metadata": {
        "id": "YiFFy4f3cvp3"
      }
    },
    {
      "cell_type": "code",
      "source": [
        "output_heavy <- findThreshold(dist_nearest$dist_nearest, method=\"density\")\n",
        "threshold_heavy <- output_heavy@threshold\n",
        "round(threshold_heavy,2)"
      ],
      "metadata": {
        "colab": {
          "base_uri": "https://localhost:8080/",
          "height": 34
        },
        "id": "PySclUM_bzTW",
        "outputId": "6ff3b6b0-d297-4cb7-b448-45dc2c291c0e"
      },
      "execution_count": 16,
      "outputs": [
        {
          "output_type": "display_data",
          "data": {
            "text/html": [
              "&lt;NA&gt;"
            ],
            "text/markdown": "&lt;NA&gt;",
            "text/latex": "<NA>",
            "text/plain": [
              "[1] NA"
            ]
          },
          "metadata": {}
        }
      ]
    },
    {
      "cell_type": "markdown",
      "source": [
        "### Using gamma gaussian mixture model"
      ],
      "metadata": {
        "id": "qrjV1PitCTeq"
      }
    },
    {
      "cell_type": "markdown",
      "source": [
        "#### Paired chain"
      ],
      "metadata": {
        "id": "O4yy3zeNCezr"
      }
    },
    {
      "cell_type": "code",
      "source": [
        "output_gmm <- findThreshold(dist_sc$dist_nearest, method=\"gmm\")\n",
        "threshold_gmm <- output_gmm@threshold \n",
        "round(threshold_gmm,2)"
      ],
      "metadata": {
        "id": "xqHVUROtCtvR"
      },
      "execution_count": null,
      "outputs": []
    },
    {
      "cell_type": "markdown",
      "source": [
        "#### Heavy chain only"
      ],
      "metadata": {
        "id": "9vNt-R1RCmVu"
      }
    },
    {
      "cell_type": "code",
      "source": [
        "output_gmm_heavy <- findThreshold(dist_sc$dist_nearest, method=\"gmm\")\n",
        "threshold_gmm <- output_gmm_heavy@threshold \n",
        "round(threshold_gmm_heavy,2)"
      ],
      "metadata": {
        "id": "IFmkYR3dC3MG"
      },
      "execution_count": 19,
      "outputs": []
    },
    {
      "cell_type": "markdown",
      "source": [
        ""
      ],
      "metadata": {
        "id": "T_hFDXqcCiu-"
      }
    },
    {
      "cell_type": "markdown",
      "source": [
        "#### Side-by-side threshold comparison\n"
      ],
      "metadata": {
        "id": "QColDxnGgm_x"
      }
    },
    {
      "cell_type": "code",
      "source": [
        "g_paired <- plot(output, silent = TRUE)\n",
        "g_heavy <- plot(output_heavy, silent = TRUE)"
      ],
      "metadata": {
        "id": "PAjRbcBe_-7s"
      },
      "execution_count": null,
      "outputs": []
    },
    {
      "cell_type": "code",
      "source": [
        "options(repr.plot.width = 13, repr.plot.height = 7)\n",
        "plot_grid(g_heavy, g_paired , \n",
        "  labels = c(\n",
        "    \"Heavy chain only: can't detect thresold\", \n",
        "    \"Paired chain: smooth density thresold = 0.19\"),ncol = 2, nrow = 1)"
      ],
      "metadata": {
        "id": "gnSOMqVieZXi"
      },
      "execution_count": null,
      "outputs": []
    },
    {
      "cell_type": "markdown",
      "source": [
        "## Define clonal groups in 3 ways"
      ],
      "metadata": {
        "id": "NV9ajSTF1jHk"
      }
    },
    {
      "cell_type": "markdown",
      "source": [
        "This step assigns clonal identifiers/lineages using 1) hierarchical clustering, 2) sequence identity, and 3) spectral clustering.\n",
        "* [More details here.](https://scoper.readthedocs.io/en/1.2.0/topics/scoper/)\n",
        "* Note `summarize_clones` = TRUE is required for histograms\n",
        "\n"
      ],
      "metadata": {
        "id": "oaXYAFOUK4TW"
      }
    },
    {
      "cell_type": "markdown",
      "source": [
        "### By sequences similarity\n",
        "\n",
        "[`identicalClones`](https://scoper.readthedocs.io/en/1.2.0/topics/identicalClones/) provides a **simple sequence identity** based partitioning approach for inferring clonal relationships.\n",
        "\n",
        "This approach partitions B or T cell receptor sequences into clonal groups based on junction region sequence identity within partitions that share the same V gene, J gene, and junction length, allowing for ambiguous V or J gene annotations.\n",
        "\n",
        "`method` allows for `nt` nucleotide based clustering or `aa` amino acid based clustering. "
      ],
      "metadata": {
        "id": "EIIQe0CLQxMz"
      }
    },
    {
      "cell_type": "markdown",
      "source": [
        "#### By nucleotide similarity"
      ],
      "metadata": {
        "id": "lvOju4QPiVoG"
      }
    },
    {
      "cell_type": "code",
      "source": [
        "results_nt <- identicalClones(\n",
        "  data, \n",
        "  cell_id = 'cell_id', \n",
        "  method=\"nt\", \n",
        "  only_heavy = FALSE, \n",
        "  split_light = TRUE, \n",
        "  summarize_clones = TRUE,\n",
        "  nproc = 8)"
      ],
      "metadata": {
        "id": "puJo0UmWHAww"
      },
      "execution_count": null,
      "outputs": []
    },
    {
      "cell_type": "code",
      "source": [
        "glimpse(results_nt)"
      ],
      "metadata": {
        "id": "BEG7Gad7k9tp"
      },
      "execution_count": null,
      "outputs": []
    },
    {
      "cell_type": "markdown",
      "source": [
        "#### By amino acid similarity"
      ],
      "metadata": {
        "id": "i9VbNGMaib_r"
      }
    },
    {
      "cell_type": "code",
      "source": [
        "results_aa <- identicalClones(\n",
        "  data, \n",
        "  cell_id = 'cell_id', \n",
        "  method=\"aa\", \n",
        "  only_heavy = FALSE, \n",
        "  split_light = TRUE, \n",
        "  summarize_clones = TRUE,\n",
        "  nproc = 8)"
      ],
      "metadata": {
        "id": "xUB8CZACiT3V"
      },
      "execution_count": null,
      "outputs": []
    },
    {
      "cell_type": "code",
      "source": [
        "glimpse(results_aa)"
      ],
      "metadata": {
        "id": "T4w-mSmalkSR"
      },
      "execution_count": null,
      "outputs": []
    },
    {
      "cell_type": "markdown",
      "source": [
        "### By hierarchical clustering\n",
        "\n",
        "[`hierarchicalClones`](https://scoper.readthedocs.io/en/1.2.0/topics/hierarchicalClones/) provides **a hierarchical agglomerative clustering** approach to infer clonal relationships. \n",
        "\n",
        "*   This approach clusters B or T cell receptor sequences based on junction region sequence similarity within partitions that share the same V gene, J gene, and junction length, allowing for ambiguous V or J gene annotations.\n",
        "*   With `only_heavy = FALSE` and `split_light = TRU`E, grouping should be done by using IGH plus IGK/IGL sequences and inferred clones should be split by the light/short chain (IGK and IGL) following heavy/long chain clustering.\n",
        "\n",
        "\n",
        "\n"
      ],
      "metadata": {
        "id": "r9nJKTonKaQJ"
      }
    },
    {
      "cell_type": "code",
      "source": [
        "results <- hierarchicalClones(\n",
        "  data, \n",
        "  cell_id = 'cell_id', \n",
        "  threshold = threshold, \n",
        "  only_heavy = FALSE, \n",
        "  split_light = TRUE, \n",
        "  summarize_clones = TRUE,\n",
        "  verbose = TRUE,\n",
        "  log = \"log_file\",\n",
        "  nproc = 8)"
      ],
      "metadata": {
        "id": "458Ii0HT1ivG"
      },
      "execution_count": null,
      "outputs": []
    },
    {
      "cell_type": "code",
      "source": [
        "glimpse(results)"
      ],
      "metadata": {
        "id": "zVC8gqiKlTkm"
      },
      "execution_count": null,
      "outputs": []
    },
    {
      "cell_type": "markdown",
      "source": [
        "### By spectral clustering\n",
        "\n",
        "[`spectralClones`](https://scoper.readthedocs.io/en/1.2.0/topics/spectralClones/) provides **an unsupervised spectral clustering** approach to infer clonal relationships.\n",
        "\n",
        "\n",
        "\n",
        "*   `method` supports two options\n",
        "  * If `method`=`novj`, then clonal relationships are inferred using an adaptive threshold that indicates the level of similarity among junction sequences in a local neighborhood.\n",
        "\n",
        " * If `method`=`vj`, then clonal relationships are inferred not only on junction region homology, but also taking into account the mutation profiles in the V and J segments. Mutation counts are determined by comparing the input sequences (in the column specified by sequence) to the effective germline sequence (IUPAC representation of sequences in the column specified by `germline`)."
      ],
      "metadata": {
        "id": "A7FmHFhZf0Iz"
      }
    },
    {
      "cell_type": "code",
      "source": [
        "results_spec <- spectralClones(\n",
        "  data, \n",
        "  cell_id = 'cell_id', \n",
        "  method = 'novj',\n",
        "  only_heavy = FALSE, \n",
        "  split_light = TRUE, \n",
        "  summarize_clones = TRUE,\n",
        "  verbose = TRUE,\n",
        "  log = \"log_file\",\n",
        "  nproc = 8)"
      ],
      "metadata": {
        "id": "M3QfynkegLin"
      },
      "execution_count": null,
      "outputs": []
    },
    {
      "cell_type": "markdown",
      "source": [
        "### Side-by-side distance comparison"
      ],
      "metadata": {
        "id": "snaWabmmsLBW"
      }
    },
    {
      "cell_type": "code",
      "source": [
        "his_nt <- plot(results_nt, binwidth=0.02, silent = T)\n",
        "his_aa <- plot(results_aa, binwidth=0.02, silent = T)\n",
        "his_h <- plot(results, binwidth=0.02, silent = T)\n",
        "his_sp <- plot(results_spec, binwidth=0.02, silent = T)"
      ],
      "metadata": {
        "id": "lWi527K6fJon"
      },
      "execution_count": null,
      "outputs": []
    },
    {
      "cell_type": "code",
      "source": [
        "options(repr.plot.width = 13, repr.plot.height = 13)\n",
        "plot_grid(his_nt , his_aa, his_h, his_sp,\n",
        "  labels = c(\n",
        "    \"Nucleotide Sequence\",\n",
        "    \"Amino Acid Sequence\",\n",
        "    \"Hierarchical clustering\", \n",
        "    \"Spectral clustering\"),ncol = 2, nrow = 2)"
      ],
      "metadata": {
        "id": "4W1YhcchqkTi"
      },
      "execution_count": null,
      "outputs": []
    },
    {
      "cell_type": "markdown",
      "source": [
        "## Save clones as rds "
      ],
      "metadata": {
        "id": "TfuL8A6KyaFs"
      }
    },
    {
      "cell_type": "code",
      "source": [
        "saveRDS(results, 'hierarchicalClones_results.rds')\n",
        "saveRDS(results_spec, 'spectralClones_results.rds')\n",
        "saveRDS(results_nt, 'identicalClones_nt_results.rds')\n",
        "saveRDS(results_aa, 'identicalClones_aa_results.rds')"
      ],
      "metadata": {
        "id": "WcTM_fJ_xt_v"
      },
      "execution_count": null,
      "outputs": []
    }
  ]
}