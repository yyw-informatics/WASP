{
  "nbformat": 4,
  "nbformat_minor": 0,
  "metadata": {
    "colab": {
      "name": "Immcantation_4_Reconstruct_germlines_with_Dowser_in_R.ipynb",
      "provenance": [],
      "collapsed_sections": [],
      "toc_visible": true,
      "machine_shape": "hm",
      "background_execution": "on",
      "authorship_tag": "ABX9TyMrphUI9p1xAquMIGn45Fg+",
      "include_colab_link": true
    },
    "kernelspec": {
      "name": "ir",
      "display_name": "R"
    },
    "language_info": {
      "name": "R"
    },
    "gpuClass": "standard"
  },
  "cells": [
    {
      "cell_type": "markdown",
      "metadata": {
        "id": "view-in-github",
        "colab_type": "text"
      },
      "source": [
        "<a href=\"https://colab.research.google.com/github/yyw-informatics/WASP/blob/main/Immcantation_4_Reconstruct_germlines_with_Dowser_in_R.ipynb\" target=\"_parent\"><img src=\"https://colab.research.google.com/assets/colab-badge.svg\" alt=\"Open In Colab\"/></a>"
      ]
    },
    {
      "cell_type": "markdown",
      "source": [
        "### In Runtime, select **High RAM**"
      ],
      "metadata": {
        "id": "ejTnxX7TTiyk"
      }
    },
    {
      "cell_type": "markdown",
      "source": [
        "## Install R packages"
      ],
      "metadata": {
        "id": "Gzbp_FXBcaYr"
      }
    },
    {
      "cell_type": "code",
      "execution_count": null,
      "metadata": {
        "colab": {
          "base_uri": "https://localhost:8080/"
        },
        "id": "xfEkp_NYbu_m",
        "outputId": "415ef57a-da07-40a8-c0d1-f4cf668bc8f4"
      },
      "outputs": [
        {
          "output_type": "stream",
          "name": "stderr",
          "text": [
            "Installing package into ‘/usr/local/lib/R/site-library’\n",
            "(as ‘lib’ is unspecified)\n",
            "\n"
          ]
        }
      ],
      "source": [
        "install.packages('easypackages')\n",
        "library(easypackages)"
      ]
    },
    {
      "cell_type": "markdown",
      "source": [
        "#### For installing packages from github or bitbucket"
      ],
      "metadata": {
        "id": "qhhFnrR48tY4"
      }
    },
    {
      "cell_type": "code",
      "source": [
        "install.packages(c(\"devtools\", \"roxygen2\", \"testthat\", \"knitr\", \"rmarkdown\", \"Rcpp\"))"
      ],
      "metadata": {
        "colab": {
          "base_uri": "https://localhost:8080/"
        },
        "id": "8S3QQ2f2cshN",
        "outputId": "21bb4b9e-f6d3-4357-d4ee-47e169e88fce"
      },
      "execution_count": null,
      "outputs": [
        {
          "output_type": "stream",
          "name": "stderr",
          "text": [
            "Installing packages into ‘/usr/local/lib/R/site-library’\n",
            "(as ‘lib’ is unspecified)\n",
            "\n"
          ]
        }
      ]
    },
    {
      "cell_type": "markdown",
      "source": [
        "#### Immcantation packages - 17-20m to install"
      ],
      "metadata": {
        "id": "m9mkdprS8y_M"
      }
    },
    {
      "cell_type": "code",
      "source": [
        "library(devtools)\n",
        "install_bitbucket(\"kleinstein/alakazam@master\")\n",
        "install_bitbucket(\"kleinstein/shazam@master\")\n",
        "install.packages(\"tigger\")\n",
        "install.packages(\"scoper\")\n",
        "install_bitbucket(\"kleinstein/dowser@master\")"
      ],
      "metadata": {
        "colab": {
          "base_uri": "https://localhost:8080/"
        },
        "id": "zqNGoW35cwMS",
        "outputId": "516f61d7-054f-4fde-fbdb-426892001ef6"
      },
      "execution_count": null,
      "outputs": [
        {
          "output_type": "stream",
          "name": "stderr",
          "text": [
            "Loading required package: usethis\n",
            "\n",
            "Downloading bitbucket repo kleinstein/alakazam@master\n",
            "\n"
          ]
        },
        {
          "output_type": "stream",
          "name": "stdout",
          "text": [
            "formatR      (NA    -> 1.12    ) [CRAN]\n",
            "futile.op... (NA    -> 1.0.1   ) [CRAN]\n",
            "lambda.r     (NA    -> 1.2.4   ) [CRAN]\n",
            "BH           (NA    -> 1.78.0-0) [CRAN]\n",
            "snow         (NA    -> 0.4-4   ) [CRAN]\n",
            "futile.lo... (NA    -> 1.4.3   ) [CRAN]\n",
            "GenomeInf... (NA    -> 1.2.8   ) [CRAN]\n",
            "RCurl        (NA    -> 1.98-1.7) [CRAN]\n",
            "Rhtslib      (NA    -> 1.28.0  ) [CRAN]\n",
            "BiocParallel (NA    -> 1.30.3  ) [CRAN]\n",
            "bitops       (NA    -> 1.0-7   ) [CRAN]\n",
            "zlibbioc     (NA    -> 1.42.0  ) [CRAN]\n",
            "XVector      (NA    -> 0.36.0  ) [CRAN]\n",
            "IRanges      (NA    -> 2.30.0  ) [CRAN]\n",
            "S4Vectors    (NA    -> 0.34.0  ) [CRAN]\n",
            "BiocGenerics (NA    -> 0.42.0  ) [CRAN]\n",
            "Biostrings   (NA    -> 2.64.0  ) [CRAN]\n",
            "GenomicRa... (NA    -> 1.48.0  ) [CRAN]\n",
            "GenomeInfoDb (NA    -> 1.32.2  ) [CRAN]\n",
            "matrixStats  (NA    -> 0.62.0  ) [CRAN]\n",
            "DelayedArray (NA    -> 0.22.0  ) [CRAN]\n",
            "Biobase      (NA    -> 2.56.0  ) [CRAN]\n",
            "MatrixGen... (NA    -> 1.8.1   ) [CRAN]\n",
            "rlang        (1.0.3 -> 1.0.4   ) [CRAN]\n",
            "generics     (0.1.2 -> 0.1.3   ) [CRAN]\n",
            "sp           (NA    -> 1.5-0   ) [CRAN]\n",
            "pixmap       (NA    -> 0.4-12  ) [CRAN]\n",
            "farver       (2.1.0 -> 2.1.1   ) [CRAN]\n",
            "Rsamtools    (NA    -> 2.12.0  ) [CRAN]\n",
            "Summarize... (NA    -> 1.26.1  ) [CRAN]\n",
            "segmented    (NA    -> 1.6-0   ) [CRAN]\n",
            "ade4         (NA    -> 1.7-19  ) [CRAN]\n",
            "stringi      (1.7.6 -> 1.7.8   ) [CRAN]\n",
            "GenomicAl... (NA    -> 1.32.0  ) [CRAN]\n",
            "seqinr       (NA    -> 4.2-16  ) [CRAN]\n",
            "igraph       (NA    -> 1.3.2   ) [CRAN]\n",
            "ape          (NA    -> 5.6-2   ) [CRAN]\n",
            "airr         (NA    -> 1.3.0   ) [CRAN]\n"
          ]
        },
        {
          "output_type": "stream",
          "name": "stderr",
          "text": [
            "Installing 38 packages: formatR, futile.options, lambda.r, BH, snow, futile.logger, GenomeInfoDbData, RCurl, Rhtslib, BiocParallel, bitops, zlibbioc, XVector, IRanges, S4Vectors, BiocGenerics, Biostrings, GenomicRanges, GenomeInfoDb, matrixStats, DelayedArray, Biobase, MatrixGenerics, rlang, generics, sp, pixmap, farver, Rsamtools, SummarizedExperiment, segmented, ade4, stringi, GenomicAlignments, seqinr, igraph, ape, airr\n",
            "\n",
            "Installing packages into ‘/usr/local/lib/R/site-library’\n",
            "(as ‘lib’ is unspecified)\n",
            "\n"
          ]
        },
        {
          "output_type": "stream",
          "name": "stdout",
          "text": [
            "* checking for file ‘/tmp/Rtmp0FLK8I/remotes4d629f70d4/kleinstein-alakazam-9ffa2b2c253d/DESCRIPTION’ ... OK\n",
            "* preparing ‘alakazam’:\n",
            "* checking DESCRIPTION meta-information ... OK\n",
            "* cleaning src\n",
            "* checking for LF line-endings in source and make files and shell scripts\n",
            "* checking for empty or unneeded directories\n",
            "* building ‘alakazam_1.2.0.9999.tar.gz’\n",
            "\n"
          ]
        },
        {
          "output_type": "stream",
          "name": "stderr",
          "text": [
            "Installing package into ‘/usr/local/lib/R/site-library’\n",
            "(as ‘lib’ is unspecified)\n",
            "\n",
            "Downloading bitbucket repo kleinstein/shazam@master\n",
            "\n"
          ]
        },
        {
          "output_type": "stream",
          "name": "stdout",
          "text": [
            "iterators  (NA -> 1.0.14) [CRAN]\n",
            "foreach    (NA -> 1.5.2 ) [CRAN]\n",
            "lazyeval   (NA -> 0.2.2 ) [CRAN]\n",
            "doParallel (NA -> 1.0.17) [CRAN]\n",
            "diptest    (NA -> 0.76-0) [CRAN]\n"
          ]
        },
        {
          "output_type": "stream",
          "name": "stderr",
          "text": [
            "Installing 5 packages: iterators, foreach, lazyeval, doParallel, diptest\n",
            "\n",
            "Installing packages into ‘/usr/local/lib/R/site-library’\n",
            "(as ‘lib’ is unspecified)\n",
            "\n"
          ]
        },
        {
          "output_type": "stream",
          "name": "stdout",
          "text": [
            "* checking for file ‘/tmp/Rtmp0FLK8I/remotes4d23d80e24/kleinstein-shazam-7443d21b393e/DESCRIPTION’ ... OK\n",
            "* preparing ‘shazam’:\n",
            "* checking DESCRIPTION meta-information ... OK\n",
            "* checking for LF line-endings in source and make files and shell scripts\n",
            "* checking for empty or unneeded directories\n",
            "* building ‘shazam_1.1.1.999.tar.gz’\n",
            "\n"
          ]
        },
        {
          "output_type": "stream",
          "name": "stderr",
          "text": [
            "Installing package into ‘/usr/local/lib/R/site-library’\n",
            "(as ‘lib’ is unspecified)\n",
            "\n",
            "Installing package into ‘/usr/local/lib/R/site-library’\n",
            "(as ‘lib’ is unspecified)\n",
            "\n",
            "also installing the dependencies ‘gridExtra’, ‘gtools’\n",
            "\n",
            "\n",
            "Installing package into ‘/usr/local/lib/R/site-library’\n",
            "(as ‘lib’ is unspecified)\n",
            "\n",
            "Downloading bitbucket repo kleinstein/dowser@master\n",
            "\n"
          ]
        },
        {
          "output_type": "stream",
          "name": "stdout",
          "text": [
            "yulab.utils  (NA -> 0.0.5 ) [CRAN]\n",
            "tidytree     (NA -> 0.3.9 ) [CRAN]\n",
            "gridGraphics (NA -> 0.5-1 ) [CRAN]\n",
            "patchwork    (NA -> 1.1.1 ) [CRAN]\n",
            "ggplotify    (NA -> 0.1.0 ) [CRAN]\n",
            "ggfun        (NA -> 0.0.6 ) [CRAN]\n",
            "quadprog     (NA -> 1.5-8 ) [CRAN]\n",
            "fastmatch    (NA -> 1.1-3 ) [CRAN]\n",
            "treeio       (NA -> 1.20.1) [CRAN]\n",
            "aplot        (NA -> 0.1.6 ) [CRAN]\n",
            "phylotate    (NA -> 1.3   ) [CRAN]\n",
            "phangorn     (NA -> 2.9.0 ) [CRAN]\n",
            "markdown     (NA -> 1.1   ) [CRAN]\n",
            "ggtree       (NA -> 3.4.1 ) [CRAN]\n"
          ]
        },
        {
          "output_type": "stream",
          "name": "stderr",
          "text": [
            "Installing 14 packages: yulab.utils, tidytree, gridGraphics, patchwork, ggplotify, ggfun, quadprog, fastmatch, treeio, aplot, phylotate, phangorn, markdown, ggtree\n",
            "\n",
            "Installing packages into ‘/usr/local/lib/R/site-library’\n",
            "(as ‘lib’ is unspecified)\n",
            "\n"
          ]
        },
        {
          "output_type": "stream",
          "name": "stdout",
          "text": [
            "* checking for file ‘/tmp/Rtmp0FLK8I/remotes4d490e4be8/kleinstein-dowser-0577d6cd455a/DESCRIPTION’ ... OK\n",
            "* preparing ‘dowser’:\n",
            "* checking DESCRIPTION meta-information ... OK\n",
            "* checking for LF line-endings in source and make files and shell scripts\n",
            "* checking for empty or unneeded directories\n",
            "* building ‘dowser_1.0.0.999.tar.gz’\n",
            "\n"
          ]
        },
        {
          "output_type": "stream",
          "name": "stderr",
          "text": [
            "Installing package into ‘/usr/local/lib/R/site-library’\n",
            "(as ‘lib’ is unspecified)\n",
            "\n"
          ]
        }
      ]
    },
    {
      "cell_type": "code",
      "source": [
        "libraries('alakazam','shazam','tigger','scoper','dowser')"
      ],
      "metadata": {
        "colab": {
          "base_uri": "https://localhost:8080/"
        },
        "id": "yUh_WPwvc4Sm",
        "outputId": "9332ac01-4f6b-476f-8af6-a70e50381669"
      },
      "execution_count": null,
      "outputs": [
        {
          "output_type": "stream",
          "name": "stderr",
          "text": [
            "Loading required package: alakazam\n",
            "\n",
            "Loading required package: ggplot2\n",
            "\n",
            "As of v1.0.0 the AIRR Rearrangement schema is now the default file format.\n",
            "A description of the standard is available at https://docs.airr-community.org.\n",
            "The legacy Change-O format is supported through arguments to each function\n",
            "that allow the input column names to be explicitly defined.\n",
            "\n",
            "Loading required package: shazam\n",
            "\n",
            "As of v1.0.0 the AIRR Rearrangement schema is now the default file format.\n",
            "A description of the standard is available at https://docs.airr-community.org.\n",
            "The legacy Change-O format is supported through arguments to each function\n",
            "that allow the input column names to be explicitly defined.\n",
            "\n",
            "Loading required package: tigger\n",
            "\n",
            "As of v1.0.0 the AIRR Rearrangement schema is now the default file format.\n",
            "A description of the standard is available at https://docs.airr-community.org.\n",
            "The legacy Change-O format is supported through arguments to each function\n",
            "that allow the input column names to be explicitly defined.\n",
            "\n",
            "Loading required package: scoper\n",
            "\n",
            "As of v1.0.0 the AIRR Rearrangement schema is now the default file format.\n",
            "A description of the standard is available at https://docs.airr-community.org.\n",
            "The legacy Change-O format is supported through arguments to each function\n",
            "that allow the input column names to be explicitly defined.\n",
            "\n",
            "\n",
            "Attaching package: ‘scoper’\n",
            "\n",
            "\n",
            "The following object is masked from ‘package:alakazam’:\n",
            "\n",
            "    ExampleDb\n",
            "\n",
            "\n",
            "Loading required package: dowser\n",
            "\n",
            "\n",
            "Attaching package: ‘dowser’\n",
            "\n",
            "\n",
            "The following object is masked from ‘package:alakazam’:\n",
            "\n",
            "    ExampleDbChangeo\n",
            "\n",
            "\n",
            "All packages loaded successfully\n",
            "\n"
          ]
        }
      ]
    },
    {
      "cell_type": "markdown",
      "source": [
        "#### For data analysis and figures"
      ],
      "metadata": {
        "id": "bVUQrj8hC1qS"
      }
    },
    {
      "cell_type": "code",
      "source": [
        "install.packages(c(\"data.table\",\"dplyr\",\"ggplot2\",\"cowplot\",\"gridExtra\",\"ggpubr\"))\n",
        "libraries(\"data.table\",\"dplyr\",\"ggplot2\",\"cowplot\",\"gridExtra\",\"ggpubr\")"
      ],
      "metadata": {
        "colab": {
          "base_uri": "https://localhost:8080/"
        },
        "id": "KbM8R07SCRy7",
        "outputId": "92805157-6caa-480d-8ad4-714060cb5862"
      },
      "execution_count": null,
      "outputs": [
        {
          "output_type": "stream",
          "name": "stderr",
          "text": [
            "Installing packages into ‘/usr/local/lib/R/site-library’\n",
            "(as ‘lib’ is unspecified)\n",
            "\n",
            "also installing the dependencies ‘numDeriv’, ‘SparseM’, ‘MatrixModels’, ‘minqa’, ‘nloptr’, ‘RcppEigen’, ‘carData’, ‘abind’, ‘pbkrtest’, ‘quantreg’, ‘maptools’, ‘lme4’, ‘corrplot’, ‘car’, ‘ggrepel’, ‘ggsci’, ‘ggsignif’, ‘polynom’, ‘rstatix’\n",
            "\n",
            "\n",
            "Loading required package: data.table\n",
            "\n",
            "Loading required package: dplyr\n",
            "\n",
            "\n",
            "Attaching package: ‘dplyr’\n",
            "\n",
            "\n",
            "The following objects are masked from ‘package:data.table’:\n",
            "\n",
            "    between, first, last\n",
            "\n",
            "\n",
            "The following objects are masked from ‘package:stats’:\n",
            "\n",
            "    filter, lag\n",
            "\n",
            "\n",
            "The following objects are masked from ‘package:base’:\n",
            "\n",
            "    intersect, setdiff, setequal, union\n",
            "\n",
            "\n",
            "Loading required package: cowplot\n",
            "\n",
            "Loading required package: gridExtra\n",
            "\n",
            "\n",
            "Attaching package: ‘gridExtra’\n",
            "\n",
            "\n",
            "The following object is masked from ‘package:dplyr’:\n",
            "\n",
            "    combine\n",
            "\n",
            "\n",
            "Loading required package: ggpubr\n",
            "\n",
            "\n",
            "Attaching package: ‘ggpubr’\n",
            "\n",
            "\n",
            "The following object is masked from ‘package:cowplot’:\n",
            "\n",
            "    get_legend\n",
            "\n",
            "\n",
            "All packages loaded successfully\n",
            "\n"
          ]
        }
      ]
    },
    {
      "cell_type": "markdown",
      "source": [
        "### Download Immcantation scripts \n",
        "Folder `Immcantation` will be created"
      ],
      "metadata": {
        "id": "z-o7h1Nf4H6U"
      }
    },
    {
      "cell_type": "code",
      "source": [
        "system2(command = \"git\", \n",
        "        args    = c(\"clone\", \"https://bitbucket.org/kleinstein/immcantation.git\"))"
      ],
      "metadata": {
        "id": "KypuiS9V3LBm"
      },
      "execution_count": null,
      "outputs": []
    },
    {
      "cell_type": "markdown",
      "source": [
        "### Download IMGT germline references\n",
        "This will create folders `human`, `mouse`, `rabbit`, `rat`, and `rhesus_monkey`. This step can take 40 min."
      ],
      "metadata": {
        "id": "mbqut31y1xBw"
      }
    },
    {
      "cell_type": "code",
      "source": [
        "system2(command = \"bash\", args = c(\"./immcantation/scripts/fetch_imgtdb.sh\"))"
      ],
      "metadata": {
        "id": "1fm4JxDx4N8c"
      },
      "execution_count": null,
      "outputs": []
    },
    {
      "cell_type": "markdown",
      "source": [
        "## Read clone data in rds format "
      ],
      "metadata": {
        "id": "TfuL8A6KyaFs"
      }
    },
    {
      "cell_type": "code",
      "source": [
        "results <- readRDS('hierarchicalClones_results.rds')\n",
        "results_spec <- readRDS('spectralClones_results.rds')\n",
        "results_nt <- readRDS('identicalClones_nt_results.rds')\n",
        "results_aa <- readRDS('identicalClones_aa_results.rds')"
      ],
      "metadata": {
        "id": "WcTM_fJ_xt_v",
        "colab": {
          "base_uri": "https://localhost:8080/",
          "height": 187
        },
        "outputId": "ecd4d558-d21e-459a-cbda-1cd8a355ec7d"
      },
      "execution_count": 50,
      "outputs": [
        {
          "output_type": "stream",
          "name": "stderr",
          "text": [
            "Warning message in gzfile(file, \"rb\"):\n",
            "“cannot open compressed file 'hierarchicalClones_results.rds', probable reason 'No such file or directory'”\n"
          ]
        },
        {
          "output_type": "error",
          "ename": "ERROR",
          "evalue": "ignored",
          "traceback": [
            "Error in gzfile(file, \"rb\"): cannot open the connection\nTraceback:\n",
            "1. readRDS(\"hierarchicalClones_results.rds\")",
            "2. gzfile(file, \"rb\")"
          ]
        }
      ]
    },
    {
      "cell_type": "markdown",
      "source": [
        "## Create Germlines\n",
        "[`createGermlines`](https://dowser.readthedocs.io/en/latest/topics/createGermlines/) determines consenus clone sequence and create germline for clone.\n"
      ],
      "metadata": {
        "id": "E8Vs2Rmlgths"
      }
    },
    {
      "cell_type": "markdown",
      "source": [
        "### For clones generated from hierachical clustering"
      ],
      "metadata": {
        "id": "SyIF3DsRvqdf"
      }
    },
    {
      "cell_type": "code",
      "source": [
        "references <- readIMGT(dir = \"/content/human/vdj\")\n",
        "h <- createGermlines(filter(results@db, locus == \"IGH\"), references)\n",
        "k <- createGermlines(filter(results@db, locus == \"IGK\"), references, locus = \"IGK\")\n",
        "l <- createGermlines(filter(results@db, locus == \"IGL\"), references, locus = \"IGL\")"
      ],
      "metadata": {
        "colab": {
          "base_uri": "https://localhost:8080/"
        },
        "id": "BS9UVXcO9P5n",
        "outputId": "7ec53f13-1507-4f56-83cf-beaf3e185424"
      },
      "execution_count": null,
      "outputs": [
        {
          "output_type": "stream",
          "name": "stdout",
          "text": [
            "[1] \"Read in 1148 from 17 fasta files\"\n",
            "<simpleError in buildGermline(cons, references = sub_db, seq = seq, v_call = v_call,     j_call = j_call, j_germ_length = j_germ_length, amino_acid = amino_acid,     ...): Germline sequence differs from input sequence by -6 in clone 56>\n",
            "<simpleError in buildGermline(cons, references = sub_db, seq = seq, v_call = v_call,     j_call = j_call, j_germ_length = j_germ_length, amino_acid = amino_acid,     ...): Germline sequence differs from input sequence by -5 in clone 258>\n",
            "<simpleError in buildGermline(cons, references = sub_db, seq = seq, v_call = v_call,     j_call = j_call, j_germ_length = j_germ_length, amino_acid = amino_acid,     ...): Germline sequence differs from input sequence by -5 in clone 922>\n"
          ]
        }
      ]
    },
    {
      "cell_type": "markdown",
      "source": [
        "### For clones generated from amino acid sequence similarity "
      ],
      "metadata": {
        "id": "j7Zjwcr_wg81"
      }
    },
    {
      "cell_type": "code",
      "source": [
        "h_aa <- createGermlines(filter(results_aa@db, locus == \"IGH\"), references)\n",
        "k_aa <- createGermlines(filter(results_aa@db, locus == \"IGK\"), references, locus = \"IGK\")\n",
        "l_aa <- createGermlines(filter(results_aa@db, locus == \"IGL\"), references, locus = \"IGL\")"
      ],
      "metadata": {
        "colab": {
          "base_uri": "https://localhost:8080/"
        },
        "id": "aQeX9NldwYW-",
        "outputId": "8256db0b-f5bb-410d-d99c-d2888c7f14d8"
      },
      "execution_count": null,
      "outputs": [
        {
          "output_type": "stream",
          "name": "stdout",
          "text": [
            "<simpleError in buildGermline(cons, references = sub_db, seq = seq, v_call = v_call,     j_call = j_call, j_germ_length = j_germ_length, amino_acid = amino_acid,     ...): Germline sequence differs from input sequence by -6 in clone 63>\n",
            "<simpleError in buildGermline(cons, references = sub_db, seq = seq, v_call = v_call,     j_call = j_call, j_germ_length = j_germ_length, amino_acid = amino_acid,     ...): Germline sequence differs from input sequence by -5 in clone 258>\n",
            "<simpleError in buildGermline(cons, references = sub_db, seq = seq, v_call = v_call,     j_call = j_call, j_germ_length = j_germ_length, amino_acid = amino_acid,     ...): Germline sequence differs from input sequence by -5 in clone 958>\n"
          ]
        }
      ]
    },
    {
      "cell_type": "markdown",
      "source": [
        "## Calculate Somatic Hyper Mutations frequency in V gene\n",
        "\n",
        "`observeMutations` calculates the observed number of mutations for each sequence."
      ],
      "metadata": {
        "id": "Ex8ePoOErQHS"
      }
    },
    {
      "cell_type": "markdown",
      "source": [
        "### Hierachical clustered clones"
      ],
      "metadata": {
        "id": "4XQZoGg8w4xU"
      }
    },
    {
      "cell_type": "code",
      "source": [
        "data_h <- observedMutations(h, \n",
        "                            sequenceColumn = \"sequence_alignment\",\n",
        "                            germlineColumn = \"germline_alignment_d_mask\",\n",
        "                            regionDefinition = IMGT_V,\n",
        "                            frequency = TRUE,\n",
        "                            combine = TRUE, \n",
        "                            nproc = 5)"
      ],
      "metadata": {
        "id": "jkyqgae3faVn"
      },
      "execution_count": null,
      "outputs": []
    },
    {
      "cell_type": "markdown",
      "source": [
        "### Amino Acid sequence clustered clones"
      ],
      "metadata": {
        "id": "ofIx5McnxFdK"
      }
    },
    {
      "cell_type": "code",
      "source": [
        "data_h_aa <- observedMutations(h_aa, \n",
        "                            sequenceColumn = \"sequence_alignment\",\n",
        "                            germlineColumn = \"germline_alignment_d_mask\",\n",
        "                            regionDefinition = IMGT_V,\n",
        "                            frequency = TRUE,\n",
        "                            combine = TRUE, \n",
        "                            nproc = 5)"
      ],
      "metadata": {
        "id": "cJGIDqznxCPL"
      },
      "execution_count": null,
      "outputs": []
    },
    {
      "cell_type": "code",
      "source": [
        "glimpse(data_h)"
      ],
      "metadata": {
        "colab": {
          "base_uri": "https://localhost:8080/"
        },
        "id": "JFr7gRQc9hkf",
        "outputId": "14fb2809-96d5-4009-fb72-f4429402b241"
      },
      "execution_count": null,
      "outputs": [
        {
          "output_type": "stream",
          "name": "stdout",
          "text": [
            "Rows: 7,523\n",
            "Columns: 64\n",
            "$ sequence_id               \u001b[3m\u001b[90m<chr>\u001b[39m\u001b[23m \"CAGGTGCAGAAACCAT-1_contig_2\", \"CTCAGAACAAAC…\n",
            "$ sequence                  \u001b[3m\u001b[90m<chr>\u001b[39m\u001b[23m \"ACCCAAAAACCACACCCCTCCTTGGGAGAATCCCCTAGATCAC…\n",
            "$ rev_comp                  \u001b[3m\u001b[90m<lgl>\u001b[39m\u001b[23m FALSE, FALSE, FALSE, FALSE, FALSE, FALSE, FA…\n",
            "$ productive                \u001b[3m\u001b[90m<lgl>\u001b[39m\u001b[23m TRUE, TRUE, TRUE, TRUE, TRUE, TRUE, TRUE, TR…\n",
            "$ v_call                    \u001b[3m\u001b[90m<chr>\u001b[39m\u001b[23m \"IGHV1-18*01\", \"IGHV3-33*06\", \"IGHV3-30*02,I…\n",
            "$ d_call                    \u001b[3m\u001b[90m<chr>\u001b[39m\u001b[23m \"IGHD6-13*01\", \"IGHD2-15*01\", \"IGHD1-1*01,IG…\n",
            "$ j_call                    \u001b[3m\u001b[90m<chr>\u001b[39m\u001b[23m \"IGHJ1*01\", \"IGHJ6*02\", \"IGHJ6*03\", \"IGHJ4*0…\n",
            "$ sequence_alignment        \u001b[3m\u001b[90m<chr>\u001b[39m\u001b[23m \"CAGGTTCAGCTGGTGCAGTCTGGAGCT...GAGGTGAAGAAGC…\n",
            "$ germline_alignment        \u001b[3m\u001b[90m<chr>\u001b[39m\u001b[23m \"CAGGTTCAGCTGGTGCAGTCTGGAGCT...GAGGTGAAGAAGC…\n",
            "$ junction                  \u001b[3m\u001b[90m<chr>\u001b[39m\u001b[23m \"TGTGCGAGAGAACAGTATAGCAGCAGCTGGTATAAGCCGGGGG…\n",
            "$ junction_aa               \u001b[3m\u001b[90m<chr>\u001b[39m\u001b[23m \"CAREQYSSSWYKPGGFQHW\", \"CAKDSGCSGGSCYSGAHYYY…\n",
            "$ v_cigar                   \u001b[3m\u001b[90m<chr>\u001b[39m\u001b[23m \"111S296=\", \"174S296=\", \"137S179=1X114=\", \"1…\n",
            "$ d_cigar                   \u001b[3m\u001b[90m<chr>\u001b[39m\u001b[23m \"410S2N18=\", \"476S6N25=\", \"434S9N6=\", \"421S7…\n",
            "$ j_cigar                   \u001b[3m\u001b[90m<chr>\u001b[39m\u001b[23m \"441S9N43=\", \"508S6N56=\", \"442S4N58=\", \"435S…\n",
            "$ stop_codon                \u001b[3m\u001b[90m<lgl>\u001b[39m\u001b[23m FALSE, FALSE, FALSE, FALSE, FALSE, FALSE, FA…\n",
            "$ vj_in_frame               \u001b[3m\u001b[90m<lgl>\u001b[39m\u001b[23m TRUE, TRUE, TRUE, TRUE, TRUE, TRUE, TRUE, TR…\n",
            "$ locus                     \u001b[3m\u001b[90m<chr>\u001b[39m\u001b[23m \"IGH\", \"IGH\", \"IGH\", \"IGH\", \"IGH\", \"IGH\", \"I…\n",
            "$ junction_length           \u001b[3m\u001b[90m<dbl>\u001b[39m\u001b[23m 57, 75, 48, 42, 51, 60, 33, 33, 48, 51, 42, …\n",
            "$ np1_length                \u001b[3m\u001b[90m<dbl>\u001b[39m\u001b[23m 3, 6, 3, 11, 4, 16, 1, 2, 7, 3, 8, 1, 4, 10,…\n",
            "$ np2_length                \u001b[3m\u001b[90m<dbl>\u001b[39m\u001b[23m 13, 7, 2, 6, 9, 4, 1, 2, 6, 10, 6, NA, 5, 5,…\n",
            "$ v_sequence_start          \u001b[3m\u001b[90m<dbl>\u001b[39m\u001b[23m 112, 175, 138, 118, 137, 137, 137, 137, 137,…\n",
            "$ v_sequence_end            \u001b[3m\u001b[90m<dbl>\u001b[39m\u001b[23m 407, 470, 431, 410, 428, 427, 424, 427, 431,…\n",
            "$ v_germline_start          \u001b[3m\u001b[90m<dbl>\u001b[39m\u001b[23m 1, 1, 1, 1, 1, 1, 1, 1, 1, 1, 1, 1, 1, 1, 1,…\n",
            "$ v_germline_end            \u001b[3m\u001b[90m<dbl>\u001b[39m\u001b[23m 320, 320, 318, 320, 319, 318, 315, 318, 319,…\n",
            "$ d_sequence_start          \u001b[3m\u001b[90m<dbl>\u001b[39m\u001b[23m 411, 477, 435, 422, 433, 444, 426, 430, 439,…\n",
            "$ d_sequence_end            \u001b[3m\u001b[90m<dbl>\u001b[39m\u001b[23m 428, 501, 440, 429, 454, 465, 442, 439, 450,…\n",
            "$ d_germline_start          \u001b[3m\u001b[90m<dbl>\u001b[39m\u001b[23m 3, 7, 10, 8, 4, 3, 5, 10, 8, 1, 9, NA, 4, 8,…\n",
            "$ d_germline_end            \u001b[3m\u001b[90m<dbl>\u001b[39m\u001b[23m 20, 31, 15, 15, 25, 24, 21, 19, 19, 18, 15, …\n",
            "$ j_sequence_start          \u001b[3m\u001b[90m<dbl>\u001b[39m\u001b[23m 442, 509, 443, 436, 464, 470, 444, 442, 457,…\n",
            "$ j_sequence_end            \u001b[3m\u001b[90m<dbl>\u001b[39m\u001b[23m 484, 564, 500, 472, 500, 509, 482, 482, 500,…\n",
            "$ j_germline_start          \u001b[3m\u001b[90m<dbl>\u001b[39m\u001b[23m 10, 7, 5, 12, 12, 9, 10, 8, 5, 9, 6, 8, 15, …\n",
            "$ j_germline_end            \u001b[3m\u001b[90m<dbl>\u001b[39m\u001b[23m 52, 62, 62, 48, 48, 48, 48, 48, 48, 48, 48, …\n",
            "$ v_score                   \u001b[3m\u001b[90m<dbl>\u001b[39m\u001b[23m 463, 463, 456, 455, 456, 455, 450, 455, 461,…\n",
            "$ v_identity                \u001b[3m\u001b[90m<dbl>\u001b[39m\u001b[23m 1.00000, 1.00000, 0.99660, 0.99659, 1.00000,…\n",
            "$ v_support                 \u001b[3m\u001b[90m<dbl>\u001b[39m\u001b[23m 3.77e-132, 4.35e-132, 2.93e-130, 8.16e-130, …\n",
            "$ d_score                   \u001b[3m\u001b[90m<dbl>\u001b[39m\u001b[23m 35.3, 48.8, 12.2, 16.1, 43.0, 43.0, 33.4, 14…\n",
            "$ d_identity                \u001b[3m\u001b[90m<dbl>\u001b[39m\u001b[23m 1.00000, 1.00000, 1.00000, 1.00000, 1.00000,…\n",
            "$ d_support                 \u001b[3m\u001b[90m<dbl>\u001b[39m\u001b[23m 8.14e-06, 8.30e-10, 7.40e+01, 4.90e+00, 4.28…\n",
            "$ j_score                   \u001b[3m\u001b[90m<dbl>\u001b[39m\u001b[23m 83.4, 108.0, 112.0, 71.8, 71.8, 77.6, 75.7, …\n",
            "$ j_identity                \u001b[3m\u001b[90m<dbl>\u001b[39m\u001b[23m 1.00000, 1.00000, 1.00000, 1.00000, 1.00000,…\n",
            "$ j_support                 \u001b[3m\u001b[90m<dbl>\u001b[39m\u001b[23m 4.70e-20, 1.61e-27, 1.01e-28, 1.36e-16, 1.52…\n",
            "$ fwr1                      \u001b[3m\u001b[90m<chr>\u001b[39m\u001b[23m \"CAGGTTCAGCTGGTGCAGTCTGGAGCT...GAGGTGAAGAAGC…\n",
            "$ fwr2                      \u001b[3m\u001b[90m<chr>\u001b[39m\u001b[23m \"ATCAGCTGGGTGCGACAGGCCCCTGGACAAGGGCTTGAGTGGA…\n",
            "$ fwr3                      \u001b[3m\u001b[90m<chr>\u001b[39m\u001b[23m \"AACTATGCACAGAAGCTCCAG...GGCAGAGTCACCATGACCA…\n",
            "$ fwr4                      \u001b[3m\u001b[90m<chr>\u001b[39m\u001b[23m \"TGGGGCCAGGGCACCCTGGTCACCGTCTCCTCAG\", \"TGGGG…\n",
            "$ cdr1                      \u001b[3m\u001b[90m<chr>\u001b[39m\u001b[23m \"GGTTACACCTTT............ACCAGCTATGGT\", \"GGA…\n",
            "$ cdr2                      \u001b[3m\u001b[90m<chr>\u001b[39m\u001b[23m \"ATCAGCGCTTAC......AATGGTAACACA\", \"ATATGGTAT…\n",
            "$ cdr3                      \u001b[3m\u001b[90m<chr>\u001b[39m\u001b[23m \"GCGAGAGAACAGTATAGCAGCAGCTGGTATAAGCCGGGGGGGT…\n",
            "$ cell_id                   \u001b[3m\u001b[90m<chr>\u001b[39m\u001b[23m \"CAGGTGCAGAAACCAT-1\", \"CTCAGAACAAACCTAC-1\", …\n",
            "$ c_call                    \u001b[3m\u001b[90m<chr>\u001b[39m\u001b[23m \"IGHM\", \"IGHM\", \"IGHM\", \"IGHM\", \"IGHD\", \"IGH…\n",
            "$ consensus_count           \u001b[3m\u001b[90m<dbl>\u001b[39m\u001b[23m 2060, 780, 680, 1300, 160, 1742, 1618, 632, …\n",
            "$ umi_count                 \u001b[3m\u001b[90m<dbl>\u001b[39m\u001b[23m 33, 11, 12, 17, 3, 30, 26, 10, 21, 6, 5, 13,…\n",
            "$ v_call_10x                \u001b[3m\u001b[90m<chr>\u001b[39m\u001b[23m \"IGHV1-18\", \"IGHV3-33\", \"IGHV3-33\", \"IGHV3-6…\n",
            "$ d_call_10x                \u001b[3m\u001b[90m<chr>\u001b[39m\u001b[23m \"IGHD6-13\", \"IGHD2-15\", NA, NA, \"IGHD2-15\", …\n",
            "$ j_call_10x                \u001b[3m\u001b[90m<chr>\u001b[39m\u001b[23m \"IGHJ1\", \"IGHJ6\", \"IGHJ6\", \"IGHJ4\", \"IGHJ4\",…\n",
            "$ junction_10x              \u001b[3m\u001b[90m<chr>\u001b[39m\u001b[23m \"TGTGCGAGAGAACAGTATAGCAGCAGCTGGTATAAGCCGGGGG…\n",
            "$ junction_10x_aa           \u001b[3m\u001b[90m<chr>\u001b[39m\u001b[23m \"CAREQYSSSWYKPGGFQHW\", \"CAKDSGCSGGSCYSGAHYYY…\n",
            "$ v_call_genotyped          \u001b[3m\u001b[90m<chr>\u001b[39m\u001b[23m \"IGHV1-18*01\", \"IGHV3-33*06\", \"IGHV3-30*02_T…\n",
            "$ clone_id                  \u001b[3m\u001b[90m<chr>\u001b[39m\u001b[23m \"1\", \"2\", \"3\", \"4\", \"5\", \"6\", \"7\", \"8\", \"9\",…\n",
            "$ v_germline_length         \u001b[3m\u001b[90m<dbl>\u001b[39m\u001b[23m 320, 320, 318, 320, 319, 318, 315, 318, 319,…\n",
            "$ d_germline_length         \u001b[3m\u001b[90m<dbl>\u001b[39m\u001b[23m 18, 25, 6, 8, 22, 22, 17, 10, 12, 18, 7, NA,…\n",
            "$ j_germline_length         \u001b[3m\u001b[90m<dbl>\u001b[39m\u001b[23m 43, 56, 58, 37, 37, 40, 39, 41, 44, 40, 43, …\n",
            "$ germline_alignment_d_mask \u001b[3m\u001b[90m<chr>\u001b[39m\u001b[23m \"CAGGTTCAGCTGGTGCAGTCTGGAGCT...GAGGTGAAGAAGC…\n",
            "$ mu_freq                   \u001b[3m\u001b[90m<dbl>\u001b[39m\u001b[23m 0.000000000, 0.000000000, 0.003472222, 0.000…\n"
          ]
        }
      ]
    },
    {
      "cell_type": "markdown",
      "source": [
        "## Visualize median mutation frequency"
      ],
      "metadata": {
        "id": "hCRNJ4wIwLq3"
      }
    },
    {
      "cell_type": "code",
      "source": [
        "# calculate the median mutation frequency of a clone\n",
        "mut_freq_clone <- data_h %>% \n",
        "                  group_by(clone_id) %>% \n",
        "                  summarise(median_mut_freq = mean(mu_freq))\n",
        "\n",
        "mut_freq_clone_aa <- data_h_aa %>% \n",
        "                  group_by(clone_id) %>% \n",
        "                  summarise(median_mut_freq = mean(mu_freq))"
      ],
      "metadata": {
        "id": "4ct_fgNSwMJU"
      },
      "execution_count": null,
      "outputs": []
    },
    {
      "cell_type": "code",
      "source": [
        "mmf <- ggplot(mut_freq_clone, aes(median_mut_freq)) + \n",
        "    geom_histogram(, binwidth = 0.005) + theme_bw() +\n",
        "    theme(axis.title = element_text(size = 18))\n",
        "mmf_aa <- ggplot(mut_freq_clone_aa, aes(median_mut_freq)) + \n",
        "    geom_histogram(, binwidth = 0.005) + theme_bw() +\n",
        "    theme(axis.title = element_text(size = 18))"
      ],
      "metadata": {
        "id": "lFOib2o9xiE8"
      },
      "execution_count": null,
      "outputs": []
    },
    {
      "cell_type": "code",
      "source": [
        "options(repr.plot.width = 13, repr.plot.height = 5)\n",
        "plot_grid(mmf, mmf_aa, labels = c('hierachical','amino acid'), ncol = 2, nrow = 1)"
      ],
      "metadata": {
        "colab": {
          "base_uri": "https://localhost:8080/",
          "height": 317
        },
        "id": "_JqD0FPrxqq9",
        "outputId": "2e291cd7-fdbb-465a-dfbc-69bf5a4dc752"
      },
      "execution_count": null,
      "outputs": [
        {
          "output_type": "display_data",
          "data": {
            "text/plain": [
              "plot without title"
            ],
            "image/png": "[encoded data removed]"
          },
          "metadata": {
            "image/png": {
              "width": 780,
              "height": 300
            }
          }
        }
      ]
    },
    {
      "cell_type": "code",
      "source": [
        ""
      ],
      "metadata": {
        "id": "UlTvX2M_x4og"
      },
      "execution_count": null,
      "outputs": []
    }
  ]
}